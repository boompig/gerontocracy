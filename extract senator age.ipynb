{
 "cells": [
  {
   "cell_type": "markdown",
   "metadata": {},
   "source": [
    "# Gerontocracy\n",
    "\n",
    "After hearing a crazy stat - that the US senate has never been older (on average) than it is today, I decided to pull that for a variety of legislative bodies and plot them to find just how geriatric our politics has become."
   ]
  },
  {
   "cell_type": "code",
   "execution_count": 1,
   "metadata": {},
   "outputs": [],
   "source": [
    "from bs4 import BeautifulSoup"
   ]
  },
  {
   "cell_type": "code",
   "execution_count": 2,
   "metadata": {},
   "outputs": [],
   "source": [
    "import requests"
   ]
  },
  {
   "cell_type": "code",
   "execution_count": 3,
   "metadata": {},
   "outputs": [],
   "source": [
    "import pandas as pd"
   ]
  },
  {
   "cell_type": "code",
   "execution_count": 4,
   "metadata": {},
   "outputs": [
    {
     "data": {
      "text/plain": [
       "<module 'wiki_utils' from '/Users/Daniel_Kats/prog/senator-age/wiki_utils.py'>"
      ]
     },
     "execution_count": 4,
     "metadata": {},
     "output_type": "execute_result"
    }
   ],
   "source": [
    "import importlib\n",
    "import wiki_utils\n",
    "importlib.reload(wiki_utils)"
   ]
  },
  {
   "cell_type": "code",
   "execution_count": 5,
   "metadata": {},
   "outputs": [],
   "source": [
    "import os"
   ]
  },
  {
   "cell_type": "code",
   "execution_count": 11,
   "metadata": {},
   "outputs": [
    {
     "data": {
      "text/plain": [
       "<module 'date_utils' from '/Users/Daniel_Kats/prog/senator-age/date_utils.py'>"
      ]
     },
     "execution_count": 11,
     "metadata": {},
     "output_type": "execute_result"
    }
   ],
   "source": [
    "import date_utils\n",
    "importlib.reload(date_utils)"
   ]
  },
  {
   "cell_type": "markdown",
   "metadata": {},
   "source": [
    "## US Senators - Extract Data"
   ]
  },
  {
   "cell_type": "code",
   "execution_count": 6,
   "metadata": {},
   "outputs": [],
   "source": [
    "if os.path.exists('data/us_senators/senators-with-ages.parquet'):\n",
    "    us_sens = pd.read_parquet('data/us_senators/senators-with-ages.parquet')\n",
    "else:\n",
    "    url = 'https://en.wikipedia.org/wiki/List_of_current_United_States_senators'\n",
    "    table = wiki_utils.extract_wikitable(url, id=\"senators\")\n",
    "    cols = wiki_utils.extract_wikitable_schema(table)\n",
    "    rows = wiki_utils.extract_wikitable_content(table, cols)\n",
    "    us_sens = pd.DataFrame(rows)"
   ]
  },
  {
   "cell_type": "code",
   "execution_count": 7,
   "metadata": {
    "collapsed": true,
    "jupyter": {
     "outputs_hidden": true
    }
   },
   "outputs": [
    {
     "data": {
      "text/html": [
       "<div>\n",
       "<style scoped>\n",
       "    .dataframe tbody tr th:only-of-type {\n",
       "        vertical-align: middle;\n",
       "    }\n",
       "\n",
       "    .dataframe tbody tr th {\n",
       "        vertical-align: top;\n",
       "    }\n",
       "\n",
       "    .dataframe thead th {\n",
       "        text-align: right;\n",
       "    }\n",
       "</style>\n",
       "<table border=\"1\" class=\"dataframe\">\n",
       "  <thead>\n",
       "    <tr style=\"text-align: right;\">\n",
       "      <th></th>\n",
       "      <th>State</th>\n",
       "      <th>Image</th>\n",
       "      <th>Senator</th>\n",
       "      <th>Party - 1</th>\n",
       "      <th>Party - 2</th>\n",
       "      <th>Born</th>\n",
       "      <th>Occupation(s)</th>\n",
       "      <th>Previousoffice(s)</th>\n",
       "      <th>Assumed office</th>\n",
       "      <th>Term up</th>\n",
       "      <th>Residence</th>\n",
       "      <th>wiki_age</th>\n",
       "      <th>calculated_age</th>\n",
       "    </tr>\n",
       "  </thead>\n",
       "  <tbody>\n",
       "    <tr>\n",
       "      <th>0</th>\n",
       "      <td>Alabama</td>\n",
       "      <td></td>\n",
       "      <td>Richard Shelby</td>\n",
       "      <td></td>\n",
       "      <td>Republican</td>\n",
       "      <td>(1934-05-06) May 6, 1934 (age 86)</td>\n",
       "      <td>Lawyer</td>\n",
       "      <td>U.S. HouseAlabama Senate</td>\n",
       "      <td>January 3, 1987</td>\n",
       "      <td>2022</td>\n",
       "      <td>Tuscaloosa[1]</td>\n",
       "      <td>86</td>\n",
       "      <td>86</td>\n",
       "    </tr>\n",
       "    <tr>\n",
       "      <th>1</th>\n",
       "      <td>Alabama</td>\n",
       "      <td></td>\n",
       "      <td>Doug Jones</td>\n",
       "      <td></td>\n",
       "      <td>Democratic</td>\n",
       "      <td>(1954-05-04) May 4, 1954 (age 66)</td>\n",
       "      <td>Lawyer</td>\n",
       "      <td>Staff counsel, U.S. Senate Judiciary Committee...</td>\n",
       "      <td>January 3, 2018[d]</td>\n",
       "      <td>2020</td>\n",
       "      <td>Birmingham[1]</td>\n",
       "      <td>66</td>\n",
       "      <td>66</td>\n",
       "    </tr>\n",
       "    <tr>\n",
       "      <th>2</th>\n",
       "      <td>Alaska</td>\n",
       "      <td></td>\n",
       "      <td>Lisa Murkowski</td>\n",
       "      <td></td>\n",
       "      <td>Republican</td>\n",
       "      <td>(1957-05-22) May 22, 1957 (age 62)</td>\n",
       "      <td>Lawyer</td>\n",
       "      <td>Alaska House of Representatives</td>\n",
       "      <td>December 20, 2002</td>\n",
       "      <td>2022</td>\n",
       "      <td>Anchorage[3]</td>\n",
       "      <td>62</td>\n",
       "      <td>63</td>\n",
       "    </tr>\n",
       "    <tr>\n",
       "      <th>3</th>\n",
       "      <td>Alaska</td>\n",
       "      <td></td>\n",
       "      <td>Dan Sullivan</td>\n",
       "      <td></td>\n",
       "      <td>Republican</td>\n",
       "      <td>(1964-11-13) November 13, 1964 (age 55)</td>\n",
       "      <td>U.S. Marine Corps officerLawyer</td>\n",
       "      <td>Alaska Attorney GeneralAssistant Secretary of ...</td>\n",
       "      <td>January 3, 2015</td>\n",
       "      <td>2020</td>\n",
       "      <td>Anchorage[3]</td>\n",
       "      <td>55</td>\n",
       "      <td>55</td>\n",
       "    </tr>\n",
       "    <tr>\n",
       "      <th>4</th>\n",
       "      <td>Arizona</td>\n",
       "      <td></td>\n",
       "      <td>Kyrsten Sinema</td>\n",
       "      <td></td>\n",
       "      <td>Democratic</td>\n",
       "      <td>(1976-07-12) July 12, 1976 (age 43)</td>\n",
       "      <td>Social workerPolitical activistLawyerCollege p...</td>\n",
       "      <td>U.S. HouseArizona SenateArizona House of Repre...</td>\n",
       "      <td>January 3, 2019</td>\n",
       "      <td>2024</td>\n",
       "      <td>Phoenix[4]</td>\n",
       "      <td>43</td>\n",
       "      <td>43</td>\n",
       "    </tr>\n",
       "    <tr>\n",
       "      <th>...</th>\n",
       "      <td>...</td>\n",
       "      <td>...</td>\n",
       "      <td>...</td>\n",
       "      <td>...</td>\n",
       "      <td>...</td>\n",
       "      <td>...</td>\n",
       "      <td>...</td>\n",
       "      <td>...</td>\n",
       "      <td>...</td>\n",
       "      <td>...</td>\n",
       "      <td>...</td>\n",
       "      <td>...</td>\n",
       "      <td>...</td>\n",
       "    </tr>\n",
       "    <tr>\n",
       "      <th>95</th>\n",
       "      <td>West Virginia</td>\n",
       "      <td></td>\n",
       "      <td>Shelley Moore Capito</td>\n",
       "      <td></td>\n",
       "      <td>Republican</td>\n",
       "      <td>(1953-11-26) November 26, 1953 (age 66)</td>\n",
       "      <td>College career counselorDirector, state Board ...</td>\n",
       "      <td>U.S. HouseWest Virginia House of Delegates</td>\n",
       "      <td>January 3, 2015</td>\n",
       "      <td>2020</td>\n",
       "      <td>Charleston</td>\n",
       "      <td>66</td>\n",
       "      <td>66</td>\n",
       "    </tr>\n",
       "    <tr>\n",
       "      <th>96</th>\n",
       "      <td>Wisconsin</td>\n",
       "      <td></td>\n",
       "      <td>Ron Johnson</td>\n",
       "      <td></td>\n",
       "      <td>Republican</td>\n",
       "      <td>(1955-04-08) April 8, 1955 (age 65)</td>\n",
       "      <td>AccountantCorporate executive</td>\n",
       "      <td>None</td>\n",
       "      <td>January 3, 2011</td>\n",
       "      <td>2022</td>\n",
       "      <td>Oshkosh</td>\n",
       "      <td>65</td>\n",
       "      <td>65</td>\n",
       "    </tr>\n",
       "    <tr>\n",
       "      <th>97</th>\n",
       "      <td>Wisconsin</td>\n",
       "      <td></td>\n",
       "      <td>Tammy Baldwin</td>\n",
       "      <td></td>\n",
       "      <td>Democratic</td>\n",
       "      <td>(1962-02-11) February 11, 1962 (age 58)</td>\n",
       "      <td>Lawyer</td>\n",
       "      <td>U.S. HouseWisconsin AssemblyDane County, Wisco...</td>\n",
       "      <td>January 3, 2013</td>\n",
       "      <td>2024</td>\n",
       "      <td>Madison</td>\n",
       "      <td>58</td>\n",
       "      <td>58</td>\n",
       "    </tr>\n",
       "    <tr>\n",
       "      <th>98</th>\n",
       "      <td>Wyoming</td>\n",
       "      <td></td>\n",
       "      <td>Mike Enzi</td>\n",
       "      <td></td>\n",
       "      <td>Republican</td>\n",
       "      <td>(1944-02-01) February 1, 1944 (age 76)</td>\n",
       "      <td>Nonprofit organization executiveAccountantCEOM...</td>\n",
       "      <td>Wyoming House of RepresentativesWyoming Senate</td>\n",
       "      <td>January 3, 1997</td>\n",
       "      <td>2020</td>\n",
       "      <td>Gillette</td>\n",
       "      <td>76</td>\n",
       "      <td>76</td>\n",
       "    </tr>\n",
       "    <tr>\n",
       "      <th>99</th>\n",
       "      <td>Wyoming</td>\n",
       "      <td></td>\n",
       "      <td>John Barrasso</td>\n",
       "      <td></td>\n",
       "      <td>Republican</td>\n",
       "      <td>(1952-07-21) July 21, 1952 (age 67)</td>\n",
       "      <td>Orthopedic surgeonMedical chief of staffNonpro...</td>\n",
       "      <td>Wyoming Senate</td>\n",
       "      <td>June 25, 2007</td>\n",
       "      <td>2024</td>\n",
       "      <td>Casper</td>\n",
       "      <td>67</td>\n",
       "      <td>67</td>\n",
       "    </tr>\n",
       "  </tbody>\n",
       "</table>\n",
       "<p>100 rows × 13 columns</p>\n",
       "</div>"
      ],
      "text/plain": [
       "            State Image               Senator Party - 1   Party - 2  \\\n",
       "0         Alabama              Richard Shelby            Republican   \n",
       "1         Alabama                  Doug Jones            Democratic   \n",
       "2          Alaska              Lisa Murkowski            Republican   \n",
       "3          Alaska                Dan Sullivan            Republican   \n",
       "4         Arizona              Kyrsten Sinema            Democratic   \n",
       "..            ...   ...                   ...       ...         ...   \n",
       "95  West Virginia        Shelley Moore Capito            Republican   \n",
       "96      Wisconsin                 Ron Johnson            Republican   \n",
       "97      Wisconsin               Tammy Baldwin            Democratic   \n",
       "98        Wyoming                   Mike Enzi            Republican   \n",
       "99        Wyoming               John Barrasso            Republican   \n",
       "\n",
       "                                       Born  \\\n",
       "0         (1934-05-06) May 6, 1934 (age 86)   \n",
       "1         (1954-05-04) May 4, 1954 (age 66)   \n",
       "2        (1957-05-22) May 22, 1957 (age 62)   \n",
       "3   (1964-11-13) November 13, 1964 (age 55)   \n",
       "4       (1976-07-12) July 12, 1976 (age 43)   \n",
       "..                                      ...   \n",
       "95  (1953-11-26) November 26, 1953 (age 66)   \n",
       "96      (1955-04-08) April 8, 1955 (age 65)   \n",
       "97  (1962-02-11) February 11, 1962 (age 58)   \n",
       "98   (1944-02-01) February 1, 1944 (age 76)   \n",
       "99      (1952-07-21) July 21, 1952 (age 67)   \n",
       "\n",
       "                                        Occupation(s)  \\\n",
       "0                                              Lawyer   \n",
       "1                                              Lawyer   \n",
       "2                                              Lawyer   \n",
       "3                     U.S. Marine Corps officerLawyer   \n",
       "4   Social workerPolitical activistLawyerCollege p...   \n",
       "..                                                ...   \n",
       "95  College career counselorDirector, state Board ...   \n",
       "96                      AccountantCorporate executive   \n",
       "97                                             Lawyer   \n",
       "98  Nonprofit organization executiveAccountantCEOM...   \n",
       "99  Orthopedic surgeonMedical chief of staffNonpro...   \n",
       "\n",
       "                                    Previousoffice(s)      Assumed office  \\\n",
       "0                            U.S. HouseAlabama Senate     January 3, 1987   \n",
       "1   Staff counsel, U.S. Senate Judiciary Committee...  January 3, 2018[d]   \n",
       "2                     Alaska House of Representatives   December 20, 2002   \n",
       "3   Alaska Attorney GeneralAssistant Secretary of ...     January 3, 2015   \n",
       "4   U.S. HouseArizona SenateArizona House of Repre...     January 3, 2019   \n",
       "..                                                ...                 ...   \n",
       "95         U.S. HouseWest Virginia House of Delegates     January 3, 2015   \n",
       "96                                               None     January 3, 2011   \n",
       "97  U.S. HouseWisconsin AssemblyDane County, Wisco...     January 3, 2013   \n",
       "98     Wyoming House of RepresentativesWyoming Senate     January 3, 1997   \n",
       "99                                     Wyoming Senate       June 25, 2007   \n",
       "\n",
       "   Term up      Residence  wiki_age  calculated_age  \n",
       "0     2022  Tuscaloosa[1]        86              86  \n",
       "1     2020  Birmingham[1]        66              66  \n",
       "2     2022   Anchorage[3]        62              63  \n",
       "3     2020   Anchorage[3]        55              55  \n",
       "4     2024     Phoenix[4]        43              43  \n",
       "..     ...            ...       ...             ...  \n",
       "95    2020     Charleston        66              66  \n",
       "96    2022        Oshkosh        65              65  \n",
       "97    2024        Madison        58              58  \n",
       "98    2020       Gillette        76              76  \n",
       "99    2024         Casper        67              67  \n",
       "\n",
       "[100 rows x 13 columns]"
      ]
     },
     "execution_count": 7,
     "metadata": {},
     "output_type": "execute_result"
    }
   ],
   "source": [
    "us_sens"
   ]
  },
  {
   "cell_type": "code",
   "execution_count": 8,
   "metadata": {},
   "outputs": [
    {
     "data": {
      "text/plain": [
       "(100, 13)"
      ]
     },
     "execution_count": 8,
     "metadata": {},
     "output_type": "execute_result"
    }
   ],
   "source": [
    "us_sens.shape"
   ]
  },
  {
   "cell_type": "code",
   "execution_count": 9,
   "metadata": {},
   "outputs": [
    {
     "data": {
      "text/plain": [
       "array(['Republican', 'Democratic', 'Independent[a]'], dtype=object)"
      ]
     },
     "execution_count": 9,
     "metadata": {},
     "output_type": "execute_result"
    }
   ],
   "source": [
    "us_sens['Party - 2'].unique()"
   ]
  },
  {
   "cell_type": "code",
   "execution_count": 10,
   "metadata": {},
   "outputs": [
    {
     "data": {
      "text/plain": [
       "0           (1934-05-06) May 6, 1934 (age 86)\n",
       "1           (1954-05-04) May 4, 1954 (age 66)\n",
       "2          (1957-05-22) May 22, 1957 (age 62)\n",
       "3     (1964-11-13) November 13, 1964 (age 55)\n",
       "4         (1976-07-12) July 12, 1976 (age 43)\n",
       "                       ...                   \n",
       "95    (1953-11-26) November 26, 1953 (age 66)\n",
       "96        (1955-04-08) April 8, 1955 (age 65)\n",
       "97    (1962-02-11) February 11, 1962 (age 58)\n",
       "98     (1944-02-01) February 1, 1944 (age 76)\n",
       "99        (1952-07-21) July 21, 1952 (age 67)\n",
       "Name: Born, Length: 100, dtype: object"
      ]
     },
     "execution_count": 10,
     "metadata": {},
     "output_type": "execute_result"
    }
   ],
   "source": [
    "us_sens['Born']"
   ]
  },
  {
   "cell_type": "code",
   "execution_count": 13,
   "metadata": {},
   "outputs": [],
   "source": [
    "if 'wiki_age' not in us_sens:\n",
    "    us_sens['wiki_age'] = us_sens['Born'].apply(date_utils.extract_age_from_wikitable)"
   ]
  },
  {
   "cell_type": "code",
   "execution_count": 14,
   "metadata": {},
   "outputs": [],
   "source": [
    "if 'calculated_age' not in us_sens:\n",
    "    us_sens['calculated_age'] = us_sens['Born'].apply(date_utils.calculate_age_from_birthday_wikitable)"
   ]
  },
  {
   "cell_type": "code",
   "execution_count": 15,
   "metadata": {},
   "outputs": [
    {
     "data": {
      "text/html": [
       "<div>\n",
       "<style scoped>\n",
       "    .dataframe tbody tr th:only-of-type {\n",
       "        vertical-align: middle;\n",
       "    }\n",
       "\n",
       "    .dataframe tbody tr th {\n",
       "        vertical-align: top;\n",
       "    }\n",
       "\n",
       "    .dataframe thead th {\n",
       "        text-align: right;\n",
       "    }\n",
       "</style>\n",
       "<table border=\"1\" class=\"dataframe\">\n",
       "  <thead>\n",
       "    <tr style=\"text-align: right;\">\n",
       "      <th></th>\n",
       "      <th>State</th>\n",
       "      <th>Image</th>\n",
       "      <th>Senator</th>\n",
       "      <th>Party - 1</th>\n",
       "      <th>Party - 2</th>\n",
       "      <th>Born</th>\n",
       "      <th>Occupation(s)</th>\n",
       "      <th>Previousoffice(s)</th>\n",
       "      <th>Assumed office</th>\n",
       "      <th>Term up</th>\n",
       "      <th>Residence</th>\n",
       "      <th>wiki_age</th>\n",
       "      <th>calculated_age</th>\n",
       "    </tr>\n",
       "  </thead>\n",
       "  <tbody>\n",
       "    <tr>\n",
       "      <th>2</th>\n",
       "      <td>Alaska</td>\n",
       "      <td></td>\n",
       "      <td>Lisa Murkowski</td>\n",
       "      <td></td>\n",
       "      <td>Republican</td>\n",
       "      <td>(1957-05-22) May 22, 1957 (age 62)</td>\n",
       "      <td>Lawyer</td>\n",
       "      <td>Alaska House of Representatives</td>\n",
       "      <td>December 20, 2002</td>\n",
       "      <td>2022</td>\n",
       "      <td>Anchorage[3]</td>\n",
       "      <td>62</td>\n",
       "      <td>63</td>\n",
       "    </tr>\n",
       "    <tr>\n",
       "      <th>44</th>\n",
       "      <td>Minnesota</td>\n",
       "      <td></td>\n",
       "      <td>Amy Klobuchar</td>\n",
       "      <td></td>\n",
       "      <td>Democratic</td>\n",
       "      <td>(1960-05-25) May 25, 1960 (age 59)</td>\n",
       "      <td>Lawyer</td>\n",
       "      <td>Hennepin County, Minnesota County Attorney</td>\n",
       "      <td>January 3, 2007</td>\n",
       "      <td>2024</td>\n",
       "      <td>Minneapolis[30]</td>\n",
       "      <td>59</td>\n",
       "      <td>60</td>\n",
       "    </tr>\n",
       "  </tbody>\n",
       "</table>\n",
       "</div>"
      ],
      "text/plain": [
       "        State Image         Senator Party - 1   Party - 2  \\\n",
       "2      Alaska        Lisa Murkowski            Republican   \n",
       "44  Minnesota         Amy Klobuchar            Democratic   \n",
       "\n",
       "                                  Born Occupation(s)  \\\n",
       "2   (1957-05-22) May 22, 1957 (age 62)        Lawyer   \n",
       "44  (1960-05-25) May 25, 1960 (age 59)        Lawyer   \n",
       "\n",
       "                             Previousoffice(s)     Assumed office Term up  \\\n",
       "2              Alaska House of Representatives  December 20, 2002    2022   \n",
       "44  Hennepin County, Minnesota County Attorney    January 3, 2007    2024   \n",
       "\n",
       "          Residence  wiki_age  calculated_age  \n",
       "2      Anchorage[3]        62              63  \n",
       "44  Minneapolis[30]        59              60  "
      ]
     },
     "execution_count": 15,
     "metadata": {},
     "output_type": "execute_result"
    }
   ],
   "source": [
    "us_sens[us_sens['calculated_age'] != us_sens['wiki_age']]"
   ]
  },
  {
   "cell_type": "markdown",
   "metadata": {},
   "source": [
    "## age histogram, finally"
   ]
  },
  {
   "cell_type": "code",
   "execution_count": 16,
   "metadata": {},
   "outputs": [
    {
     "data": {
      "text/plain": [
       "<matplotlib.axes._subplots.AxesSubplot at 0x1245bdc88>"
      ]
     },
     "execution_count": 16,
     "metadata": {},
     "output_type": "execute_result"
    },
    {
     "data": {
      "image/png": "[encoded data removed]",
      "text/plain": [
       "<Figure size 432x288 with 1 Axes>"
      ]
     },
     "metadata": {
      "needs_background": "light"
     },
     "output_type": "display_data"
    }
   ],
   "source": [
    "# this shows that the wikipedia age is actually edited-in rather than dynamically calculated\n",
    "\n",
    "us_sens.calculated_age.plot.hist()"
   ]
  },
  {
   "cell_type": "code",
   "execution_count": 17,
   "metadata": {},
   "outputs": [],
   "source": [
    "import graph_utils"
   ]
  },
  {
   "cell_type": "code",
   "execution_count": 18,
   "metadata": {},
   "outputs": [
    {
     "data": {
      "image/png": "[encoded data removed]",
      "text/plain": [
       "<Figure size 1200x800 with 1 Axes>"
      ]
     },
     "metadata": {
      "needs_background": "light"
     },
     "output_type": "display_data"
    }
   ],
   "source": [
    "hist_data_us = graph_utils.graph_age_histogram(us_sens, title='US Senator Age Distribution',\n",
    "                   age_col='calculated_age', y_axis_label='# Senators')"
   ]
  },
  {
   "cell_type": "markdown",
   "metadata": {},
   "source": [
    "## extract ages of Canadian senators\n",
    "\n",
    "By law, Canadian senators cannot be older than 75."
   ]
  },
  {
   "cell_type": "code",
   "execution_count": 19,
   "metadata": {},
   "outputs": [],
   "source": [
    "if os.path.exists('data/ca_senators/senators.parquet'):\n",
    "    can_senators = pd.read_parquet('data/ca_senators/senators.parquet')\n",
    "else:\n",
    "    url = 'https://en.wikipedia.org/wiki/List_of_current_senators_of_Canada'\n",
    "    table = wiki_utils.extract_wikitable(url)\n",
    "    can_senators = wiki_utils.wikitable_to_dataframe(table)\n"
   ]
  },
  {
   "cell_type": "code",
   "execution_count": 20,
   "metadata": {},
   "outputs": [
    {
     "data": {
      "text/html": [
       "<div>\n",
       "<style scoped>\n",
       "    .dataframe tbody tr th:only-of-type {\n",
       "        vertical-align: middle;\n",
       "    }\n",
       "\n",
       "    .dataframe tbody tr th {\n",
       "        vertical-align: top;\n",
       "    }\n",
       "\n",
       "    .dataframe thead th {\n",
       "        text-align: right;\n",
       "    }\n",
       "</style>\n",
       "<table border=\"1\" class=\"dataframe\">\n",
       "  <thead>\n",
       "    <tr style=\"text-align: right;\">\n",
       "      <th></th>\n",
       "      <th>[8]</th>\n",
       "      <th>Name</th>\n",
       "      <th>Senate political affiliation</th>\n",
       "      <th>Province (Division)[a]</th>\n",
       "      <th>Date appointed</th>\n",
       "      <th>Appointed on the advice of - 1</th>\n",
       "      <th>Appointed on the advice of - 2</th>\n",
       "      <th>Mandatory retirement date</th>\n",
       "      <th>Titles and notes</th>\n",
       "    </tr>\n",
       "  </thead>\n",
       "  <tbody>\n",
       "    <tr>\n",
       "      <th>0</th>\n",
       "      <td></td>\n",
       "      <td>Margaret Dawn Anderson</td>\n",
       "      <td>Independent Senators Group</td>\n",
       "      <td>Northwest Territories</td>\n",
       "      <td>December 12, 2018</td>\n",
       "      <td></td>\n",
       "      <td>Trudeau, J.</td>\n",
       "      <td>April 14, 2042</td>\n",
       "      <td></td>\n",
       "    </tr>\n",
       "    <tr>\n",
       "      <th>1</th>\n",
       "      <td></td>\n",
       "      <td>Salma Ataullahjan</td>\n",
       "      <td>Conservative</td>\n",
       "      <td>Ontario</td>\n",
       "      <td>July 9, 2010</td>\n",
       "      <td></td>\n",
       "      <td>Harper</td>\n",
       "      <td>April 29, 2027</td>\n",
       "      <td></td>\n",
       "    </tr>\n",
       "    <tr>\n",
       "      <th>2</th>\n",
       "      <td></td>\n",
       "      <td>Denise Batters</td>\n",
       "      <td>Conservative</td>\n",
       "      <td>Saskatchewan</td>\n",
       "      <td>January 25, 2013</td>\n",
       "      <td></td>\n",
       "      <td>Harper</td>\n",
       "      <td>June 18, 2045</td>\n",
       "      <td></td>\n",
       "    </tr>\n",
       "    <tr>\n",
       "      <th>3</th>\n",
       "      <td></td>\n",
       "      <td>Diane Bellemare</td>\n",
       "      <td>Independent Senators Group</td>\n",
       "      <td>Quebec (Alma)</td>\n",
       "      <td>September 6, 2012</td>\n",
       "      <td></td>\n",
       "      <td>Harper</td>\n",
       "      <td>October 13, 2024</td>\n",
       "      <td>Legislative Deputy to Government Representativ...</td>\n",
       "    </tr>\n",
       "    <tr>\n",
       "      <th>4</th>\n",
       "      <td></td>\n",
       "      <td>Wanda Thomas Bernard</td>\n",
       "      <td>Independent Senators Group</td>\n",
       "      <td>Nova Scotia</td>\n",
       "      <td>November 10, 2016</td>\n",
       "      <td></td>\n",
       "      <td>Trudeau, J.</td>\n",
       "      <td>August 1, 2028</td>\n",
       "      <td></td>\n",
       "    </tr>\n",
       "    <tr>\n",
       "      <th>...</th>\n",
       "      <td>...</td>\n",
       "      <td>...</td>\n",
       "      <td>...</td>\n",
       "      <td>...</td>\n",
       "      <td>...</td>\n",
       "      <td>...</td>\n",
       "      <td>...</td>\n",
       "      <td>...</td>\n",
       "      <td>...</td>\n",
       "    </tr>\n",
       "    <tr>\n",
       "      <th>91</th>\n",
       "      <td></td>\n",
       "      <td>Pamela Wallin</td>\n",
       "      <td>Canadian Senators Group</td>\n",
       "      <td>Saskatchewan</td>\n",
       "      <td>January 2, 2009</td>\n",
       "      <td></td>\n",
       "      <td>Harper</td>\n",
       "      <td>April 10, 2028</td>\n",
       "      <td></td>\n",
       "    </tr>\n",
       "    <tr>\n",
       "      <th>92</th>\n",
       "      <td></td>\n",
       "      <td>David Wells</td>\n",
       "      <td>Conservative</td>\n",
       "      <td>Newfoundland and Labrador</td>\n",
       "      <td>January 25, 2013</td>\n",
       "      <td></td>\n",
       "      <td>Harper</td>\n",
       "      <td>February 28, 2037</td>\n",
       "      <td></td>\n",
       "    </tr>\n",
       "    <tr>\n",
       "      <th>93</th>\n",
       "      <td></td>\n",
       "      <td>Howard Wetston</td>\n",
       "      <td>Independent Senators Group</td>\n",
       "      <td>Ontario</td>\n",
       "      <td>November 10, 2016</td>\n",
       "      <td></td>\n",
       "      <td>Trudeau, J.</td>\n",
       "      <td>June 3, 2022</td>\n",
       "      <td></td>\n",
       "    </tr>\n",
       "    <tr>\n",
       "      <th>94</th>\n",
       "      <td></td>\n",
       "      <td>Vernon White</td>\n",
       "      <td>Canadian Senators Group</td>\n",
       "      <td>Ontario</td>\n",
       "      <td>February 20, 2012</td>\n",
       "      <td></td>\n",
       "      <td>Harper</td>\n",
       "      <td>February 21, 2034</td>\n",
       "      <td>Upon his appointment, Senator White said that ...</td>\n",
       "    </tr>\n",
       "    <tr>\n",
       "      <th>95</th>\n",
       "      <td></td>\n",
       "      <td>Yuen Pau Woo</td>\n",
       "      <td>Independent Senators Group</td>\n",
       "      <td>British Columbia</td>\n",
       "      <td>November 10, 2016</td>\n",
       "      <td></td>\n",
       "      <td>Trudeau, J.</td>\n",
       "      <td>March 2, 2038</td>\n",
       "      <td>Facilitator of the Independent Senators Group</td>\n",
       "    </tr>\n",
       "  </tbody>\n",
       "</table>\n",
       "<p>96 rows × 9 columns</p>\n",
       "</div>"
      ],
      "text/plain": [
       "   [8]                    Name Senate political affiliation  \\\n",
       "0       Margaret Dawn Anderson   Independent Senators Group   \n",
       "1            Salma Ataullahjan                 Conservative   \n",
       "2               Denise Batters                 Conservative   \n",
       "3              Diane Bellemare   Independent Senators Group   \n",
       "4         Wanda Thomas Bernard   Independent Senators Group   \n",
       "..  ..                     ...                          ...   \n",
       "91               Pamela Wallin      Canadian Senators Group   \n",
       "92                 David Wells                 Conservative   \n",
       "93              Howard Wetston   Independent Senators Group   \n",
       "94                Vernon White      Canadian Senators Group   \n",
       "95                Yuen Pau Woo   Independent Senators Group   \n",
       "\n",
       "       Province (Division)[a]     Date appointed  \\\n",
       "0       Northwest Territories  December 12, 2018   \n",
       "1                     Ontario       July 9, 2010   \n",
       "2                Saskatchewan   January 25, 2013   \n",
       "3               Quebec (Alma)  September 6, 2012   \n",
       "4                 Nova Scotia  November 10, 2016   \n",
       "..                        ...                ...   \n",
       "91               Saskatchewan    January 2, 2009   \n",
       "92  Newfoundland and Labrador   January 25, 2013   \n",
       "93                    Ontario  November 10, 2016   \n",
       "94                    Ontario  February 20, 2012   \n",
       "95           British Columbia  November 10, 2016   \n",
       "\n",
       "   Appointed on the advice of - 1 Appointed on the advice of - 2  \\\n",
       "0                                                    Trudeau, J.   \n",
       "1                                                         Harper   \n",
       "2                                                         Harper   \n",
       "3                                                         Harper   \n",
       "4                                                    Trudeau, J.   \n",
       "..                            ...                            ...   \n",
       "91                                                        Harper   \n",
       "92                                                        Harper   \n",
       "93                                                   Trudeau, J.   \n",
       "94                                                        Harper   \n",
       "95                                                   Trudeau, J.   \n",
       "\n",
       "   Mandatory retirement date  \\\n",
       "0             April 14, 2042   \n",
       "1             April 29, 2027   \n",
       "2              June 18, 2045   \n",
       "3           October 13, 2024   \n",
       "4             August 1, 2028   \n",
       "..                       ...   \n",
       "91            April 10, 2028   \n",
       "92         February 28, 2037   \n",
       "93              June 3, 2022   \n",
       "94         February 21, 2034   \n",
       "95             March 2, 2038   \n",
       "\n",
       "                                     Titles and notes  \n",
       "0                                                      \n",
       "1                                                      \n",
       "2                                                      \n",
       "3   Legislative Deputy to Government Representativ...  \n",
       "4                                                      \n",
       "..                                                ...  \n",
       "91                                                     \n",
       "92                                                     \n",
       "93                                                     \n",
       "94  Upon his appointment, Senator White said that ...  \n",
       "95      Facilitator of the Independent Senators Group  \n",
       "\n",
       "[96 rows x 9 columns]"
      ]
     },
     "execution_count": 20,
     "metadata": {},
     "output_type": "execute_result"
    }
   ],
   "source": [
    "can_senators"
   ]
  },
  {
   "cell_type": "code",
   "execution_count": 21,
   "metadata": {},
   "outputs": [],
   "source": [
    "can_senators['estimated_age'] = can_senators['Mandatory retirement date'].apply(date_utils.age_from_mandatory_retirement_date)"
   ]
  },
  {
   "cell_type": "markdown",
   "metadata": {},
   "source": [
    "### Canadian Senator Histogram"
   ]
  },
  {
   "cell_type": "code",
   "execution_count": 22,
   "metadata": {},
   "outputs": [
    {
     "data": {
      "text/plain": [
       "<matplotlib.axes._subplots.AxesSubplot at 0x1251412b0>"
      ]
     },
     "execution_count": 22,
     "metadata": {},
     "output_type": "execute_result"
    },
    {
     "data": {
      "image/png": "[encoded data removed]",
      "text/plain": [
       "<Figure size 1200x800 with 1 Axes>"
      ]
     },
     "metadata": {
      "needs_background": "light"
     },
     "output_type": "display_data"
    }
   ],
   "source": [
    "can_senators.estimated_age.plot.hist()"
   ]
  },
  {
   "cell_type": "code",
   "execution_count": 23,
   "metadata": {},
   "outputs": [
    {
     "data": {
      "image/png": "[encoded data removed]",
      "text/plain": [
       "<Figure size 1200x800 with 1 Axes>"
      ]
     },
     "metadata": {
      "needs_background": "light"
     },
     "output_type": "display_data"
    }
   ],
   "source": [
    "hist_data_ca = graph_utils.graph_age_histogram(can_senators,\n",
    "                               title='Canadian Senator Age Distribution',\n",
    "                               age_col='estimated_age',\n",
    "                               y_axis_label='# Senators')"
   ]
  },
  {
   "cell_type": "markdown",
   "metadata": {},
   "source": [
    "### Histogram Canada vs USA"
   ]
  },
  {
   "cell_type": "code",
   "execution_count": 24,
   "metadata": {},
   "outputs": [],
   "source": [
    "import seaborn as sns"
   ]
  },
  {
   "cell_type": "code",
   "execution_count": 25,
   "metadata": {},
   "outputs": [
    {
     "data": {
      "text/plain": [
       "[{'age_range': 'under 40', 'num_senators': 0, 'country': 'Canada'},\n",
       " {'age_range': '40 - 49', 'num_senators': 2, 'country': 'Canada'},\n",
       " {'age_range': '50 - 59', 'num_senators': 16, 'country': 'Canada'},\n",
       " {'age_range': '60 - 69', 'num_senators': 49, 'country': 'Canada'},\n",
       " {'age_range': '70+', 'num_senators': 29, 'country': 'Canada'}]"
      ]
     },
     "execution_count": 25,
     "metadata": {},
     "output_type": "execute_result"
    }
   ],
   "source": [
    "for row in hist_data_ca:\n",
    "    row['country'] = 'Canada'\n",
    "    \n",
    "hist_data_ca"
   ]
  },
  {
   "cell_type": "code",
   "execution_count": 26,
   "metadata": {},
   "outputs": [
    {
     "data": {
      "text/plain": [
       "[{'age_range': 'under 40', 'num_senators': 0, 'country': 'USA'},\n",
       " {'age_range': '40 - 49', 'num_senators': 14, 'country': 'USA'},\n",
       " {'age_range': '50 - 59', 'num_senators': 18, 'country': 'USA'},\n",
       " {'age_range': '60 - 69', 'num_senators': 40, 'country': 'USA'},\n",
       " {'age_range': '70+', 'num_senators': 28, 'country': 'USA'}]"
      ]
     },
     "execution_count": 26,
     "metadata": {},
     "output_type": "execute_result"
    }
   ],
   "source": [
    "for row in hist_data_us:\n",
    "    row['country'] = 'USA'\n",
    "    \n",
    "hist_data_us"
   ]
  },
  {
   "cell_type": "code",
   "execution_count": 27,
   "metadata": {},
   "outputs": [
    {
     "data": {
      "text/plain": [
       "[{'age_range': 'under 40', 'num_senators': 0, 'country': 'Canada'},\n",
       " {'age_range': '40 - 49', 'num_senators': 2, 'country': 'Canada'},\n",
       " {'age_range': '50 - 59', 'num_senators': 16, 'country': 'Canada'},\n",
       " {'age_range': '60 - 69', 'num_senators': 49, 'country': 'Canada'},\n",
       " {'age_range': '70+', 'num_senators': 29, 'country': 'Canada'},\n",
       " {'age_range': 'under 40', 'num_senators': 0, 'country': 'USA'},\n",
       " {'age_range': '40 - 49', 'num_senators': 14, 'country': 'USA'},\n",
       " {'age_range': '50 - 59', 'num_senators': 18, 'country': 'USA'},\n",
       " {'age_range': '60 - 69', 'num_senators': 40, 'country': 'USA'},\n",
       " {'age_range': '70+', 'num_senators': 28, 'country': 'USA'}]"
      ]
     },
     "execution_count": 27,
     "metadata": {},
     "output_type": "execute_result"
    }
   ],
   "source": [
    "hist_rows = hist_data_ca + hist_data_us\n",
    "hist_rows"
   ]
  },
  {
   "cell_type": "code",
   "execution_count": 28,
   "metadata": {},
   "outputs": [
    {
     "data": {
      "text/html": [
       "<div>\n",
       "<style scoped>\n",
       "    .dataframe tbody tr th:only-of-type {\n",
       "        vertical-align: middle;\n",
       "    }\n",
       "\n",
       "    .dataframe tbody tr th {\n",
       "        vertical-align: top;\n",
       "    }\n",
       "\n",
       "    .dataframe thead th {\n",
       "        text-align: right;\n",
       "    }\n",
       "</style>\n",
       "<table border=\"1\" class=\"dataframe\">\n",
       "  <thead>\n",
       "    <tr style=\"text-align: right;\">\n",
       "      <th></th>\n",
       "      <th>age_range</th>\n",
       "      <th>num_senators</th>\n",
       "      <th>country</th>\n",
       "    </tr>\n",
       "  </thead>\n",
       "  <tbody>\n",
       "    <tr>\n",
       "      <th>0</th>\n",
       "      <td>under 40</td>\n",
       "      <td>0</td>\n",
       "      <td>Canada</td>\n",
       "    </tr>\n",
       "    <tr>\n",
       "      <th>1</th>\n",
       "      <td>40 - 49</td>\n",
       "      <td>2</td>\n",
       "      <td>Canada</td>\n",
       "    </tr>\n",
       "    <tr>\n",
       "      <th>2</th>\n",
       "      <td>50 - 59</td>\n",
       "      <td>16</td>\n",
       "      <td>Canada</td>\n",
       "    </tr>\n",
       "    <tr>\n",
       "      <th>3</th>\n",
       "      <td>60 - 69</td>\n",
       "      <td>49</td>\n",
       "      <td>Canada</td>\n",
       "    </tr>\n",
       "    <tr>\n",
       "      <th>4</th>\n",
       "      <td>70+</td>\n",
       "      <td>29</td>\n",
       "      <td>Canada</td>\n",
       "    </tr>\n",
       "    <tr>\n",
       "      <th>5</th>\n",
       "      <td>under 40</td>\n",
       "      <td>0</td>\n",
       "      <td>USA</td>\n",
       "    </tr>\n",
       "    <tr>\n",
       "      <th>6</th>\n",
       "      <td>40 - 49</td>\n",
       "      <td>14</td>\n",
       "      <td>USA</td>\n",
       "    </tr>\n",
       "    <tr>\n",
       "      <th>7</th>\n",
       "      <td>50 - 59</td>\n",
       "      <td>18</td>\n",
       "      <td>USA</td>\n",
       "    </tr>\n",
       "    <tr>\n",
       "      <th>8</th>\n",
       "      <td>60 - 69</td>\n",
       "      <td>40</td>\n",
       "      <td>USA</td>\n",
       "    </tr>\n",
       "    <tr>\n",
       "      <th>9</th>\n",
       "      <td>70+</td>\n",
       "      <td>28</td>\n",
       "      <td>USA</td>\n",
       "    </tr>\n",
       "  </tbody>\n",
       "</table>\n",
       "</div>"
      ],
      "text/plain": [
       "  age_range  num_senators country\n",
       "0  under 40             0  Canada\n",
       "1   40 - 49             2  Canada\n",
       "2   50 - 59            16  Canada\n",
       "3   60 - 69            49  Canada\n",
       "4       70+            29  Canada\n",
       "5  under 40             0     USA\n",
       "6   40 - 49            14     USA\n",
       "7   50 - 59            18     USA\n",
       "8   60 - 69            40     USA\n",
       "9       70+            28     USA"
      ]
     },
     "execution_count": 28,
     "metadata": {},
     "output_type": "execute_result"
    }
   ],
   "source": [
    "hist_data = pd.DataFrame(hist_rows)\n",
    "hist_data"
   ]
  },
  {
   "cell_type": "code",
   "execution_count": 29,
   "metadata": {},
   "outputs": [
    {
     "data": {
      "image/png": "[encoded data removed]",
      "text/plain": [
       "<Figure size 1200x800 with 1 Axes>"
      ]
     },
     "metadata": {},
     "output_type": "display_data"
    }
   ],
   "source": [
    "sns.set(style='whitegrid')\n",
    "ax = sns.barplot(\n",
    "    x='age_range',\n",
    "    y='num_senators',\n",
    "    hue='country',\n",
    "    data=hist_data\n",
    ")"
   ]
  },
  {
   "cell_type": "markdown",
   "metadata": {},
   "source": [
    "## US House of Reps"
   ]
  },
  {
   "cell_type": "code",
   "execution_count": 34,
   "metadata": {},
   "outputs": [],
   "source": [
    "if os.path.exists('data/us_reps/us_reps.parquet'):\n",
    "    reps = pd.read_parquet('data/us_reps/us_reps.parquet')\n",
    "else:\n",
    "    url = 'https://en.wikipedia.org/wiki/List_of_current_members_of_the_United_States_House_of_Representatives'\n",
    "    reps_table = wiki_utils.extract_wikitable(url, id='votingmembers')\n",
    "    reps = wiki_utils.wikitable_to_dataframe(reps_table)"
   ]
  },
  {
   "cell_type": "code",
   "execution_count": 35,
   "metadata": {},
   "outputs": [
    {
     "data": {
      "text/plain": [
       "(435, 9)"
      ]
     },
     "execution_count": 35,
     "metadata": {},
     "output_type": "execute_result"
    }
   ],
   "source": [
    "reps.shape"
   ]
  },
  {
   "cell_type": "code",
   "execution_count": 36,
   "metadata": {},
   "outputs": [
    {
     "data": {
      "text/html": [
       "<div>\n",
       "<style scoped>\n",
       "    .dataframe tbody tr th:only-of-type {\n",
       "        vertical-align: middle;\n",
       "    }\n",
       "\n",
       "    .dataframe tbody tr th {\n",
       "        vertical-align: top;\n",
       "    }\n",
       "\n",
       "    .dataframe thead th {\n",
       "        text-align: right;\n",
       "    }\n",
       "</style>\n",
       "<table border=\"1\" class=\"dataframe\">\n",
       "  <thead>\n",
       "    <tr style=\"text-align: right;\">\n",
       "      <th></th>\n",
       "      <th>District</th>\n",
       "      <th>Member</th>\n",
       "      <th>Party - 1</th>\n",
       "      <th>Party - 2</th>\n",
       "      <th>Prior experience</th>\n",
       "      <th>Education</th>\n",
       "      <th>Assumed office</th>\n",
       "      <th>Residence</th>\n",
       "      <th>Born</th>\n",
       "    </tr>\n",
       "  </thead>\n",
       "  <tbody>\n",
       "    <tr>\n",
       "      <th>0</th>\n",
       "      <td>Alabama 1</td>\n",
       "      <td>Bradley Byrne</td>\n",
       "      <td></td>\n",
       "      <td>Republican</td>\n",
       "      <td>Alabama SenateAlabama State Board of Education</td>\n",
       "      <td>Duke University (BA)University of Alabama (JD)</td>\n",
       "      <td>2014 (Special)</td>\n",
       "      <td>Fairhope</td>\n",
       "      <td>1955</td>\n",
       "    </tr>\n",
       "    <tr>\n",
       "      <th>1</th>\n",
       "      <td>Alabama 2</td>\n",
       "      <td>Martha Roby</td>\n",
       "      <td></td>\n",
       "      <td>Republican</td>\n",
       "      <td>Montgomery, Alabama City Council</td>\n",
       "      <td>New York University (BM)Samford University (JD)</td>\n",
       "      <td>2011</td>\n",
       "      <td>Montgomery</td>\n",
       "      <td>1976</td>\n",
       "    </tr>\n",
       "    <tr>\n",
       "      <th>2</th>\n",
       "      <td>Alabama 3</td>\n",
       "      <td>Mike Rogers</td>\n",
       "      <td></td>\n",
       "      <td>Republican</td>\n",
       "      <td>Calhoun County, Alabama CommissionerAlabama Ho...</td>\n",
       "      <td>Jacksonville State University (BA, MPA)Birming...</td>\n",
       "      <td>2003</td>\n",
       "      <td>Saks</td>\n",
       "      <td>1958</td>\n",
       "    </tr>\n",
       "    <tr>\n",
       "      <th>3</th>\n",
       "      <td>Alabama 4</td>\n",
       "      <td>Robert Aderholt</td>\n",
       "      <td></td>\n",
       "      <td>Republican</td>\n",
       "      <td>Haleyville, Alabama Municipal Judge</td>\n",
       "      <td>University of North AlabamaBirmingham–Southern...</td>\n",
       "      <td>1997</td>\n",
       "      <td>Haleyville</td>\n",
       "      <td>1965</td>\n",
       "    </tr>\n",
       "    <tr>\n",
       "      <th>4</th>\n",
       "      <td>Alabama 5</td>\n",
       "      <td>Mo Brooks</td>\n",
       "      <td></td>\n",
       "      <td>Republican</td>\n",
       "      <td>Alabama House of RepresentativesMadison County...</td>\n",
       "      <td>Duke University (BA)University of Alabama (JD)</td>\n",
       "      <td>2011</td>\n",
       "      <td>Huntsville</td>\n",
       "      <td>1954</td>\n",
       "    </tr>\n",
       "    <tr>\n",
       "      <th>...</th>\n",
       "      <td>...</td>\n",
       "      <td>...</td>\n",
       "      <td>...</td>\n",
       "      <td>...</td>\n",
       "      <td>...</td>\n",
       "      <td>...</td>\n",
       "      <td>...</td>\n",
       "      <td>...</td>\n",
       "      <td>...</td>\n",
       "    </tr>\n",
       "    <tr>\n",
       "      <th>430</th>\n",
       "      <td>Wisconsin 5</td>\n",
       "      <td>Jim Sensenbrenner</td>\n",
       "      <td></td>\n",
       "      <td>Republican</td>\n",
       "      <td>Wisconsin State SenateWisconsin State Assembly</td>\n",
       "      <td>Stanford University (BA)University of Wisconsi...</td>\n",
       "      <td>1979</td>\n",
       "      <td>Menomonee Falls</td>\n",
       "      <td>1943</td>\n",
       "    </tr>\n",
       "    <tr>\n",
       "      <th>431</th>\n",
       "      <td>Wisconsin 6</td>\n",
       "      <td>Glenn Grothman</td>\n",
       "      <td></td>\n",
       "      <td>Republican</td>\n",
       "      <td>Wisconsin SenateWisconsin State Assembly</td>\n",
       "      <td>University of Wisconsin–Madison (BA, JD)</td>\n",
       "      <td>2015</td>\n",
       "      <td>Campbellsport</td>\n",
       "      <td>1955</td>\n",
       "    </tr>\n",
       "    <tr>\n",
       "      <th>432</th>\n",
       "      <td>Wisconsin 7</td>\n",
       "      <td>Tom Tiffany</td>\n",
       "      <td></td>\n",
       "      <td>Republican</td>\n",
       "      <td>Wisconsin SenateWisconsin State Assembly</td>\n",
       "      <td>University of Wisconsin–River Falls (BS)</td>\n",
       "      <td>2020 (Special)</td>\n",
       "      <td>Minocqua</td>\n",
       "      <td>1957</td>\n",
       "    </tr>\n",
       "    <tr>\n",
       "      <th>433</th>\n",
       "      <td>Wisconsin 8</td>\n",
       "      <td>Mike Gallagher</td>\n",
       "      <td></td>\n",
       "      <td>Republican</td>\n",
       "      <td>Political advisorU.S. Marine Corps</td>\n",
       "      <td>Princeton University (BA)National Intelligence...</td>\n",
       "      <td>2017</td>\n",
       "      <td>Green Bay</td>\n",
       "      <td>1984</td>\n",
       "    </tr>\n",
       "    <tr>\n",
       "      <th>434</th>\n",
       "      <td>Wyoming at-large</td>\n",
       "      <td>Liz Cheney</td>\n",
       "      <td></td>\n",
       "      <td>Republican</td>\n",
       "      <td>Principal Deputy Assistant Secretary of State ...</td>\n",
       "      <td>Colorado College (BA)University of Chicago (JD)</td>\n",
       "      <td>2017</td>\n",
       "      <td>Jackson</td>\n",
       "      <td>1966</td>\n",
       "    </tr>\n",
       "  </tbody>\n",
       "</table>\n",
       "<p>435 rows × 9 columns</p>\n",
       "</div>"
      ],
      "text/plain": [
       "             District             Member Party - 1   Party - 2  \\\n",
       "0           Alabama 1      Bradley Byrne            Republican   \n",
       "1           Alabama 2        Martha Roby            Republican   \n",
       "2           Alabama 3        Mike Rogers            Republican   \n",
       "3           Alabama 4    Robert Aderholt            Republican   \n",
       "4           Alabama 5          Mo Brooks            Republican   \n",
       "..                ...                ...       ...         ...   \n",
       "430       Wisconsin 5  Jim Sensenbrenner            Republican   \n",
       "431       Wisconsin 6     Glenn Grothman            Republican   \n",
       "432       Wisconsin 7        Tom Tiffany            Republican   \n",
       "433       Wisconsin 8     Mike Gallagher            Republican   \n",
       "434  Wyoming at-large         Liz Cheney            Republican   \n",
       "\n",
       "                                      Prior experience  \\\n",
       "0       Alabama SenateAlabama State Board of Education   \n",
       "1                     Montgomery, Alabama City Council   \n",
       "2    Calhoun County, Alabama CommissionerAlabama Ho...   \n",
       "3                  Haleyville, Alabama Municipal Judge   \n",
       "4    Alabama House of RepresentativesMadison County...   \n",
       "..                                                 ...   \n",
       "430     Wisconsin State SenateWisconsin State Assembly   \n",
       "431           Wisconsin SenateWisconsin State Assembly   \n",
       "432           Wisconsin SenateWisconsin State Assembly   \n",
       "433                 Political advisorU.S. Marine Corps   \n",
       "434  Principal Deputy Assistant Secretary of State ...   \n",
       "\n",
       "                                             Education  Assumed office  \\\n",
       "0       Duke University (BA)University of Alabama (JD)  2014 (Special)   \n",
       "1      New York University (BM)Samford University (JD)            2011   \n",
       "2    Jacksonville State University (BA, MPA)Birming...            2003   \n",
       "3    University of North AlabamaBirmingham–Southern...            1997   \n",
       "4       Duke University (BA)University of Alabama (JD)            2011   \n",
       "..                                                 ...             ...   \n",
       "430  Stanford University (BA)University of Wisconsi...            1979   \n",
       "431           University of Wisconsin–Madison (BA, JD)            2015   \n",
       "432           University of Wisconsin–River Falls (BS)  2020 (Special)   \n",
       "433  Princeton University (BA)National Intelligence...            2017   \n",
       "434    Colorado College (BA)University of Chicago (JD)            2017   \n",
       "\n",
       "           Residence  Born  \n",
       "0           Fairhope  1955  \n",
       "1         Montgomery  1976  \n",
       "2               Saks  1958  \n",
       "3         Haleyville  1965  \n",
       "4         Huntsville  1954  \n",
       "..               ...   ...  \n",
       "430  Menomonee Falls  1943  \n",
       "431    Campbellsport  1955  \n",
       "432         Minocqua  1957  \n",
       "433        Green Bay  1984  \n",
       "434          Jackson  1966  \n",
       "\n",
       "[435 rows x 9 columns]"
      ]
     },
     "execution_count": 36,
     "metadata": {},
     "output_type": "execute_result"
    }
   ],
   "source": [
    "reps"
   ]
  },
  {
   "cell_type": "code",
   "execution_count": 37,
   "metadata": {},
   "outputs": [
    {
     "data": {
      "text/html": [
       "<div>\n",
       "<style scoped>\n",
       "    .dataframe tbody tr th:only-of-type {\n",
       "        vertical-align: middle;\n",
       "    }\n",
       "\n",
       "    .dataframe tbody tr th {\n",
       "        vertical-align: top;\n",
       "    }\n",
       "\n",
       "    .dataframe thead th {\n",
       "        text-align: right;\n",
       "    }\n",
       "</style>\n",
       "<table border=\"1\" class=\"dataframe\">\n",
       "  <thead>\n",
       "    <tr style=\"text-align: right;\">\n",
       "      <th></th>\n",
       "      <th>District</th>\n",
       "      <th>Member</th>\n",
       "      <th>Party - 1</th>\n",
       "      <th>Party - 2</th>\n",
       "      <th>Prior experience</th>\n",
       "      <th>Education</th>\n",
       "      <th>Assumed office</th>\n",
       "      <th>Residence</th>\n",
       "      <th>Born</th>\n",
       "    </tr>\n",
       "  </thead>\n",
       "  <tbody>\n",
       "    <tr>\n",
       "      <th>70</th>\n",
       "      <td>California 50</td>\n",
       "      <td>Vacant</td>\n",
       "      <td></td>\n",
       "      <td></td>\n",
       "      <td></td>\n",
       "      <td></td>\n",
       "      <td></td>\n",
       "      <td></td>\n",
       "      <td></td>\n",
       "    </tr>\n",
       "    <tr>\n",
       "      <th>283</th>\n",
       "      <td>New York 27</td>\n",
       "      <td>Vacant</td>\n",
       "      <td></td>\n",
       "      <td></td>\n",
       "      <td></td>\n",
       "      <td></td>\n",
       "      <td></td>\n",
       "      <td></td>\n",
       "      <td></td>\n",
       "    </tr>\n",
       "    <tr>\n",
       "      <th>294</th>\n",
       "      <td>North Carolina 11</td>\n",
       "      <td>Vacant</td>\n",
       "      <td></td>\n",
       "      <td></td>\n",
       "      <td></td>\n",
       "      <td></td>\n",
       "      <td></td>\n",
       "      <td></td>\n",
       "      <td></td>\n",
       "    </tr>\n",
       "    <tr>\n",
       "      <th>364</th>\n",
       "      <td>Texas 4</td>\n",
       "      <td>Vacant</td>\n",
       "      <td></td>\n",
       "      <td></td>\n",
       "      <td></td>\n",
       "      <td></td>\n",
       "      <td></td>\n",
       "      <td></td>\n",
       "      <td></td>\n",
       "    </tr>\n",
       "  </tbody>\n",
       "</table>\n",
       "</div>"
      ],
      "text/plain": [
       "              District  Member Party - 1 Party - 2 Prior experience Education  \\\n",
       "70       California 50  Vacant                                                  \n",
       "283        New York 27  Vacant                                                  \n",
       "294  North Carolina 11  Vacant                                                  \n",
       "364            Texas 4  Vacant                                                  \n",
       "\n",
       "    Assumed office Residence Born  \n",
       "70                                 \n",
       "283                                \n",
       "294                                \n",
       "364                                "
      ]
     },
     "execution_count": 37,
     "metadata": {},
     "output_type": "execute_result"
    }
   ],
   "source": [
    "reps[pd.isna(pd.to_numeric(reps.Born))]"
   ]
  },
  {
   "cell_type": "code",
   "execution_count": 38,
   "metadata": {},
   "outputs": [],
   "source": [
    "vacant = reps[reps.Member == 'Vacant']\n",
    "reps_not_vacant = reps.drop(vacant.index)"
   ]
  },
  {
   "cell_type": "code",
   "execution_count": 39,
   "metadata": {},
   "outputs": [
    {
     "data": {
      "text/plain": [
       "(435, 9)"
      ]
     },
     "execution_count": 39,
     "metadata": {},
     "output_type": "execute_result"
    }
   ],
   "source": [
    "reps.shape"
   ]
  },
  {
   "cell_type": "code",
   "execution_count": 40,
   "metadata": {},
   "outputs": [
    {
     "data": {
      "text/plain": [
       "(431, 9)"
      ]
     },
     "execution_count": 40,
     "metadata": {},
     "output_type": "execute_result"
    }
   ],
   "source": [
    "reps_not_vacant.shape"
   ]
  },
  {
   "cell_type": "markdown",
   "metadata": {},
   "source": [
    "The \"Born\" column *only* has the year"
   ]
  },
  {
   "cell_type": "code",
   "execution_count": 41,
   "metadata": {},
   "outputs": [],
   "source": [
    "reps_not_vacant['Born'] = pd.to_numeric(reps_not_vacant['Born'])"
   ]
  },
  {
   "cell_type": "code",
   "execution_count": 42,
   "metadata": {},
   "outputs": [
    {
     "data": {
      "text/plain": [
       "District            object\n",
       "Member              object\n",
       "Party - 1           object\n",
       "Party - 2           object\n",
       "Prior experience    object\n",
       "Education           object\n",
       "Assumed office      object\n",
       "Residence           object\n",
       "Born                 int64\n",
       "dtype: object"
      ]
     },
     "execution_count": 42,
     "metadata": {},
     "output_type": "execute_result"
    }
   ],
   "source": [
    "reps_not_vacant.dtypes"
   ]
  },
  {
   "cell_type": "code",
   "execution_count": 44,
   "metadata": {},
   "outputs": [],
   "source": [
    "reps_not_vacant['approx_age'] = reps_not_vacant['Born'].apply(date_utils.calculate_age_from_year)"
   ]
  },
  {
   "cell_type": "markdown",
   "metadata": {},
   "source": [
    "### plot it!"
   ]
  },
  {
   "cell_type": "code",
   "execution_count": 45,
   "metadata": {},
   "outputs": [
    {
     "data": {
      "image/png": "[encoded data removed]",
      "text/plain": [
       "<Figure size 1200x800 with 1 Axes>"
      ]
     },
     "metadata": {},
     "output_type": "display_data"
    }
   ],
   "source": [
    "hist_data_us_reps = graph_utils.graph_age_histogram(reps_not_vacant,\n",
    "                                title='Age of Members of US House of Representatives',\n",
    "                                age_col='approx_age',\n",
    "                               y_axis_label='# Members')"
   ]
  },
  {
   "cell_type": "markdown",
   "metadata": {},
   "source": [
    "## Canadian Parliament\n",
    "\n",
    "The Wikipedia article splits the members by province, so have to adapt our method to extract multiple tables"
   ]
  },
  {
   "cell_type": "code",
   "execution_count": 55,
   "metadata": {},
   "outputs": [],
   "source": [
    "if os.path.exists('data/ca_reps/ca_reps_with_age_from_2.parquet'):\n",
    "    master_df = pd.read_parquet('data/ca_reps/ca_reps_with_age_from_2.parquet')\n",
    "else:\n",
    "    url = 'https://en.wikipedia.org/wiki/List_of_House_members_of_the_43rd_Parliament_of_Canada'\n",
    "    canadian_tables = wiki_utils.extract_all_wikitables(url)"
   ]
  },
  {
   "cell_type": "markdown",
   "metadata": {},
   "source": [
    "The last table is a summary table, therefore I will ignore it. Every other table represents a province or region."
   ]
  },
  {
   "cell_type": "code",
   "execution_count": 47,
   "metadata": {},
   "outputs": [],
   "source": [
    "if not os.path.exists('data/ca_reps/ca_reps_with_age_from_2.parquet'):\n",
    "    frames = []\n",
    "    for table in canadian_tables[:-1]:\n",
    "        frames.append(wiki_utils.wikitable_to_dataframe(table))\n",
    "    frames[0]"
   ]
  },
  {
   "cell_type": "markdown",
   "metadata": {},
   "source": [
    "### extracting age\n",
    "\n",
    "Oh tragedy of tragedies, the ages are not present on these pages. Perhaps I can fetch them from the members' individual Wikipedia pages"
   ]
  },
  {
   "cell_type": "code",
   "execution_count": 48,
   "metadata": {},
   "outputs": [],
   "source": [
    "if not os.path.exists('data/ca_reps/ca_reps_with_age_from_2.parquet'):\n",
    "    frames = []\n",
    "    for table in canadian_tables[:-1]:\n",
    "        cols = wiki_utils.extract_wikitable_schema(table)\n",
    "        rows = wiki_utils.extract_wikitable_content_with_links(table, cols)\n",
    "        df = pd.DataFrame(rows)\n",
    "        frames.append(df)\n",
    "    frames[0]"
   ]
  },
  {
   "cell_type": "code",
   "execution_count": 49,
   "metadata": {},
   "outputs": [],
   "source": [
    "if not os.path.exists('data/ca_reps/ca_reps_with_age_from_2.parquet'):\n",
    "    for frame in frames:\n",
    "        frame['age'] = frame['Name_link'].apply(wiki_utils.read_age_from_wikipedia_page)"
   ]
  },
  {
   "cell_type": "code",
   "execution_count": 52,
   "metadata": {},
   "outputs": [],
   "source": [
    "# combine the frames\n",
    "\n",
    "def combine_frames(frames):\n",
    "    master_df = pd.DataFrame()\n",
    "    for frame in frames:\n",
    "        master_df = master_df.append(frame)\n",
    "    return master_df.reset_index(drop=True)\n",
    "\n",
    "if not os.path.exists('data/ca_reps/ca_reps_with_age_from_2.parquet'):\n",
    "    master_df = combine_frames(frames)\n",
    "    # save these\n",
    "    master_df.to_parquet('data/ca_reps/ca_reps_with_age_from_summary.parquet')\n",
    "    master_df"
   ]
  },
  {
   "cell_type": "markdown",
   "metadata": {},
   "source": [
    "Using this method, we have found age for *some* members but not all of them"
   ]
  },
  {
   "cell_type": "code",
   "execution_count": 57,
   "metadata": {},
   "outputs": [
    {
     "data": {
      "text/plain": [
       "(110, 9)"
      ]
     },
     "execution_count": 57,
     "metadata": {},
     "output_type": "execute_result"
    }
   ],
   "source": [
    "master_df[pd.isna(master_df['age'])].shape"
   ]
  },
  {
   "cell_type": "code",
   "execution_count": 59,
   "metadata": {},
   "outputs": [
    {
     "data": {
      "text/plain": [
       "(110, 9)"
      ]
     },
     "execution_count": 59,
     "metadata": {},
     "output_type": "execute_result"
    }
   ],
   "source": [
    "missing_members = master_df[pd.isna(master_df['age'])]\n",
    "missing_members.shape"
   ]
  },
  {
   "cell_type": "markdown",
   "metadata": {},
   "source": [
    "### Read dates of birth from Wikipedia Infobox\n",
    "\n",
    "The previous library only handled summaries. This tool handles Wikipedia infoboxes as well.\n",
    "Use this tool to try to read the dates of politicians from their wikipedia infoboxes"
   ]
  },
  {
   "cell_type": "code",
   "execution_count": 63,
   "metadata": {},
   "outputs": [
    {
     "data": {
      "text/plain": [
       "<module 'wiki_utils' from '/Users/Daniel_Kats/prog/senator-age/wiki_utils.py'>"
      ]
     },
     "execution_count": 63,
     "metadata": {},
     "output_type": "execute_result"
    }
   ],
   "source": [
    "importlib.reload(wiki_utils)"
   ]
  },
  {
   "cell_type": "code",
   "execution_count": 64,
   "metadata": {
    "collapsed": true,
    "jupyter": {
     "outputs_hidden": true
    }
   },
   "outputs": [
    {
     "name": "stderr",
     "output_type": "stream",
     "text": [
      "ERROR:root:No birth_date key specified in infobox for Greg McLean (politician)\n"
     ]
    },
    {
     "name": "stdout",
     "output_type": "stream",
     "text": [
      "{'alma_mater': '[[University of Alberta]]',\n",
      " 'caption': 'McLean in Calgary in 2019',\n",
      " 'honorific-suffix': '{{post-nominals|country|=|CAN|MP|size|=|100%}}',\n",
      " 'image': 'Greg McLean in Calgary - 2019 (48231547782) (cropped).jpg',\n",
      " 'name': 'Greg McLean',\n",
      " 'parliament': 'Canadian',\n",
      " 'party': '[[Conservative Party of Canada]]',\n",
      " 'predecessor': '[[Kent Hehr]]',\n",
      " 'profession': '[[Member of Parliament]]',\n",
      " 'residence': '[[Calgary]], [[Alberta]]',\n",
      " 'riding': '[[Calgary Centre]]',\n",
      " 'spouse': 'Ruth',\n",
      " 'term_start': 'October 21, 2019'}\n"
     ]
    },
    {
     "name": "stderr",
     "output_type": "stream",
     "text": [
      "ERROR:root:No birth_date key specified in infobox for Jasraj Hallan\n"
     ]
    },
    {
     "name": "stdout",
     "output_type": "stream",
     "text": [
      "{'birth_place': '[[Dubai]], [[United Arab Emirates]]',\n",
      " 'honorific-suffix': '{{post-nominals|country|=|CAN|MP|size|=|100%}}',\n",
      " 'image': 'JasrajSinghHallan.jpg',\n",
      " 'imagesize': '200px',\n",
      " 'name': 'Jasraj Singh Hallan',\n",
      " 'parliament': 'Canadian',\n",
      " 'party': '[[Conservative Party of Canada]]',\n",
      " 'predecessor': '[[Deepak Obhrai]]',\n",
      " 'residence': '[[Calgary]], [[Alberta]]',\n",
      " 'riding': '[[Calgary Forest Lawn]]',\n",
      " 'term_start': 'October 21, 2019'}\n"
     ]
    },
    {
     "name": "stderr",
     "output_type": "stream",
     "text": [
      "ERROR:root:No birth_date key specified in infobox for Gerald Soroka\n"
     ]
    },
    {
     "name": "stdout",
     "output_type": "stream",
     "text": [
      "{'birth_place': '[[Evansburg, Alberta]], Canada',\n",
      " 'honorific-suffix': '[[House of Commons of Canada|MP]]',\n",
      " 'imagesize': '200px',\n",
      " 'name': 'Gerald Soroka',\n",
      " 'parliament': 'Canadian',\n",
      " 'party': '[[Conservative Party of Canada]]',\n",
      " 'predecessor': '[[Jim Eglinski]]',\n",
      " 'riding': '[[Yellowhead (electoral district)|Yellowhead]]',\n",
      " 'term_start': 'October 21, 2019'}\n"
     ]
    },
    {
     "name": "stderr",
     "output_type": "stream",
     "text": [
      "ERROR:root:No birth_date key specified in infobox for Alistair MacGregor\n"
     ]
    },
    {
     "name": "stdout",
     "output_type": "stream",
     "text": [
      "{'alma_mater': '[[University of Victoria]]<br />[[Royal Roads University]]',\n",
      " 'birth_place': '[[Victoria, British Columbia]]',\n",
      " 'honorific-suffix': '[[Member of Parliament#Canada|MP]]',\n",
      " 'imagesize': '200px',\n",
      " 'name': 'Alistair MacGregor',\n",
      " 'parliament': 'Canadian',\n",
      " 'party': '[[New Democratic Party]]',\n",
      " 'predecessor': '[[Jean Crowder]]',\n",
      " 'profession': 'Executive Assistant',\n",
      " 'residence': '[[Duncan, British Columbia]]',\n",
      " 'riding': '[[Cowichan—Malahat—Langford]]',\n",
      " 'term_start': 'October 19, 2015'}\n"
     ]
    },
    {
     "name": "stderr",
     "output_type": "stream",
     "text": [
      "ERROR:root:No birth_date key specified in infobox for Rob Morrison (politician)\n"
     ]
    },
    {
     "name": "stdout",
     "output_type": "stream",
     "text": [
      "{'honorific-suffix': '{{post-nominals|country|=|CAN|MP|size|=|100%}}',\n",
      " 'imagesize': '200px',\n",
      " 'name': 'Rob Morrison',\n",
      " 'parliament': 'Canadian',\n",
      " 'party': '[[Conservative Party of Canada]]',\n",
      " 'predecessor': '[[Wayne Stetski]]',\n",
      " 'profession': 'public servant',\n",
      " 'residence': '[[Creston, British Columbia]]',\n",
      " 'riding': '[[Kootenay—Columbia]]',\n",
      " 'term_start': 'October 21, 2019'}\n"
     ]
    },
    {
     "name": "stderr",
     "output_type": "stream",
     "text": [
      "ERROR:root:No birth_date key specified in infobox for Taylor Bachrach\n"
     ]
    },
    {
     "name": "stdout",
     "output_type": "stream",
     "text": [
      "{'honorific-suffix': '[[Member of Parliament#Canada|MP]]',\n",
      " 'imagesize': '200px',\n",
      " 'name': 'Taylor Bachrach',\n",
      " 'parliament': 'Canadian',\n",
      " 'party': '[[New Democratic Party]]',\n",
      " 'predecessor': '[[Nathan Cullen]]',\n",
      " 'riding': '[[Skeena—Bulkley Valley]]',\n",
      " 'term_start': 'October 21, 2019'}\n"
     ]
    },
    {
     "name": "stderr",
     "output_type": "stream",
     "text": [
      "ERROR:root:No birth_date key specified in infobox for Kenny Chiu\n"
     ]
    },
    {
     "name": "stdout",
     "output_type": "stream",
     "text": [
      "{'birth_place': '[[Hong Kong]]',\n",
      " 'honorific-suffix': '{{post-nominals|country|=|CAN|MP|size|=|100%}}',\n",
      " 'image': 'Kenny Chiu (cropped).jpg',\n",
      " 'imagesize': '200px',\n",
      " 'name': 'Kenny Chiu',\n",
      " 'parliament': 'Canadian',\n",
      " 'party': '[[Conservative Party of Canada]]',\n",
      " 'predecessor': '[[Joe Peschisolido]]',\n",
      " 'profession': 'Software engineer',\n",
      " 'riding': '[[Steveston—Richmond East]]',\n",
      " 'term_start': 'October 21, 2019'}\n"
     ]
    },
    {
     "name": "stderr",
     "output_type": "stream",
     "text": [
      "ERROR:root:No birth_date key specified in infobox for René Arseneault\n"
     ]
    },
    {
     "name": "stdout",
     "output_type": "stream",
     "text": [
      "{'honorific-suffix': '[[Member of Parliament (Canada)|MP]]',\n",
      " 'imagesize': '200px',\n",
      " 'name': 'René Arseneault',\n",
      " 'parliament': 'Canadian',\n",
      " 'party': '[[Liberal Party of Canada|Liberal]]',\n",
      " 'predecessor': '[[Bernard Valcourt]]',\n",
      " 'profession': 'Attorney',\n",
      " 'riding': '[[Madawaska—Restigouche]]',\n",
      " 'spouse': 'Michèle Pelletier',\n",
      " 'term_start': 'October 19, 2015'}\n"
     ]
    },
    {
     "name": "stderr",
     "output_type": "stream",
     "text": [
      "ERROR:root:No birth_date key specified in infobox for Ginette Petitpas Taylor\n"
     ]
    },
    {
     "name": "stdout",
     "output_type": "stream",
     "text": [
      "{'alma_mater': '[[Université de Moncton]]',\n",
      " 'birth_place': '[[Dieppe, New Brunswick]], Canada',\n",
      " 'honorific-prefix': '[[The Honourable]]',\n",
      " 'honorific-suffix': '{{post-nominals|country|=|CAN|PC|MP|size|=|100%}}',\n",
      " 'minister3': '[[Bill Morneau]]',\n",
      " 'name': 'Ginette Petitpas Taylor',\n",
      " 'office': '[[Party Whip (Canada)|Deputy Government Whip]]',\n",
      " 'office2': '[[Minister of Health (Canada)|Minister of Health]]',\n",
      " 'office3': '[[Parliamentary Secretary]] to the [[Minister of Finance '\n",
      "            '(Canada)|Minister of Finance]]',\n",
      " 'parliament4': 'Canadian',\n",
      " 'party': '[[Liberal Party of Canada|Liberal]]',\n",
      " 'predecessor': '[[Linda Lapointe]]',\n",
      " 'predecessor1': '[[Dave MacKenzie (politician)|Dave MacKenzie]]',\n",
      " 'predecessor2': '[[Jane Philpott]]',\n",
      " 'predecessor3': '[[François-Philippe Champagne]]',\n",
      " 'predecessor4': '[[Robert Goguen]]',\n",
      " 'primeminister': '[[Justin Trudeau]]',\n",
      " 'primeminister1': '[[Justin Trudeau]]',\n",
      " 'primeminister2': '[[Justin Trudeau]]',\n",
      " 'riding4': '[[Moncton—Riverview—Dieppe]]',\n",
      " 'successor1': '[[Filomena Tassi]]',\n",
      " 'successor2': '[[Patty Hajdu]]',\n",
      " 'successor3': '[[Joël Lightbound]]',\n",
      " 'term_end1': 'January 29, 2017',\n",
      " 'term_end2': 'November 20, 2019',\n",
      " 'term_end3': 'August 28, 2017',\n",
      " 'term_start': 'November 20, 2019',\n",
      " 'term_start1': 'November 20, 2015',\n",
      " 'term_start2': 'August 28, 2017',\n",
      " 'term_start3': 'January 30, 2017',\n",
      " 'term_start4': 'October 19, 2015'}\n"
     ]
    },
    {
     "name": "stderr",
     "output_type": "stream",
     "text": [
      "ERROR:root:No birth_date key specified in infobox for John Brassard\n"
     ]
    },
    {
     "name": "stdout",
     "output_type": "stream",
     "text": [
      "{'birth_place': '[[Montreal]], [[Quebec]]',\n",
      " 'caption': 'Brassard in 2019',\n",
      " 'image': 'John Brassard - 2019 (47899551081) (cropped).jpg',\n",
      " 'leader': '[[Andrew Scheer]]',\n",
      " 'leader2': '[[Rona Ambrose]]<br />[[Andrew Scheer]]',\n",
      " 'name': 'John Brassard',\n",
      " 'office': '[[Party Whip (Canada)|Deputy Opposition Whip]]',\n",
      " 'office2': '[[Minister of Veterans Affairs (Canada)|Official Opposition '\n",
      "            'Critic for Veterans Affairs]]',\n",
      " 'office3': '[[Barrie City Council]]lor',\n",
      " 'parliament1': 'Canadian',\n",
      " 'predecessor': '[[Dave MacKenzie (politician)|Dave MacKenzie]]',\n",
      " 'predecessor1': \"''Riding established''\",\n",
      " 'predecessor2': '[[Alupa Clarke]]',\n",
      " 'predecessor3': 'Steve Trotter',\n",
      " 'riding1': '[[Barrie—Innisfil]]',\n",
      " 'successor2': '[[Steven Blaney]]',\n",
      " 'successor3': 'Andrew Prince',\n",
      " 'term_end2': 'August 29, 2017',\n",
      " 'term_end3': 'November 2, 2015',\n",
      " 'term_start': 'August 29, 2017',\n",
      " 'term_start1': 'October 19, 2015',\n",
      " 'term_start2': 'October 16, 2016',\n",
      " 'term_start3': 'November 13, 2006'}\n"
     ]
    },
    {
     "name": "stderr",
     "output_type": "stream",
     "text": [
      "ERROR:root:No birth_date key specified in infobox for Julie Dzerowicz\n"
     ]
    },
    {
     "name": "stdout",
     "output_type": "stream",
     "text": [
      "{'alma_mater': '[[McGill University]]<br />[[University of British Columbia]]',\n",
      " 'birth_place': '[[Toronto|Toronto, Ontario]], Canada',\n",
      " 'honorific-suffix': '{{post-nominals|country|=|CAN|MP|size|=|100%}}',\n",
      " 'image': 'Julie Dzerowicz.jpg',\n",
      " 'imagesize': '200px',\n",
      " 'name': 'Julie Dzerowicz',\n",
      " 'parliament': 'Canadian',\n",
      " 'party': '[[Liberal Party of Canada|Liberal]]',\n",
      " 'predecessor': '[[Andrew Cash]]',\n",
      " 'residence': '[[Davenport, Toronto|Davenport, Toronto, Ontario]]',\n",
      " 'riding': '[[Davenport (electoral district)|Davenport]]',\n",
      " 'term_start': 'October 19, 2015'}\n"
     ]
    },
    {
     "name": "stderr",
     "output_type": "stream",
     "text": [
      "ERROR:root:No birth_date key specified in infobox for Erin O'Toole\n"
     ]
    },
    {
     "name": "stdout",
     "output_type": "stream",
     "text": [
      "{'allegiance': 'Canada',\n",
      " 'alma_mater': '[[Royal Military College of Canada|Royal Military College]] '\n",
      "               '([[Bachelor of Arts|BA]])<br />[[Dalhousie University]] '\n",
      "               '([[Bachelor of Laws|LLB]])',\n",
      " 'birth_name': \"Erin Michael O'Toole\",\n",
      " 'birth_place': '[[Montreal]], [[Quebec]], Canada',\n",
      " 'branch': '[[Royal Canadian Air Force|Canadian Forces Air Command]]',\n",
      " 'caption': \"O'Toole in 2014\",\n",
      " 'honorific-prefix': '[[Captain (Canadian army and air force)|Captain]] [[the '\n",
      "                     'Honourable]]',\n",
      " 'honorific-suffix': \"[[Queen's Privy Council of Canada|PC]] [[Canadian Forces \"\n",
      "                     'Decoration|CD]] [[Member of Parliament (Canada)|MP]]',\n",
      " 'image': \"Erin O'Toole.jpg\",\n",
      " 'mawards': \"[[Canadian Forces' Decoration]]<br>[[Sikorsky Aircraft|Sikorsky \"\n",
      "            'Helicopter Rescue Award]]',\n",
      " 'office1': '[[Minister of Veterans Affairs (Canada)|Minister of Veterans '\n",
      "            'Affairs]]',\n",
      " 'parliament2': 'Canadian',\n",
      " 'party': '[[Conservative Party of Canada|Conservative]]',\n",
      " 'predecessor1': '[[Julian Fantino]]',\n",
      " 'predecessor2': '[[Bev Oda]]',\n",
      " 'primeminister1': '[[Stephen Harper]]',\n",
      " 'profession': 'Lawyer',\n",
      " 'rank': '[[Captain (Canada)|Captain]]',\n",
      " 'residence': '[[Courtice]], [[Ontario]], Canada',\n",
      " 'riding2': '[[Durham (electoral district)|Durham]]',\n",
      " 'serviceyears': '1991–2000 (active)<br>2000–2003 (reserve)',\n",
      " 'spouse': 'Rebecca',\n",
      " 'successor1': '[[Kent Hehr]]',\n",
      " 'term_end1': 'November 4, 2015',\n",
      " 'term_start1': 'January 5, 2015',\n",
      " 'term_start2': 'November 26, 2012',\n",
      " 'unit': '[[423 Maritime Helicopter Squadron]]'}\n"
     ]
    },
    {
     "name": "stderr",
     "output_type": "stream",
     "text": [
      "ERROR:root:No birth_date key specified in infobox for Jamie Schmale\n"
     ]
    },
    {
     "name": "stdout",
     "output_type": "stream",
     "text": [
      "{'children': 'Declan',\n",
      " 'honorific-suffix': '[[Member of Parliament (Canada)|MP]]',\n",
      " 'image': 'MPSchmale.png',\n",
      " 'imagesize': '200px',\n",
      " 'name': 'Jamie Schmale',\n",
      " 'parliament': 'Canadian',\n",
      " 'party': '[[Conservative Party of Canada|Conservative]]',\n",
      " 'predecessor': '[[Barry Devolin]]',\n",
      " 'residence': '[[Ottawa, Ontario| Ottawa]]',\n",
      " 'riding': '[[Haliburton—Kawartha Lakes—Brock]]',\n",
      " 'spouse': 'Julia Schmale',\n",
      " 'term_start': 'October 19, 2015'}\n"
     ]
    },
    {
     "name": "stderr",
     "output_type": "stream",
     "text": [
      "ERROR:root:No birth_date key specified in infobox for Marwan Tabbara\n"
     ]
    },
    {
     "name": "stdout",
     "output_type": "stream",
     "text": [
      "{'alma_mater': '[[University of Guelph]]',\n",
      " 'birth_place': '[[Beirut]], [[Lebanon]]',\n",
      " 'honorific-suffix': '[[Member of Parliament (Canada)|MP]]',\n",
      " 'image': 'Marwan_Tabbara.jpeg',\n",
      " 'imagesize': '200px',\n",
      " 'name': 'Marwan Tabbara',\n",
      " 'nationality': '[[Canadians|Canadian]]',\n",
      " 'parliament': 'Canadian',\n",
      " 'party': '[[Liberal Party of Canada|Liberal]]',\n",
      " 'predecessor': 'District Created',\n",
      " 'residence': '[[Kitchener, Ontario]]',\n",
      " 'riding': '[[Kitchener South—Hespeler]]',\n",
      " 'term_start': 'October 19, 2015'}\n"
     ]
    },
    {
     "name": "stderr",
     "output_type": "stream",
     "text": [
      "ERROR:root:No birth_date key specified in infobox for Kate Young (politician)\n"
     ]
    },
    {
     "name": "stdout",
     "output_type": "stream",
     "text": [
      "{'imagesize': '200px',\n",
      " 'minister': '[[Kirsty Duncan]]',\n",
      " 'minister2': '[[Marc Garneau]]',\n",
      " 'name': 'Kate Young',\n",
      " 'office': '[[Parliamentary Secretary]] to the [[Minister of Science '\n",
      "           '(Canada)|Minister of Science]]',\n",
      " 'office2': '[[Parliamentary Secretary]] to the [[Minister of Transport '\n",
      "            '(Canada)|Minister of Transport]]',\n",
      " 'parliament3': 'Canadian',\n",
      " 'party': '[[Liberal Party of Canada|Liberal]]',\n",
      " 'predecessor': '[[Terry Beech]]',\n",
      " 'predecessor2': '[[Jeff Watson (politician)|Jeff Watson]]',\n",
      " 'predecessor3': '[[Ed Holder]]',\n",
      " 'profession': 'public relations manager, former [[television news anchor]]',\n",
      " 'riding3': '[[London West]]',\n",
      " 'successor2': '[[Karen McCrimmon]]',\n",
      " 'term_end2': 'January 27, 2017',\n",
      " 'term_start': 'January 30, 2017',\n",
      " 'term_start2': 'December 2, 2015',\n",
      " 'term_start3': 'October 19, 2015'}\n"
     ]
    },
    {
     "name": "stderr",
     "output_type": "stream",
     "text": [
      "ERROR:root:No birth_date key specified in infobox for Chandra Arya\n"
     ]
    },
    {
     "name": "stdout",
     "output_type": "stream",
     "text": [
      "{'honorific-suffix': '[[Member of Parliament (Canada)|MP]]',\n",
      " 'image': 'Chandra Arya 20171012.jpg',\n",
      " 'imagesize': '200px',\n",
      " 'name': 'Chandra Arya',\n",
      " 'parliament': 'Canadian',\n",
      " 'party': '[[Liberal Party of Canada|Liberal]]',\n",
      " 'predecessor': \"''District created''\",\n",
      " 'religion': '[[Hindu]]',\n",
      " 'residence': '[[Ottawa]], [[Ontario]]',\n",
      " 'riding': '[[Nepean (electoral district)|Nepean]]',\n",
      " 'term_start': 'October 19, 2015'}\n"
     ]
    },
    {
     "name": "stderr",
     "output_type": "stream",
     "text": [
      "ERROR:root:No birth_date key specified in infobox for Marc Serré\n"
     ]
    },
    {
     "name": "stdout",
     "output_type": "stream",
     "text": [
      "{'birth_place': '[[Rayside-Balfour#Chelmsford|Chelmsford]], [[Ontario]], '\n",
      "                'Canada',\n",
      " 'education': '[[Laurentian University]]',\n",
      " 'imagesize': '200px',\n",
      " 'name': 'Marc Serré',\n",
      " 'parliament': 'Canadian',\n",
      " 'party': '[[Liberal Party of Canada|Liberal]]',\n",
      " 'predecessor': '[[Claude Gravelle]]',\n",
      " 'riding': '[[Nickel Belt]]',\n",
      " 'term_start': 'October 19, 2015'}\n"
     ]
    },
    {
     "name": "stderr",
     "output_type": "stream",
     "text": [
      "ERROR:root:No birth_date key specified in infobox for Philip Lawrence (politician)\n"
     ]
    },
    {
     "name": "stdout",
     "output_type": "stream",
     "text": [
      "{'honorific-suffix': '{{post-nominals|country|=|CAN|MP|size|=|100%}}',\n",
      " 'name': 'Philip Lawrence',\n",
      " 'parliament': 'Canadian',\n",
      " 'party': '[[Conservative Party of Canada]]',\n",
      " 'predecessor': '[[Kim Rudd]]',\n",
      " 'profession': 'Financial Planner, Lawyer',\n",
      " 'riding': '[[Northumberland—Peterborough South]]',\n",
      " 'spouse': 'Natasha Lawrence',\n",
      " 'term_start': 'October 21, 2019'}\n"
     ]
    },
    {
     "name": "stderr",
     "output_type": "stream",
     "text": [
      "ERROR:root:No birth_date key specified in infobox for Mona Fortier\n"
     ]
    },
    {
     "name": "stdout",
     "output_type": "stream",
     "text": [
      "{'birth_place': '[[Ottawa]], [[Ontario]], Canada',\n",
      " 'honorific-prefix': '[[The Honourable]]',\n",
      " 'honorific-suffix': \"[[Queen's Privy Council for Canada|PC]] [[Member of \"\n",
      "                     'Parliament (Canada)|MP]]',\n",
      " 'name': 'Mona Fortier',\n",
      " 'office': '[[Minister of Middle Class Prosperity]]<br />[[Department of '\n",
      "           'Finance (Canada)|Associate Minister of Finance]]',\n",
      " 'parliament1': 'Canadian',\n",
      " 'party': '[[Liberal Party of Canada|Liberal]]',\n",
      " 'predecessor': \"''Position created''\",\n",
      " 'predecessor1': '[[Mauril Bélanger]]',\n",
      " 'primeminister': '[[Justin Trudeau]]',\n",
      " 'riding1': '[[Ottawa—Vanier]]',\n",
      " 'term_start': 'November 20, 2019',\n",
      " 'term_start1': 'April 3, 2017'}\n"
     ]
    },
    {
     "name": "stderr",
     "output_type": "stream",
     "text": [
      "ERROR:root:No birth_date key specified in infobox for Salma Zahid\n"
     ]
    },
    {
     "name": "stdout",
     "output_type": "stream",
     "text": [
      "{'alma_mater': '[[University of London]]<br />[[Quaid-i-Azam University]]',\n",
      " 'awards': '[[Queen Elizabeth II Diamond Jubilee Medal]]',\n",
      " 'birth_place': '[[Coventry]], England, UK',\n",
      " 'citizenship': '{{hlist|Canada|Pakistan}}',\n",
      " 'image': 'Zahid headshot.jpg',\n",
      " 'imagesize': '180px',\n",
      " 'name': 'Salma Zahid',\n",
      " 'parliament': 'Canadian',\n",
      " 'party': '[[Liberal Party of Canada|Liberal]]',\n",
      " 'predecessor': '[[Roxanne James]]',\n",
      " 'residence': '[[Scarborough, Toronto]], Ontario',\n",
      " 'riding': '[[Scarborough Centre (electoral district)|Scarborough Centre]]',\n",
      " 'term_start': 'October 19, 2015'}\n"
     ]
    },
    {
     "name": "stderr",
     "output_type": "stream",
     "text": [
      "ERROR:root:No birth_date key specified in infobox for Gary Anandasangaree\n"
     ]
    },
    {
     "name": "stdout",
     "output_type": "stream",
     "text": [
      "{'alma_mater': '{{Ubl|[[Carleton University]]|[[York University]]}}',\n",
      " 'birth_place': '[[Sri Lanka]]',\n",
      " 'blank1': 'Ethnicity',\n",
      " 'data1': '[[Sri Lankan Tamil people|Sri Lankan Tamil]]',\n",
      " 'honorific-suffix': '[[Member of Parliament#Canada|MP]]',\n",
      " 'name': 'Gary Anandasangaree',\n",
      " 'native_name': 'கரி ஆனந்தசங்கரி',\n",
      " 'native_name_lang': 'ta',\n",
      " 'parliament': 'Canadian',\n",
      " 'party': '[[Liberal Party of Canada|Liberal]]',\n",
      " 'predecessor': \"''Riding Established''\",\n",
      " 'profession': 'Lawyer',\n",
      " 'riding': '[[Scarborough—Rouge Park]]',\n",
      " 'term_start': 'October 19, 2015'}\n"
     ]
    },
    {
     "name": "stderr",
     "output_type": "stream",
     "text": [
      "ERROR:root:No birth_date key specified in infobox for Scot Davidson\n"
     ]
    },
    {
     "name": "stdout",
     "output_type": "stream",
     "text": [
      "{'birth_place': '[[Georgina, Ontario]]',\n",
      " 'honorific-suffix': '{{post-nominals|country|=|CAN|MP|size|=|100%}}',\n",
      " 'image': 'ScotDavidson.jpg',\n",
      " 'imagesize': '200px',\n",
      " 'name': 'Scot Davidson',\n",
      " 'parliament1': 'Canadian',\n",
      " 'party': '[[Conservative Party of Canada|Conservative]]',\n",
      " 'predecessor1': '[[Peter Van Loan]]',\n",
      " 'riding1': '[[York—Simcoe]]',\n",
      " 'term_start1': 'February 25, 2019'}\n"
     ]
    },
    {
     "name": "stderr",
     "output_type": "stream",
     "text": [
      "ERROR:root:No birth_date key specified in infobox for Sylvie Bérubé\n"
     ]
    },
    {
     "name": "stdout",
     "output_type": "stream",
     "text": [
      "{'honorific-suffix': '{{post-nominals|country|=|CAN|MP|size|=|100%}}',\n",
      " 'imagesize': '200px',\n",
      " 'name': 'Sylvie Bérubé',\n",
      " 'parliament': 'Canadian',\n",
      " 'party': '[[Bloc Québécois]]',\n",
      " 'predecessor': '[[Roméo Saganash]]',\n",
      " 'riding': '[[Abitibi—Baie-James—Nunavik—Eeyou]]',\n",
      " 'term_start': 'October 21, 2019'}\n"
     ]
    },
    {
     "name": "stderr",
     "output_type": "stream",
     "text": [
      "ERROR:root:No birth_date key specified in infobox for Sébastien Lemire\n"
     ]
    },
    {
     "name": "stdout",
     "output_type": "stream",
     "text": [
      "{'honorific-suffix': '[[Member of Parliament#Canada|MP]]',\n",
      " 'name': 'Sébastien Lemire',\n",
      " 'parliament': 'Canadian',\n",
      " 'party': '[[Bloc Québécois]]',\n",
      " 'predecessor': '[[Christine Moore (politician)|Christine Moore]]',\n",
      " 'riding': '[[Abitibi—Témiscamingue]]',\n",
      " 'term_start': 'October 21, 2019'}\n"
     ]
    },
    {
     "name": "stderr",
     "output_type": "stream",
     "text": [
      "ERROR:root:No birth_date key specified in infobox for Kristina Michaud\n"
     ]
    },
    {
     "name": "stdout",
     "output_type": "stream",
     "text": [
      "{'honorific-suffix': '{{post-nominals|country|=|CAN|MP|size|=|100%}}',\n",
      " 'imagesize': '200px',\n",
      " 'name': 'Kristina Michaud',\n",
      " 'parliament': 'Canadian',\n",
      " 'party': '[[Bloc Québécois]]',\n",
      " 'predecessor': '[[Rémi Massé]]',\n",
      " 'residence': '[[Amqui, Quebec]]',\n",
      " 'riding': '[[Avignon—La Mitis—Matane—Matapédia]]',\n",
      " 'term_start': 'October 21, 2019'}\n"
     ]
    },
    {
     "name": "stderr",
     "output_type": "stream",
     "text": [
      "ERROR:root:No birth_date key specified in infobox for Caroline Desbiens\n"
     ]
    },
    {
     "name": "stdout",
     "output_type": "stream",
     "text": [
      "{'birth_place': \"[[L'Isle-aux-Coudres]], Quebec, Canada\",\n",
      " 'honorific-suffix': '{{post-nominals|country|=|CAN|MP|size|=|100%}}',\n",
      " 'imagesize': '200px',\n",
      " 'name': 'Caroline Desbiens',\n",
      " 'parliament': 'Canadian',\n",
      " 'party': '[[Bloc Québécois]]',\n",
      " 'predecessor': '[[Sylvie Boucher]]',\n",
      " 'riding': \"[[Beauport—Côte-de-Beaupré—Île d'Orléans—Charlevoix]]\",\n",
      " 'term_start': 'October 21, 2019'}\n"
     ]
    },
    {
     "name": "stderr",
     "output_type": "stream",
     "text": [
      "ERROR:root:No birth_date key specified in infobox for Julie Vignola\n"
     ]
    },
    {
     "name": "stdout",
     "output_type": "stream",
     "text": [
      "{'birth_place': '[[Sept-Îles, Quebec]], Canada',\n",
      " 'honorific-suffix': '[[House of Commons of Canada|MP]]',\n",
      " 'name': 'Julie Vignola',\n",
      " 'parliament': 'Canadian',\n",
      " 'party': '[[Bloc Québécois]]',\n",
      " 'predecessor': '[[Alupa Clarke]]',\n",
      " 'residence': '[[Quebec City]], [[Quebec]]',\n",
      " 'riding': '[[Beauport—Limoilou]]',\n",
      " 'term_start': 'October 21, 2019'}\n"
     ]
    },
    {
     "name": "stderr",
     "output_type": "stream",
     "text": [
      "ERROR:root:No birth_date key specified in infobox for Yves Perron\n"
     ]
    },
    {
     "name": "stdout",
     "output_type": "stream",
     "text": [
      "{'honorific-suffix': '{{post-nominals|country|=|CAN|MP|size|=|100%}}',\n",
      " 'imagesize': '200px',\n",
      " 'name': 'Yves Perron',\n",
      " 'parliament': 'Canadian',\n",
      " 'party': '[[Bloc Québécois]]',\n",
      " 'predecessor': '[[Ruth Ellen Brosseau]]',\n",
      " 'riding': '[[Berthier—Maskinongé]]',\n",
      " 'term_start': 'October 21, 2019'}\n"
     ]
    },
    {
     "name": "stderr",
     "output_type": "stream",
     "text": [
      "ERROR:root:No birth_date key specified in infobox for Brenda Shanahan (politician)\n"
     ]
    },
    {
     "name": "stdout",
     "output_type": "stream",
     "text": [
      "{'imagesize': '200px',\n",
      " 'name': 'Brenda Shanahan',\n",
      " 'parliament': 'Canadian',\n",
      " 'party': '[[Liberal Party of Canada|Liberal]]',\n",
      " 'predecessor': '[[Sylvain Chicoine]]',\n",
      " 'profession': 'banker, financial advisor, columnist',\n",
      " 'residence': '[[Châteauguay]], [[Quebec]]',\n",
      " 'riding': '[[Châteauguay—Lacolle]]',\n",
      " 'term_start': 'October 19, 2015'}\n"
     ]
    },
    {
     "name": "stderr",
     "output_type": "stream",
     "text": [
      "ERROR:root:No birth_date key specified in infobox for Anju Dhillon\n"
     ]
    },
    {
     "name": "stdout",
     "output_type": "stream",
     "text": [
      "{'alma_mater': '[[Concordia University]]<br />[[Université de Montréal]]',\n",
      " 'birth_place': '[[Montreal|Montreal, Quebec]], Canada',\n",
      " 'imagesize': '200px',\n",
      " 'minister': '[[Patty Hajdu]]<br />[[Maryam Monsef]]',\n",
      " 'name': 'Anju Dhillon',\n",
      " 'office': '[[Parliamentary Secretary]] for [[Minister of Status of '\n",
      "           'Women|Status of Women]]',\n",
      " 'parliament1': 'Canadian',\n",
      " 'party': '[[Liberal Party of Canada|Liberal]]',\n",
      " 'predecessor': '[[Susan Truppe]]',\n",
      " 'predecessor1': \"''district created''\",\n",
      " 'profession': 'Attorney',\n",
      " 'religion': '[[Sikhism]]',\n",
      " 'riding1': '[[Dorval—Lachine—LaSalle]]',\n",
      " 'successor': '[[Terry Duguid]]',\n",
      " 'term_end': 'January 27, 2017',\n",
      " 'term_start': 'December 2, 2015',\n",
      " 'term_start1': 'October 19, 2015'}\n"
     ]
    },
    {
     "name": "stderr",
     "output_type": "stream",
     "text": [
      "ERROR:root:No birth_date key specified in infobox for Soraya Martinez Ferrada\n"
     ]
    },
    {
     "name": "stdout",
     "output_type": "stream",
     "text": [
      "{'honorific-suffix': '[[House of Commons of Canada|MP]]',\n",
      " 'imagesize': '200px',\n",
      " 'name': 'Soraya Martinez Ferrada',\n",
      " 'office2': '[[Montreal City Council]]lor for Saint-Michel',\n",
      " 'otherparty': '[[Vision Montreal]] (2005–2009)',\n",
      " 'parliament': 'Canadian',\n",
      " 'party': '[[Liberal Party of Canada|Liberal]]',\n",
      " 'predecessor1': '[[Marjolaine Boutin-Sweet]]',\n",
      " 'residence': '[[Montreal]], [[Quebec]]',\n",
      " 'riding': '[[Hochelaga (electoral district)|Hochelaga]]',\n",
      " 'successor2': '[[Frantz Benjamin]]',\n",
      " 'term_end2': '[[2009 Montreal municipal election|November 2, 2009]]',\n",
      " 'term_start1': 'October 21, 2019',\n",
      " 'term_start2': '[[2005 Montreal municipal election|November 6, 2005]]'}\n"
     ]
    },
    {
     "name": "stderr",
     "output_type": "stream",
     "text": [
      "ERROR:root:No birth_date key specified in infobox for Gabriel Ste-Marie\n"
     ]
    },
    {
     "name": "stdout",
     "output_type": "stream",
     "text": [
      "{'caption': \"Ste-Marie's official parliamentary photo\",\n",
      " 'honorific-suffix': '[[Member of parliament|MP]]',\n",
      " 'name': 'Gabriel Ste-Marie',\n",
      " 'otherparty': '[[Québec debout]] <small>(2018)</small>',\n",
      " 'parliament': 'Canadian',\n",
      " 'party': '[[Bloc Québécois]]',\n",
      " 'predecessor': '[[Francine Raynault]]',\n",
      " 'profession': 'Economist, Teacher',\n",
      " 'residence': '[[Joliette]], [[Quebec]], Canada',\n",
      " 'riding': '[[Joliette (electoral district)|Joliette]]',\n",
      " 'term_start': 'October 19, 2015'}\n"
     ]
    },
    {
     "name": "stderr",
     "output_type": "stream",
     "text": [
      "ERROR:root:No birth_date key specified in infobox for Mario Simard\n"
     ]
    },
    {
     "name": "stdout",
     "output_type": "stream",
     "text": [
      "{'honorific-suffix': '{{post-nominals|country|=|CAN|MP|size|=|100%}}',\n",
      " 'imagesize': '200px',\n",
      " 'name': 'Mario Simard',\n",
      " 'parliament': 'Canadian',\n",
      " 'party': '[[Bloc Québécois]]',\n",
      " 'predecessor': '[[Karine Trudel]]',\n",
      " 'riding': '[[Jonquière (electoral district)|Jonquière]]',\n",
      " 'term_start': 'October 21, 2019'}\n"
     ]
    },
    {
     "name": "stderr",
     "output_type": "stream",
     "text": [
      "ERROR:root:No birth_date key specified in infobox for Simon Marcil\n"
     ]
    },
    {
     "name": "stdout",
     "output_type": "stream",
     "text": [
      "{'caption': \"Marcil's official parliamentary photo\",\n",
      " 'honorific-suffix': '[[House of Commons of Canada|MP]]',\n",
      " 'name': 'Simon Marcil',\n",
      " 'otherparty': '[[Québec debout]] <small>(2018)</small>',\n",
      " 'parliament': 'Canadian',\n",
      " 'party': '[[Bloc Québécois]]',\n",
      " 'predecessor': \"''Riding established''\",\n",
      " 'residence': '[[Mirabel, Quebec]]',\n",
      " 'riding': '[[Mirabel (electoral district)|Mirabel]]',\n",
      " 'term_start': 'October 19, 2015'}\n"
     ]
    },
    {
     "name": "stderr",
     "output_type": "stream",
     "text": [
      "ERROR:root:No birth_date key specified in infobox for Luc Desilets\n"
     ]
    },
    {
     "name": "stdout",
     "output_type": "stream",
     "text": [
      "{'caption': 'Desilets official parliamentary photo',\n",
      " 'honorific-suffix': '{{post-nominals|country|=|CAN|MP|size|=|100%}}',\n",
      " 'name': 'Luc Desilets',\n",
      " 'parliament': 'Canadian',\n",
      " 'party': '[[Bloc Québécois]]',\n",
      " 'predecessor': '[[Linda Lapointe]]',\n",
      " 'riding': '[[Rivière-des-Mille-Îles (electoral '\n",
      "           'district)|Rivière-des-Mille-Îles]]',\n",
      " 'term_start': 'October 21, 2019'}\n"
     ]
    },
    {
     "name": "stderr",
     "output_type": "stream",
     "text": [
      "ERROR:root:No birth_date key specified in infobox for Rhéal Fortin\n"
     ]
    },
    {
     "name": "stdout",
     "output_type": "stream",
     "text": [
      "{'birth_name': 'Rhéal Éloi Fortin',\n",
      " 'birth_place': '[[Laval-des-Rapides, Quebec]], Canada',\n",
      " 'honorific-suffix': '{{post-nominals|country|=|CAN|MP|size|=|100%}}',\n",
      " 'image': 'Rhéal Fortin BQ.jpg',\n",
      " 'name': 'Rhéal Fortin',\n",
      " 'office': 'Spokesperson of [[Québec debout]]<br /> {{small|Groupe '\n",
      "           'parlementaire québécois (March — June)}}',\n",
      " 'office2': 'Leader of the [[Bloc Québécois]] <br /> {{small|Interim}}',\n",
      " 'otherparty': '[[Québec debout]] <small>(2018)</small>',\n",
      " 'parliament3': 'Canadian',\n",
      " 'party': '[[Bloc Québécois]]',\n",
      " 'predecessor': \"''Caucus founded''\",\n",
      " 'predecessor2': '[[Gilles Duceppe]]',\n",
      " 'predecessor3': '[[Pierre Dionne Labelle]]',\n",
      " 'profession': 'Lawyer',\n",
      " 'riding3': '[[Rivière-du-Nord (electoral district)|Rivière-du-Nord]]',\n",
      " 'successor': \"''Caucus dissolved''\",\n",
      " 'successor2': '[[Martine Ouellet]]',\n",
      " 'term_end': 'September 17, 2018',\n",
      " 'term_end2': 'March 18, 2017',\n",
      " 'term_start': 'March 21, 2018',\n",
      " 'term_start2': 'October 22, 2015',\n",
      " 'term_start3': 'October 19, 2015'}\n"
     ]
    },
    {
     "name": "stderr",
     "output_type": "stream",
     "text": [
      "ERROR:root:No birth_date key specified in infobox for Christine Normandin\n"
     ]
    },
    {
     "name": "stdout",
     "output_type": "stream",
     "text": [
      "{'honorific-suffix': '{{post-nominals|country|=|CAN|MP|size|=|100%}}',\n",
      " 'imagesize': '200px',\n",
      " 'name': 'Christine Normandin',\n",
      " 'parliament': 'Canadian',\n",
      " 'party': '[[Bloc Québécois]]',\n",
      " 'predecessor': '[[Jean Rioux]]',\n",
      " 'riding': '[[Saint-Jean (electoral district)|Saint-Jean]]',\n",
      " 'term_start': 'October 21, 2019'}\n"
     ]
    },
    {
     "name": "stderr",
     "output_type": "stream",
     "text": [
      "ERROR:root:No birth_date key specified in infobox for Patricia Lattanzio\n"
     ]
    },
    {
     "name": "stdout",
     "output_type": "stream",
     "text": [
      "{'constituency1': '[[Saint-Léonard—Saint-Michel]]',\n",
      " 'name': 'Patricia Lattanzio',\n",
      " 'office1': 'Member of the [[House of Commons of Canada]]',\n",
      " 'office2': '[[Montreal City Council]]lor for [[Saint-Leonard, '\n",
      "            'Quebec|Saint-Léonard-Est]]',\n",
      " 'otherparty': '[[Équipe Denis Coderre]]',\n",
      " 'party': '[[Liberal Party of Canada]]',\n",
      " 'predecessor1': '[[Domenico Moschella]]',\n",
      " 'predecessor2': '[[Domenico Moschella]]',\n",
      " 'successor1': '[[Nicola Di Iorio]]',\n",
      " 'successor2': \"''TBA''\",\n",
      " 'term_end2': '2019',\n",
      " 'term_start1': 'October 21, 2019',\n",
      " 'term_start2': 'November 15, 2015'}\n"
     ]
    },
    {
     "name": "stderr",
     "output_type": "stream",
     "text": [
      "ERROR:root:No birth_date key specified in infobox for Andréanne Larouche\n"
     ]
    },
    {
     "name": "stdout",
     "output_type": "stream",
     "text": [
      "{'honorific-suffix': '[[Member of parliament|MP]]',\n",
      " 'name': 'Andréanne Larouche',\n",
      " 'parliament': 'Canadian',\n",
      " 'party': '[[Bloc Québécois]]',\n",
      " 'predecessor': '[[Pierre Breton]]',\n",
      " 'riding': '[[Shefford (electoral district)|Shefford]]',\n",
      " 'term_start': 'October 21, 2019'}\n"
     ]
    },
    {
     "name": "stderr",
     "output_type": "stream",
     "text": [
      "ERROR:root:No birth_date key specified in infobox for Élisabeth Brière\n"
     ]
    },
    {
     "name": "stdout",
     "output_type": "stream",
     "text": [
      "{'honorific-suffix': '[[Member of Parliament#Canada|MP]]',\n",
      " 'imagesize': '200px',\n",
      " 'name': 'Élisabeth Brière',\n",
      " 'parliament': 'Canadian',\n",
      " 'party': '[[Liberal Party of Canada]]',\n",
      " 'predecessor': '[[Pierre-Luc Dusseault]]',\n",
      " 'residence': '[[Sherbrooke]], [[Quebec]]',\n",
      " 'riding': '[[Sherbrooke (electoral district)|Sherbrooke]]',\n",
      " 'term_start': 'October 21, 2019'}\n"
     ]
    },
    {
     "name": "stderr",
     "output_type": "stream",
     "text": [
      "ERROR:root:No birth_date key specified in infobox for Louise Chabot\n"
     ]
    },
    {
     "name": "stdout",
     "output_type": "stream",
     "text": [
      "{'caption': \"Chabot's official parliamentary photo\",\n",
      " 'honorific-suffix': '{{post-nominals|country|=|CAN|MP|size|=|100%}}',\n",
      " 'name': 'Louise Chabot',\n",
      " 'parliament': 'Canadian',\n",
      " 'party': '[[Bloc Québécois]]',\n",
      " 'predecessor': '[[Ramez Ayoub]]',\n",
      " 'riding': '[[Thérèse-De Blainville]]',\n",
      " 'term_start': 'October 21, 2019'}\n"
     ]
    },
    {
     "name": "stderr",
     "output_type": "stream",
     "text": [
      "ERROR:root:No birth_date key specified in infobox for Louise Charbonneau\n"
     ]
    },
    {
     "name": "stdout",
     "output_type": "stream",
     "text": [
      "{'honorific-suffix': '{{post-nominals|country|=|CAN|MP|size|=|100%}}',\n",
      " 'imagesize': '200px',\n",
      " 'name': 'Louise Charbonneau',\n",
      " 'parliament': 'Canadian',\n",
      " 'party': '[[Bloc Québécois]]',\n",
      " 'predecessor': '[[Robert Aubin]]',\n",
      " 'residence': '[[Trois-Rivières]], [[Quebec]]',\n",
      " 'riding': '[[Trois-Rivières (electoral district)|Trois-Rivières]]',\n",
      " 'term_start': 'October 21, 2019'}\n"
     ]
    },
    {
     "name": "stderr",
     "output_type": "stream",
     "text": [
      "ERROR:root:No birth_date key specified in infobox for Annie Koutrakis\n"
     ]
    },
    {
     "name": "stdout",
     "output_type": "stream",
     "text": [
      "{'birth_place': '[[Montreal]], [[Quebec]]',\n",
      " 'honorific-suffix': '[[House of Commons of Canada|MP]]',\n",
      " 'name': 'Annie Koutrakis',\n",
      " 'parliament': 'Canadian',\n",
      " 'party': '[[Liberal Party of Canada|Liberal]]',\n",
      " 'predecessor': '[[Eva Nassif]]',\n",
      " 'profession': 'Politician',\n",
      " 'residence': '[[Laval, Quebec]]',\n",
      " 'riding': '[[Vimy (electoral district)|Vimy]]',\n",
      " 'term_start': 'October 21, 2019'}\n"
     ]
    },
    {
     "name": "stderr",
     "output_type": "stream",
     "text": [
      "ERROR:root:No birth_date key specified in infobox for Kevin Waugh\n"
     ]
    },
    {
     "name": "stdout",
     "output_type": "stream",
     "text": [
      "{'birth_place': '[[Saskatoon]], [[Saskatchewan]]',\n",
      " 'honorific-suffix': '[[Member of Parliament#Canada|MP]]',\n",
      " 'imagesize': '200px',\n",
      " 'name': 'Kevin Waugh',\n",
      " 'office1': 'Saskatchewan Conservative Caucus Chair',\n",
      " 'office2': '[[Saskatoon Public School Division]] Trustee',\n",
      " 'parliament': 'Canadian',\n",
      " 'party': '[[Conservative Party of Canada|Conservative]]',\n",
      " 'predecessor': '[[Lynne Yelich]]',\n",
      " 'predecessor1': '[[Randy Hoback]]',\n",
      " 'predecessor2': 'Lindsay Fast',\n",
      " 'profession': 'Broadcaster',\n",
      " 'riding': '[[Saskatoon—Grasswood]]',\n",
      " 'spouse': 'Ann Waugh',\n",
      " 'successor2': 'Charmaine Bellamy',\n",
      " 'term_end2': 'October 27, 2015',\n",
      " 'term_start': 'October 19, 2015',\n",
      " 'term_start1': 'December 4, 2019',\n",
      " 'term_start2': 'November 1, 2006'}\n"
     ]
    },
    {
     "name": "stderr",
     "output_type": "stream",
     "text": [
      "ERROR:root:No birth_date key specified in infobox for Robert Kitchen\n"
     ]
    },
    {
     "name": "stdout",
     "output_type": "stream",
     "text": [
      "{'birth_place': '[[Poole]], [[Dorset]], [[England]]',\n",
      " 'children': 'Andrew<br />Kathryn<br />Stephen',\n",
      " 'honorific-prefix': '[[Doctor (title)|Doctor]]',\n",
      " 'honorific-suffix': '{{post-nominals|country|=|CAN|MP|size|=|100%}}',\n",
      " 'image': 'MPKitchen.jpg',\n",
      " 'imagesize': '200px',\n",
      " 'leader': '[[Andrew Scheer]]',\n",
      " 'name': 'Robert Kitchen',\n",
      " 'office': '[[Minister for Sport|Shadow Minister for Sport]]',\n",
      " 'parliament1': 'Canadian',\n",
      " 'party': 'Conservative',\n",
      " 'predecessor': '[[Matthew Dubé]]',\n",
      " 'predecessor1': '[[Ed Komarnicki]]',\n",
      " 'profession': 'Chiropractor',\n",
      " 'residence': '[[Estevan]], [[Saskatchewan]], Canada',\n",
      " 'riding1': '[[Souris—Moose Mountain]]',\n",
      " 'spouse': 'Donna Kitchen',\n",
      " 'term_start': 'November 19, 2015',\n",
      " 'term_start1': 'October 19, 2015'}\n"
     ]
    }
   ],
   "source": [
    "birthdays = missing_members.Name_link.apply(wiki_utils.extract_birth_date_from_infobox)"
   ]
  },
  {
   "cell_type": "code",
   "execution_count": 65,
   "metadata": {},
   "outputs": [
    {
     "name": "stderr",
     "output_type": "stream",
     "text": [
      "/Users/Daniel_Kats/anaconda3/lib/python3.7/site-packages/ipykernel_launcher.py:1: SettingWithCopyWarning: \n",
      "A value is trying to be set on a copy of a slice from a DataFrame.\n",
      "Try using .loc[row_indexer,col_indexer] = value instead\n",
      "\n",
      "See the caveats in the documentation: https://pandas.pydata.org/pandas-docs/stable/user_guide/indexing.html#returning-a-view-versus-a-copy\n",
      "  \"\"\"Entry point for launching an IPython kernel.\n"
     ]
    }
   ],
   "source": [
    "missing_members['infobox_birthday'] = birthdays"
   ]
  },
  {
   "cell_type": "code",
   "execution_count": 66,
   "metadata": {},
   "outputs": [
    {
     "data": {
      "text/html": [
       "<div>\n",
       "<style scoped>\n",
       "    .dataframe tbody tr th:only-of-type {\n",
       "        vertical-align: middle;\n",
       "    }\n",
       "\n",
       "    .dataframe tbody tr th {\n",
       "        vertical-align: top;\n",
       "    }\n",
       "\n",
       "    .dataframe thead th {\n",
       "        text-align: right;\n",
       "    }\n",
       "</style>\n",
       "<table border=\"1\" class=\"dataframe\">\n",
       "  <thead>\n",
       "    <tr style=\"text-align: right;\">\n",
       "      <th></th>\n",
       "      <th></th>\n",
       "      <th>Name</th>\n",
       "      <th>Name_link</th>\n",
       "      <th>Party</th>\n",
       "      <th>Party_link</th>\n",
       "      <th>Electoral district</th>\n",
       "      <th>Electoral district_link</th>\n",
       "      <th>age</th>\n",
       "      <th>new_age</th>\n",
       "      <th>infobox_birthday</th>\n",
       "    </tr>\n",
       "  </thead>\n",
       "  <tbody>\n",
       "    <tr>\n",
       "      <th>1</th>\n",
       "      <td></td>\n",
       "      <td>Damien Kurek</td>\n",
       "      <td>/wiki/Damien_Kurek</td>\n",
       "      <td>Conservative</td>\n",
       "      <td>None</td>\n",
       "      <td>Battle River—Crowfoot</td>\n",
       "      <td>/wiki/Battle_River%E2%80%94Crowfoot</td>\n",
       "      <td>NaN</td>\n",
       "      <td>29.0</td>\n",
       "      <td>{{Birth based on age as of date|29|2019|9|25}}</td>\n",
       "    </tr>\n",
       "    <tr>\n",
       "      <th>3</th>\n",
       "      <td></td>\n",
       "      <td>Greg McLean</td>\n",
       "      <td>/wiki/Greg_McLean_(politician)</td>\n",
       "      <td>Conservative</td>\n",
       "      <td>None</td>\n",
       "      <td>Calgary Centre</td>\n",
       "      <td>/wiki/Calgary_Centre</td>\n",
       "      <td>NaN</td>\n",
       "      <td>NaN</td>\n",
       "      <td>None</td>\n",
       "    </tr>\n",
       "    <tr>\n",
       "      <th>5</th>\n",
       "      <td></td>\n",
       "      <td>Jasraj Hallan</td>\n",
       "      <td>/wiki/Jasraj_Hallan</td>\n",
       "      <td>Conservative</td>\n",
       "      <td>None</td>\n",
       "      <td>Calgary Forest Lawn</td>\n",
       "      <td>/wiki/Calgary_Forest_Lawn</td>\n",
       "      <td>NaN</td>\n",
       "      <td>NaN</td>\n",
       "      <td>None</td>\n",
       "    </tr>\n",
       "    <tr>\n",
       "      <th>9</th>\n",
       "      <td></td>\n",
       "      <td>Pat Kelly</td>\n",
       "      <td>/wiki/Pat_Kelly_(politician)</td>\n",
       "      <td>Conservative</td>\n",
       "      <td>None</td>\n",
       "      <td>Calgary Rocky Ridge</td>\n",
       "      <td>/wiki/Calgary_Rocky_Ridge</td>\n",
       "      <td>NaN</td>\n",
       "      <td>48.0</td>\n",
       "      <td>{{Birth based on age as of date|44|2015|8|26}}</td>\n",
       "    </tr>\n",
       "    <tr>\n",
       "      <th>12</th>\n",
       "      <td></td>\n",
       "      <td>Jag Sahota</td>\n",
       "      <td>/wiki/Jag_Sahota</td>\n",
       "      <td>Conservative</td>\n",
       "      <td>None</td>\n",
       "      <td>Calgary Skyview</td>\n",
       "      <td>/wiki/Calgary_Skyview</td>\n",
       "      <td>NaN</td>\n",
       "      <td>42.0</td>\n",
       "      <td>{{Birth year and age|1978}}</td>\n",
       "    </tr>\n",
       "    <tr>\n",
       "      <th>...</th>\n",
       "      <td>...</td>\n",
       "      <td>...</td>\n",
       "      <td>...</td>\n",
       "      <td>...</td>\n",
       "      <td>...</td>\n",
       "      <td>...</td>\n",
       "      <td>...</td>\n",
       "      <td>...</td>\n",
       "      <td>...</td>\n",
       "      <td>...</td>\n",
       "    </tr>\n",
       "    <tr>\n",
       "      <th>330</th>\n",
       "      <td></td>\n",
       "      <td>Kevin Waugh</td>\n",
       "      <td>/wiki/Kevin_Waugh</td>\n",
       "      <td>Conservative</td>\n",
       "      <td>None</td>\n",
       "      <td>Saskatoon—Grasswood</td>\n",
       "      <td>/wiki/Saskatoon%E2%80%94Grasswood</td>\n",
       "      <td>NaN</td>\n",
       "      <td>NaN</td>\n",
       "      <td>None</td>\n",
       "    </tr>\n",
       "    <tr>\n",
       "      <th>331</th>\n",
       "      <td></td>\n",
       "      <td>Corey Tochor</td>\n",
       "      <td>/wiki/Corey_Tochor</td>\n",
       "      <td>Conservative</td>\n",
       "      <td>None</td>\n",
       "      <td>Saskatoon—University</td>\n",
       "      <td>/wiki/Saskatoon%E2%80%94University</td>\n",
       "      <td>NaN</td>\n",
       "      <td>42.0</td>\n",
       "      <td>{{Birth based on age as of date|42|2019|10|7|m...</td>\n",
       "    </tr>\n",
       "    <tr>\n",
       "      <th>332</th>\n",
       "      <td></td>\n",
       "      <td>Brad Redekopp</td>\n",
       "      <td>/wiki/Brad_Redekopp</td>\n",
       "      <td>Conservative</td>\n",
       "      <td>None</td>\n",
       "      <td>Saskatoon West</td>\n",
       "      <td>/wiki/Saskatoon_West</td>\n",
       "      <td>NaN</td>\n",
       "      <td>54.0</td>\n",
       "      <td>{{Birth based on age as of date|54|2019|10|6|m...</td>\n",
       "    </tr>\n",
       "    <tr>\n",
       "      <th>333</th>\n",
       "      <td></td>\n",
       "      <td>Robert Kitchen</td>\n",
       "      <td>/wiki/Robert_Kitchen</td>\n",
       "      <td>Conservative</td>\n",
       "      <td>None</td>\n",
       "      <td>Souris—Moose Mountain</td>\n",
       "      <td>/wiki/Souris%E2%80%94Moose_Mountain</td>\n",
       "      <td>NaN</td>\n",
       "      <td>NaN</td>\n",
       "      <td>None</td>\n",
       "    </tr>\n",
       "    <tr>\n",
       "      <th>336</th>\n",
       "      <td></td>\n",
       "      <td>Mumilaaq Qaqqaq</td>\n",
       "      <td>/wiki/Mumilaaq_Qaqqaq</td>\n",
       "      <td>NDP</td>\n",
       "      <td>/wiki/New_Democratic_Party</td>\n",
       "      <td>Nunavut</td>\n",
       "      <td>/wiki/Nunavut_(electoral_district)</td>\n",
       "      <td>NaN</td>\n",
       "      <td>26.0</td>\n",
       "      <td>{{Birth based on age as of date|26|2019|11|13}}</td>\n",
       "    </tr>\n",
       "  </tbody>\n",
       "</table>\n",
       "<p>110 rows × 10 columns</p>\n",
       "</div>"
      ],
      "text/plain": [
       "                   Name                       Name_link         Party  \\\n",
       "1          Damien Kurek              /wiki/Damien_Kurek  Conservative   \n",
       "3           Greg McLean  /wiki/Greg_McLean_(politician)  Conservative   \n",
       "5         Jasraj Hallan             /wiki/Jasraj_Hallan  Conservative   \n",
       "9             Pat Kelly    /wiki/Pat_Kelly_(politician)  Conservative   \n",
       "12           Jag Sahota                /wiki/Jag_Sahota  Conservative   \n",
       "..  ..              ...                             ...           ...   \n",
       "330         Kevin Waugh               /wiki/Kevin_Waugh  Conservative   \n",
       "331        Corey Tochor              /wiki/Corey_Tochor  Conservative   \n",
       "332       Brad Redekopp             /wiki/Brad_Redekopp  Conservative   \n",
       "333      Robert Kitchen            /wiki/Robert_Kitchen  Conservative   \n",
       "336     Mumilaaq Qaqqaq           /wiki/Mumilaaq_Qaqqaq           NDP   \n",
       "\n",
       "                     Party_link     Electoral district  \\\n",
       "1                          None  Battle River—Crowfoot   \n",
       "3                          None         Calgary Centre   \n",
       "5                          None    Calgary Forest Lawn   \n",
       "9                          None    Calgary Rocky Ridge   \n",
       "12                         None        Calgary Skyview   \n",
       "..                          ...                    ...   \n",
       "330                        None    Saskatoon—Grasswood   \n",
       "331                        None   Saskatoon—University   \n",
       "332                        None         Saskatoon West   \n",
       "333                        None  Souris—Moose Mountain   \n",
       "336  /wiki/New_Democratic_Party                Nunavut   \n",
       "\n",
       "                 Electoral district_link  age  new_age  \\\n",
       "1    /wiki/Battle_River%E2%80%94Crowfoot  NaN     29.0   \n",
       "3                   /wiki/Calgary_Centre  NaN      NaN   \n",
       "5              /wiki/Calgary_Forest_Lawn  NaN      NaN   \n",
       "9              /wiki/Calgary_Rocky_Ridge  NaN     48.0   \n",
       "12                 /wiki/Calgary_Skyview  NaN     42.0   \n",
       "..                                   ...  ...      ...   \n",
       "330    /wiki/Saskatoon%E2%80%94Grasswood  NaN      NaN   \n",
       "331   /wiki/Saskatoon%E2%80%94University  NaN     42.0   \n",
       "332                 /wiki/Saskatoon_West  NaN     54.0   \n",
       "333  /wiki/Souris%E2%80%94Moose_Mountain  NaN      NaN   \n",
       "336   /wiki/Nunavut_(electoral_district)  NaN     26.0   \n",
       "\n",
       "                                      infobox_birthday  \n",
       "1       {{Birth based on age as of date|29|2019|9|25}}  \n",
       "3                                                 None  \n",
       "5                                                 None  \n",
       "9       {{Birth based on age as of date|44|2015|8|26}}  \n",
       "12                         {{Birth year and age|1978}}  \n",
       "..                                                 ...  \n",
       "330                                               None  \n",
       "331  {{Birth based on age as of date|42|2019|10|7|m...  \n",
       "332  {{Birth based on age as of date|54|2019|10|6|m...  \n",
       "333                                               None  \n",
       "336    {{Birth based on age as of date|26|2019|11|13}}  \n",
       "\n",
       "[110 rows x 10 columns]"
      ]
     },
     "execution_count": 66,
     "metadata": {},
     "output_type": "execute_result"
    }
   ],
   "source": [
    "missing_members"
   ]
  },
  {
   "cell_type": "code",
   "execution_count": 67,
   "metadata": {},
   "outputs": [
    {
     "data": {
      "text/plain": [
       "(45, 10)"
      ]
     },
     "execution_count": 67,
     "metadata": {},
     "output_type": "execute_result"
    }
   ],
   "source": [
    "missing_members[pd.isna(missing_members['infobox_birthday'])].shape"
   ]
  },
  {
   "cell_type": "code",
   "execution_count": 68,
   "metadata": {},
   "outputs": [
    {
     "name": "stderr",
     "output_type": "stream",
     "text": [
      "/Users/Daniel_Kats/anaconda3/lib/python3.7/site-packages/ipykernel_launcher.py:1: SettingWithCopyWarning: \n",
      "A value is trying to be set on a copy of a slice from a DataFrame.\n",
      "Try using .loc[row_indexer,col_indexer] = value instead\n",
      "\n",
      "See the caveats in the documentation: https://pandas.pydata.org/pandas-docs/stable/user_guide/indexing.html#returning-a-view-versus-a-copy\n",
      "  \"\"\"Entry point for launching an IPython kernel.\n"
     ]
    },
    {
     "data": {
      "text/html": [
       "<div>\n",
       "<style scoped>\n",
       "    .dataframe tbody tr th:only-of-type {\n",
       "        vertical-align: middle;\n",
       "    }\n",
       "\n",
       "    .dataframe tbody tr th {\n",
       "        vertical-align: top;\n",
       "    }\n",
       "\n",
       "    .dataframe thead th {\n",
       "        text-align: right;\n",
       "    }\n",
       "</style>\n",
       "<table border=\"1\" class=\"dataframe\">\n",
       "  <thead>\n",
       "    <tr style=\"text-align: right;\">\n",
       "      <th></th>\n",
       "      <th></th>\n",
       "      <th>Name</th>\n",
       "      <th>Name_link</th>\n",
       "      <th>Party</th>\n",
       "      <th>Party_link</th>\n",
       "      <th>Electoral district</th>\n",
       "      <th>Electoral district_link</th>\n",
       "      <th>age</th>\n",
       "      <th>new_age</th>\n",
       "      <th>infobox_birthday</th>\n",
       "      <th>parsed_birthday</th>\n",
       "    </tr>\n",
       "  </thead>\n",
       "  <tbody>\n",
       "    <tr>\n",
       "      <th>1</th>\n",
       "      <td></td>\n",
       "      <td>Damien Kurek</td>\n",
       "      <td>/wiki/Damien_Kurek</td>\n",
       "      <td>Conservative</td>\n",
       "      <td>None</td>\n",
       "      <td>Battle River—Crowfoot</td>\n",
       "      <td>/wiki/Battle_River%E2%80%94Crowfoot</td>\n",
       "      <td>NaN</td>\n",
       "      <td>29.0</td>\n",
       "      <td>{{Birth based on age as of date|29|2019|9|25}}</td>\n",
       "      <td>1990-09-25</td>\n",
       "    </tr>\n",
       "    <tr>\n",
       "      <th>3</th>\n",
       "      <td></td>\n",
       "      <td>Greg McLean</td>\n",
       "      <td>/wiki/Greg_McLean_(politician)</td>\n",
       "      <td>Conservative</td>\n",
       "      <td>None</td>\n",
       "      <td>Calgary Centre</td>\n",
       "      <td>/wiki/Calgary_Centre</td>\n",
       "      <td>NaN</td>\n",
       "      <td>NaN</td>\n",
       "      <td>None</td>\n",
       "      <td>NaT</td>\n",
       "    </tr>\n",
       "    <tr>\n",
       "      <th>5</th>\n",
       "      <td></td>\n",
       "      <td>Jasraj Hallan</td>\n",
       "      <td>/wiki/Jasraj_Hallan</td>\n",
       "      <td>Conservative</td>\n",
       "      <td>None</td>\n",
       "      <td>Calgary Forest Lawn</td>\n",
       "      <td>/wiki/Calgary_Forest_Lawn</td>\n",
       "      <td>NaN</td>\n",
       "      <td>NaN</td>\n",
       "      <td>None</td>\n",
       "      <td>NaT</td>\n",
       "    </tr>\n",
       "    <tr>\n",
       "      <th>9</th>\n",
       "      <td></td>\n",
       "      <td>Pat Kelly</td>\n",
       "      <td>/wiki/Pat_Kelly_(politician)</td>\n",
       "      <td>Conservative</td>\n",
       "      <td>None</td>\n",
       "      <td>Calgary Rocky Ridge</td>\n",
       "      <td>/wiki/Calgary_Rocky_Ridge</td>\n",
       "      <td>NaN</td>\n",
       "      <td>48.0</td>\n",
       "      <td>{{Birth based on age as of date|44|2015|8|26}}</td>\n",
       "      <td>1971-08-26</td>\n",
       "    </tr>\n",
       "    <tr>\n",
       "      <th>12</th>\n",
       "      <td></td>\n",
       "      <td>Jag Sahota</td>\n",
       "      <td>/wiki/Jag_Sahota</td>\n",
       "      <td>Conservative</td>\n",
       "      <td>None</td>\n",
       "      <td>Calgary Skyview</td>\n",
       "      <td>/wiki/Calgary_Skyview</td>\n",
       "      <td>NaN</td>\n",
       "      <td>42.0</td>\n",
       "      <td>{{Birth year and age|1978}}</td>\n",
       "      <td>1978-01-01</td>\n",
       "    </tr>\n",
       "    <tr>\n",
       "      <th>...</th>\n",
       "      <td>...</td>\n",
       "      <td>...</td>\n",
       "      <td>...</td>\n",
       "      <td>...</td>\n",
       "      <td>...</td>\n",
       "      <td>...</td>\n",
       "      <td>...</td>\n",
       "      <td>...</td>\n",
       "      <td>...</td>\n",
       "      <td>...</td>\n",
       "      <td>...</td>\n",
       "    </tr>\n",
       "    <tr>\n",
       "      <th>330</th>\n",
       "      <td></td>\n",
       "      <td>Kevin Waugh</td>\n",
       "      <td>/wiki/Kevin_Waugh</td>\n",
       "      <td>Conservative</td>\n",
       "      <td>None</td>\n",
       "      <td>Saskatoon—Grasswood</td>\n",
       "      <td>/wiki/Saskatoon%E2%80%94Grasswood</td>\n",
       "      <td>NaN</td>\n",
       "      <td>NaN</td>\n",
       "      <td>None</td>\n",
       "      <td>NaT</td>\n",
       "    </tr>\n",
       "    <tr>\n",
       "      <th>331</th>\n",
       "      <td></td>\n",
       "      <td>Corey Tochor</td>\n",
       "      <td>/wiki/Corey_Tochor</td>\n",
       "      <td>Conservative</td>\n",
       "      <td>None</td>\n",
       "      <td>Saskatoon—University</td>\n",
       "      <td>/wiki/Saskatoon%E2%80%94University</td>\n",
       "      <td>NaN</td>\n",
       "      <td>42.0</td>\n",
       "      <td>{{Birth based on age as of date|42|2019|10|7|m...</td>\n",
       "      <td>1977-10-07</td>\n",
       "    </tr>\n",
       "    <tr>\n",
       "      <th>332</th>\n",
       "      <td></td>\n",
       "      <td>Brad Redekopp</td>\n",
       "      <td>/wiki/Brad_Redekopp</td>\n",
       "      <td>Conservative</td>\n",
       "      <td>None</td>\n",
       "      <td>Saskatoon West</td>\n",
       "      <td>/wiki/Saskatoon_West</td>\n",
       "      <td>NaN</td>\n",
       "      <td>54.0</td>\n",
       "      <td>{{Birth based on age as of date|54|2019|10|6|m...</td>\n",
       "      <td>1965-10-06</td>\n",
       "    </tr>\n",
       "    <tr>\n",
       "      <th>333</th>\n",
       "      <td></td>\n",
       "      <td>Robert Kitchen</td>\n",
       "      <td>/wiki/Robert_Kitchen</td>\n",
       "      <td>Conservative</td>\n",
       "      <td>None</td>\n",
       "      <td>Souris—Moose Mountain</td>\n",
       "      <td>/wiki/Souris%E2%80%94Moose_Mountain</td>\n",
       "      <td>NaN</td>\n",
       "      <td>NaN</td>\n",
       "      <td>None</td>\n",
       "      <td>NaT</td>\n",
       "    </tr>\n",
       "    <tr>\n",
       "      <th>336</th>\n",
       "      <td></td>\n",
       "      <td>Mumilaaq Qaqqaq</td>\n",
       "      <td>/wiki/Mumilaaq_Qaqqaq</td>\n",
       "      <td>NDP</td>\n",
       "      <td>/wiki/New_Democratic_Party</td>\n",
       "      <td>Nunavut</td>\n",
       "      <td>/wiki/Nunavut_(electoral_district)</td>\n",
       "      <td>NaN</td>\n",
       "      <td>26.0</td>\n",
       "      <td>{{Birth based on age as of date|26|2019|11|13}}</td>\n",
       "      <td>1993-11-13</td>\n",
       "    </tr>\n",
       "  </tbody>\n",
       "</table>\n",
       "<p>110 rows × 11 columns</p>\n",
       "</div>"
      ],
      "text/plain": [
       "                   Name                       Name_link         Party  \\\n",
       "1          Damien Kurek              /wiki/Damien_Kurek  Conservative   \n",
       "3           Greg McLean  /wiki/Greg_McLean_(politician)  Conservative   \n",
       "5         Jasraj Hallan             /wiki/Jasraj_Hallan  Conservative   \n",
       "9             Pat Kelly    /wiki/Pat_Kelly_(politician)  Conservative   \n",
       "12           Jag Sahota                /wiki/Jag_Sahota  Conservative   \n",
       "..  ..              ...                             ...           ...   \n",
       "330         Kevin Waugh               /wiki/Kevin_Waugh  Conservative   \n",
       "331        Corey Tochor              /wiki/Corey_Tochor  Conservative   \n",
       "332       Brad Redekopp             /wiki/Brad_Redekopp  Conservative   \n",
       "333      Robert Kitchen            /wiki/Robert_Kitchen  Conservative   \n",
       "336     Mumilaaq Qaqqaq           /wiki/Mumilaaq_Qaqqaq           NDP   \n",
       "\n",
       "                     Party_link     Electoral district  \\\n",
       "1                          None  Battle River—Crowfoot   \n",
       "3                          None         Calgary Centre   \n",
       "5                          None    Calgary Forest Lawn   \n",
       "9                          None    Calgary Rocky Ridge   \n",
       "12                         None        Calgary Skyview   \n",
       "..                          ...                    ...   \n",
       "330                        None    Saskatoon—Grasswood   \n",
       "331                        None   Saskatoon—University   \n",
       "332                        None         Saskatoon West   \n",
       "333                        None  Souris—Moose Mountain   \n",
       "336  /wiki/New_Democratic_Party                Nunavut   \n",
       "\n",
       "                 Electoral district_link  age  new_age  \\\n",
       "1    /wiki/Battle_River%E2%80%94Crowfoot  NaN     29.0   \n",
       "3                   /wiki/Calgary_Centre  NaN      NaN   \n",
       "5              /wiki/Calgary_Forest_Lawn  NaN      NaN   \n",
       "9              /wiki/Calgary_Rocky_Ridge  NaN     48.0   \n",
       "12                 /wiki/Calgary_Skyview  NaN     42.0   \n",
       "..                                   ...  ...      ...   \n",
       "330    /wiki/Saskatoon%E2%80%94Grasswood  NaN      NaN   \n",
       "331   /wiki/Saskatoon%E2%80%94University  NaN     42.0   \n",
       "332                 /wiki/Saskatoon_West  NaN     54.0   \n",
       "333  /wiki/Souris%E2%80%94Moose_Mountain  NaN      NaN   \n",
       "336   /wiki/Nunavut_(electoral_district)  NaN     26.0   \n",
       "\n",
       "                                      infobox_birthday parsed_birthday  \n",
       "1       {{Birth based on age as of date|29|2019|9|25}}      1990-09-25  \n",
       "3                                                 None             NaT  \n",
       "5                                                 None             NaT  \n",
       "9       {{Birth based on age as of date|44|2015|8|26}}      1971-08-26  \n",
       "12                         {{Birth year and age|1978}}      1978-01-01  \n",
       "..                                                 ...             ...  \n",
       "330                                               None             NaT  \n",
       "331  {{Birth based on age as of date|42|2019|10|7|m...      1977-10-07  \n",
       "332  {{Birth based on age as of date|54|2019|10|6|m...      1965-10-06  \n",
       "333                                               None             NaT  \n",
       "336    {{Birth based on age as of date|26|2019|11|13}}      1993-11-13  \n",
       "\n",
       "[110 rows x 11 columns]"
      ]
     },
     "execution_count": 68,
     "metadata": {},
     "output_type": "execute_result"
    }
   ],
   "source": [
    "missing_members['parsed_birthday'] = missing_members['infobox_birthday'].apply(wiki_utils.extract_birthday_from_infobox_macro)\n",
    "missing_members"
   ]
  },
  {
   "cell_type": "code",
   "execution_count": 69,
   "metadata": {},
   "outputs": [
    {
     "name": "stderr",
     "output_type": "stream",
     "text": [
      "/Users/Daniel_Kats/anaconda3/lib/python3.7/site-packages/ipykernel_launcher.py:1: SettingWithCopyWarning: \n",
      "A value is trying to be set on a copy of a slice from a DataFrame.\n",
      "Try using .loc[row_indexer,col_indexer] = value instead\n",
      "\n",
      "See the caveats in the documentation: https://pandas.pydata.org/pandas-docs/stable/user_guide/indexing.html#returning-a-view-versus-a-copy\n",
      "  \"\"\"Entry point for launching an IPython kernel.\n"
     ]
    }
   ],
   "source": [
    "missing_members['approx_age'] = missing_members.parsed_birthday.apply(date_utils.get_age_from_birthday)"
   ]
  },
  {
   "cell_type": "code",
   "execution_count": 70,
   "metadata": {},
   "outputs": [
    {
     "data": {
      "text/html": [
       "<div>\n",
       "<style scoped>\n",
       "    .dataframe tbody tr th:only-of-type {\n",
       "        vertical-align: middle;\n",
       "    }\n",
       "\n",
       "    .dataframe tbody tr th {\n",
       "        vertical-align: top;\n",
       "    }\n",
       "\n",
       "    .dataframe thead th {\n",
       "        text-align: right;\n",
       "    }\n",
       "</style>\n",
       "<table border=\"1\" class=\"dataframe\">\n",
       "  <thead>\n",
       "    <tr style=\"text-align: right;\">\n",
       "      <th></th>\n",
       "      <th></th>\n",
       "      <th>Name</th>\n",
       "      <th>Name_link</th>\n",
       "      <th>Party</th>\n",
       "      <th>Party_link</th>\n",
       "      <th>Electoral district</th>\n",
       "      <th>Electoral district_link</th>\n",
       "      <th>age</th>\n",
       "      <th>new_age</th>\n",
       "      <th>infobox_birthday</th>\n",
       "      <th>parsed_birthday</th>\n",
       "      <th>approx_age</th>\n",
       "    </tr>\n",
       "  </thead>\n",
       "  <tbody>\n",
       "    <tr>\n",
       "      <th>1</th>\n",
       "      <td></td>\n",
       "      <td>Damien Kurek</td>\n",
       "      <td>/wiki/Damien_Kurek</td>\n",
       "      <td>Conservative</td>\n",
       "      <td>None</td>\n",
       "      <td>Battle River—Crowfoot</td>\n",
       "      <td>/wiki/Battle_River%E2%80%94Crowfoot</td>\n",
       "      <td>NaN</td>\n",
       "      <td>29.0</td>\n",
       "      <td>{{Birth based on age as of date|29|2019|9|25}}</td>\n",
       "      <td>1990-09-25</td>\n",
       "      <td>29.0</td>\n",
       "    </tr>\n",
       "    <tr>\n",
       "      <th>3</th>\n",
       "      <td></td>\n",
       "      <td>Greg McLean</td>\n",
       "      <td>/wiki/Greg_McLean_(politician)</td>\n",
       "      <td>Conservative</td>\n",
       "      <td>None</td>\n",
       "      <td>Calgary Centre</td>\n",
       "      <td>/wiki/Calgary_Centre</td>\n",
       "      <td>NaN</td>\n",
       "      <td>NaN</td>\n",
       "      <td>None</td>\n",
       "      <td>NaT</td>\n",
       "      <td>NaN</td>\n",
       "    </tr>\n",
       "    <tr>\n",
       "      <th>5</th>\n",
       "      <td></td>\n",
       "      <td>Jasraj Hallan</td>\n",
       "      <td>/wiki/Jasraj_Hallan</td>\n",
       "      <td>Conservative</td>\n",
       "      <td>None</td>\n",
       "      <td>Calgary Forest Lawn</td>\n",
       "      <td>/wiki/Calgary_Forest_Lawn</td>\n",
       "      <td>NaN</td>\n",
       "      <td>NaN</td>\n",
       "      <td>None</td>\n",
       "      <td>NaT</td>\n",
       "      <td>NaN</td>\n",
       "    </tr>\n",
       "    <tr>\n",
       "      <th>9</th>\n",
       "      <td></td>\n",
       "      <td>Pat Kelly</td>\n",
       "      <td>/wiki/Pat_Kelly_(politician)</td>\n",
       "      <td>Conservative</td>\n",
       "      <td>None</td>\n",
       "      <td>Calgary Rocky Ridge</td>\n",
       "      <td>/wiki/Calgary_Rocky_Ridge</td>\n",
       "      <td>NaN</td>\n",
       "      <td>48.0</td>\n",
       "      <td>{{Birth based on age as of date|44|2015|8|26}}</td>\n",
       "      <td>1971-08-26</td>\n",
       "      <td>48.0</td>\n",
       "    </tr>\n",
       "    <tr>\n",
       "      <th>12</th>\n",
       "      <td></td>\n",
       "      <td>Jag Sahota</td>\n",
       "      <td>/wiki/Jag_Sahota</td>\n",
       "      <td>Conservative</td>\n",
       "      <td>None</td>\n",
       "      <td>Calgary Skyview</td>\n",
       "      <td>/wiki/Calgary_Skyview</td>\n",
       "      <td>NaN</td>\n",
       "      <td>42.0</td>\n",
       "      <td>{{Birth year and age|1978}}</td>\n",
       "      <td>1978-01-01</td>\n",
       "      <td>42.0</td>\n",
       "    </tr>\n",
       "    <tr>\n",
       "      <th>...</th>\n",
       "      <td>...</td>\n",
       "      <td>...</td>\n",
       "      <td>...</td>\n",
       "      <td>...</td>\n",
       "      <td>...</td>\n",
       "      <td>...</td>\n",
       "      <td>...</td>\n",
       "      <td>...</td>\n",
       "      <td>...</td>\n",
       "      <td>...</td>\n",
       "      <td>...</td>\n",
       "      <td>...</td>\n",
       "    </tr>\n",
       "    <tr>\n",
       "      <th>330</th>\n",
       "      <td></td>\n",
       "      <td>Kevin Waugh</td>\n",
       "      <td>/wiki/Kevin_Waugh</td>\n",
       "      <td>Conservative</td>\n",
       "      <td>None</td>\n",
       "      <td>Saskatoon—Grasswood</td>\n",
       "      <td>/wiki/Saskatoon%E2%80%94Grasswood</td>\n",
       "      <td>NaN</td>\n",
       "      <td>NaN</td>\n",
       "      <td>None</td>\n",
       "      <td>NaT</td>\n",
       "      <td>NaN</td>\n",
       "    </tr>\n",
       "    <tr>\n",
       "      <th>331</th>\n",
       "      <td></td>\n",
       "      <td>Corey Tochor</td>\n",
       "      <td>/wiki/Corey_Tochor</td>\n",
       "      <td>Conservative</td>\n",
       "      <td>None</td>\n",
       "      <td>Saskatoon—University</td>\n",
       "      <td>/wiki/Saskatoon%E2%80%94University</td>\n",
       "      <td>NaN</td>\n",
       "      <td>42.0</td>\n",
       "      <td>{{Birth based on age as of date|42|2019|10|7|m...</td>\n",
       "      <td>1977-10-07</td>\n",
       "      <td>42.0</td>\n",
       "    </tr>\n",
       "    <tr>\n",
       "      <th>332</th>\n",
       "      <td></td>\n",
       "      <td>Brad Redekopp</td>\n",
       "      <td>/wiki/Brad_Redekopp</td>\n",
       "      <td>Conservative</td>\n",
       "      <td>None</td>\n",
       "      <td>Saskatoon West</td>\n",
       "      <td>/wiki/Saskatoon_West</td>\n",
       "      <td>NaN</td>\n",
       "      <td>54.0</td>\n",
       "      <td>{{Birth based on age as of date|54|2019|10|6|m...</td>\n",
       "      <td>1965-10-06</td>\n",
       "      <td>54.0</td>\n",
       "    </tr>\n",
       "    <tr>\n",
       "      <th>333</th>\n",
       "      <td></td>\n",
       "      <td>Robert Kitchen</td>\n",
       "      <td>/wiki/Robert_Kitchen</td>\n",
       "      <td>Conservative</td>\n",
       "      <td>None</td>\n",
       "      <td>Souris—Moose Mountain</td>\n",
       "      <td>/wiki/Souris%E2%80%94Moose_Mountain</td>\n",
       "      <td>NaN</td>\n",
       "      <td>NaN</td>\n",
       "      <td>None</td>\n",
       "      <td>NaT</td>\n",
       "      <td>NaN</td>\n",
       "    </tr>\n",
       "    <tr>\n",
       "      <th>336</th>\n",
       "      <td></td>\n",
       "      <td>Mumilaaq Qaqqaq</td>\n",
       "      <td>/wiki/Mumilaaq_Qaqqaq</td>\n",
       "      <td>NDP</td>\n",
       "      <td>/wiki/New_Democratic_Party</td>\n",
       "      <td>Nunavut</td>\n",
       "      <td>/wiki/Nunavut_(electoral_district)</td>\n",
       "      <td>NaN</td>\n",
       "      <td>26.0</td>\n",
       "      <td>{{Birth based on age as of date|26|2019|11|13}}</td>\n",
       "      <td>1993-11-13</td>\n",
       "      <td>26.0</td>\n",
       "    </tr>\n",
       "  </tbody>\n",
       "</table>\n",
       "<p>110 rows × 12 columns</p>\n",
       "</div>"
      ],
      "text/plain": [
       "                   Name                       Name_link         Party  \\\n",
       "1          Damien Kurek              /wiki/Damien_Kurek  Conservative   \n",
       "3           Greg McLean  /wiki/Greg_McLean_(politician)  Conservative   \n",
       "5         Jasraj Hallan             /wiki/Jasraj_Hallan  Conservative   \n",
       "9             Pat Kelly    /wiki/Pat_Kelly_(politician)  Conservative   \n",
       "12           Jag Sahota                /wiki/Jag_Sahota  Conservative   \n",
       "..  ..              ...                             ...           ...   \n",
       "330         Kevin Waugh               /wiki/Kevin_Waugh  Conservative   \n",
       "331        Corey Tochor              /wiki/Corey_Tochor  Conservative   \n",
       "332       Brad Redekopp             /wiki/Brad_Redekopp  Conservative   \n",
       "333      Robert Kitchen            /wiki/Robert_Kitchen  Conservative   \n",
       "336     Mumilaaq Qaqqaq           /wiki/Mumilaaq_Qaqqaq           NDP   \n",
       "\n",
       "                     Party_link     Electoral district  \\\n",
       "1                          None  Battle River—Crowfoot   \n",
       "3                          None         Calgary Centre   \n",
       "5                          None    Calgary Forest Lawn   \n",
       "9                          None    Calgary Rocky Ridge   \n",
       "12                         None        Calgary Skyview   \n",
       "..                          ...                    ...   \n",
       "330                        None    Saskatoon—Grasswood   \n",
       "331                        None   Saskatoon—University   \n",
       "332                        None         Saskatoon West   \n",
       "333                        None  Souris—Moose Mountain   \n",
       "336  /wiki/New_Democratic_Party                Nunavut   \n",
       "\n",
       "                 Electoral district_link  age  new_age  \\\n",
       "1    /wiki/Battle_River%E2%80%94Crowfoot  NaN     29.0   \n",
       "3                   /wiki/Calgary_Centre  NaN      NaN   \n",
       "5              /wiki/Calgary_Forest_Lawn  NaN      NaN   \n",
       "9              /wiki/Calgary_Rocky_Ridge  NaN     48.0   \n",
       "12                 /wiki/Calgary_Skyview  NaN     42.0   \n",
       "..                                   ...  ...      ...   \n",
       "330    /wiki/Saskatoon%E2%80%94Grasswood  NaN      NaN   \n",
       "331   /wiki/Saskatoon%E2%80%94University  NaN     42.0   \n",
       "332                 /wiki/Saskatoon_West  NaN     54.0   \n",
       "333  /wiki/Souris%E2%80%94Moose_Mountain  NaN      NaN   \n",
       "336   /wiki/Nunavut_(electoral_district)  NaN     26.0   \n",
       "\n",
       "                                      infobox_birthday parsed_birthday  \\\n",
       "1       {{Birth based on age as of date|29|2019|9|25}}      1990-09-25   \n",
       "3                                                 None             NaT   \n",
       "5                                                 None             NaT   \n",
       "9       {{Birth based on age as of date|44|2015|8|26}}      1971-08-26   \n",
       "12                         {{Birth year and age|1978}}      1978-01-01   \n",
       "..                                                 ...             ...   \n",
       "330                                               None             NaT   \n",
       "331  {{Birth based on age as of date|42|2019|10|7|m...      1977-10-07   \n",
       "332  {{Birth based on age as of date|54|2019|10|6|m...      1965-10-06   \n",
       "333                                               None             NaT   \n",
       "336    {{Birth based on age as of date|26|2019|11|13}}      1993-11-13   \n",
       "\n",
       "     approx_age  \n",
       "1          29.0  \n",
       "3           NaN  \n",
       "5           NaN  \n",
       "9          48.0  \n",
       "12         42.0  \n",
       "..          ...  \n",
       "330         NaN  \n",
       "331        42.0  \n",
       "332        54.0  \n",
       "333         NaN  \n",
       "336        26.0  \n",
       "\n",
       "[110 rows x 12 columns]"
      ]
     },
     "execution_count": 70,
     "metadata": {},
     "output_type": "execute_result"
    }
   ],
   "source": [
    "missing_members"
   ]
  },
  {
   "cell_type": "code",
   "execution_count": null,
   "metadata": {},
   "outputs": [],
   "source": [
    "missing_members['approx_age']"
   ]
  },
  {
   "cell_type": "code",
   "execution_count": 73,
   "metadata": {},
   "outputs": [],
   "source": [
    "new_age = master_df['age'].fillna(missing_members['approx_age'])\n",
    "master_df['age'] = new_age\n",
    "master_df['new_age'] = new_age"
   ]
  },
  {
   "cell_type": "code",
   "execution_count": 74,
   "metadata": {},
   "outputs": [
    {
     "data": {
      "text/html": [
       "<div>\n",
       "<style scoped>\n",
       "    .dataframe tbody tr th:only-of-type {\n",
       "        vertical-align: middle;\n",
       "    }\n",
       "\n",
       "    .dataframe tbody tr th {\n",
       "        vertical-align: top;\n",
       "    }\n",
       "\n",
       "    .dataframe thead th {\n",
       "        text-align: right;\n",
       "    }\n",
       "</style>\n",
       "<table border=\"1\" class=\"dataframe\">\n",
       "  <thead>\n",
       "    <tr style=\"text-align: right;\">\n",
       "      <th></th>\n",
       "      <th></th>\n",
       "      <th>Name</th>\n",
       "      <th>Name_link</th>\n",
       "      <th>Party</th>\n",
       "      <th>Party_link</th>\n",
       "      <th>Electoral district</th>\n",
       "      <th>Electoral district_link</th>\n",
       "      <th>age</th>\n",
       "      <th>new_age</th>\n",
       "    </tr>\n",
       "  </thead>\n",
       "  <tbody>\n",
       "    <tr>\n",
       "      <th>0</th>\n",
       "      <td></td>\n",
       "      <td>Blake Richards</td>\n",
       "      <td>/wiki/Blake_Richards</td>\n",
       "      <td>Conservative</td>\n",
       "      <td>/wiki/Conservative_Party_of_Canada</td>\n",
       "      <td>Banff—Airdrie</td>\n",
       "      <td>/wiki/Banff%E2%80%94Airdrie</td>\n",
       "      <td>45.0</td>\n",
       "      <td>45.0</td>\n",
       "    </tr>\n",
       "    <tr>\n",
       "      <th>1</th>\n",
       "      <td></td>\n",
       "      <td>Damien Kurek</td>\n",
       "      <td>/wiki/Damien_Kurek</td>\n",
       "      <td>Conservative</td>\n",
       "      <td>None</td>\n",
       "      <td>Battle River—Crowfoot</td>\n",
       "      <td>/wiki/Battle_River%E2%80%94Crowfoot</td>\n",
       "      <td>29.0</td>\n",
       "      <td>29.0</td>\n",
       "    </tr>\n",
       "    <tr>\n",
       "      <th>2</th>\n",
       "      <td></td>\n",
       "      <td>Martin Shields</td>\n",
       "      <td>/wiki/Martin_Shields</td>\n",
       "      <td>Conservative</td>\n",
       "      <td>None</td>\n",
       "      <td>Bow River</td>\n",
       "      <td>/wiki/Bow_River_(electoral_district)</td>\n",
       "      <td>72.0</td>\n",
       "      <td>72.0</td>\n",
       "    </tr>\n",
       "    <tr>\n",
       "      <th>3</th>\n",
       "      <td></td>\n",
       "      <td>Greg McLean</td>\n",
       "      <td>/wiki/Greg_McLean_(politician)</td>\n",
       "      <td>Conservative</td>\n",
       "      <td>None</td>\n",
       "      <td>Calgary Centre</td>\n",
       "      <td>/wiki/Calgary_Centre</td>\n",
       "      <td>NaN</td>\n",
       "      <td>NaN</td>\n",
       "    </tr>\n",
       "    <tr>\n",
       "      <th>4</th>\n",
       "      <td></td>\n",
       "      <td>Len Webber</td>\n",
       "      <td>/wiki/Len_Webber</td>\n",
       "      <td>Conservative</td>\n",
       "      <td>None</td>\n",
       "      <td>Calgary Confederation</td>\n",
       "      <td>/wiki/Calgary_Confederation</td>\n",
       "      <td>59.0</td>\n",
       "      <td>59.0</td>\n",
       "    </tr>\n",
       "    <tr>\n",
       "      <th>...</th>\n",
       "      <td>...</td>\n",
       "      <td>...</td>\n",
       "      <td>...</td>\n",
       "      <td>...</td>\n",
       "      <td>...</td>\n",
       "      <td>...</td>\n",
       "      <td>...</td>\n",
       "      <td>...</td>\n",
       "      <td>...</td>\n",
       "    </tr>\n",
       "    <tr>\n",
       "      <th>333</th>\n",
       "      <td></td>\n",
       "      <td>Robert Kitchen</td>\n",
       "      <td>/wiki/Robert_Kitchen</td>\n",
       "      <td>Conservative</td>\n",
       "      <td>None</td>\n",
       "      <td>Souris—Moose Mountain</td>\n",
       "      <td>/wiki/Souris%E2%80%94Moose_Mountain</td>\n",
       "      <td>NaN</td>\n",
       "      <td>NaN</td>\n",
       "    </tr>\n",
       "    <tr>\n",
       "      <th>334</th>\n",
       "      <td></td>\n",
       "      <td>Cathay Wagantall</td>\n",
       "      <td>/wiki/Cathay_Wagantall</td>\n",
       "      <td>Conservative</td>\n",
       "      <td>None</td>\n",
       "      <td>Yorkton—Melville</td>\n",
       "      <td>/wiki/Yorkton%E2%80%94Melville</td>\n",
       "      <td>63.0</td>\n",
       "      <td>63.0</td>\n",
       "    </tr>\n",
       "    <tr>\n",
       "      <th>335</th>\n",
       "      <td></td>\n",
       "      <td>Michael McLeod</td>\n",
       "      <td>/wiki/Michael_McLeod_(politician)</td>\n",
       "      <td>Liberal</td>\n",
       "      <td>/wiki/Liberal_Party_of_Canada</td>\n",
       "      <td>Northwest Territories</td>\n",
       "      <td>/wiki/Northwest_Territories_(electoral_district)</td>\n",
       "      <td>60.0</td>\n",
       "      <td>60.0</td>\n",
       "    </tr>\n",
       "    <tr>\n",
       "      <th>336</th>\n",
       "      <td></td>\n",
       "      <td>Mumilaaq Qaqqaq</td>\n",
       "      <td>/wiki/Mumilaaq_Qaqqaq</td>\n",
       "      <td>NDP</td>\n",
       "      <td>/wiki/New_Democratic_Party</td>\n",
       "      <td>Nunavut</td>\n",
       "      <td>/wiki/Nunavut_(electoral_district)</td>\n",
       "      <td>26.0</td>\n",
       "      <td>26.0</td>\n",
       "    </tr>\n",
       "    <tr>\n",
       "      <th>337</th>\n",
       "      <td></td>\n",
       "      <td>Larry Bagnell</td>\n",
       "      <td>/wiki/Larry_Bagnell</td>\n",
       "      <td>Liberal</td>\n",
       "      <td>None</td>\n",
       "      <td>Yukon</td>\n",
       "      <td>/wiki/Yukon_(electoral_district)</td>\n",
       "      <td>70.0</td>\n",
       "      <td>70.0</td>\n",
       "    </tr>\n",
       "  </tbody>\n",
       "</table>\n",
       "<p>338 rows × 9 columns</p>\n",
       "</div>"
      ],
      "text/plain": [
       "                    Name                          Name_link         Party  \\\n",
       "0         Blake Richards               /wiki/Blake_Richards  Conservative   \n",
       "1           Damien Kurek                 /wiki/Damien_Kurek  Conservative   \n",
       "2         Martin Shields               /wiki/Martin_Shields  Conservative   \n",
       "3            Greg McLean     /wiki/Greg_McLean_(politician)  Conservative   \n",
       "4             Len Webber                   /wiki/Len_Webber  Conservative   \n",
       "..  ..               ...                                ...           ...   \n",
       "333       Robert Kitchen               /wiki/Robert_Kitchen  Conservative   \n",
       "334     Cathay Wagantall             /wiki/Cathay_Wagantall  Conservative   \n",
       "335       Michael McLeod  /wiki/Michael_McLeod_(politician)       Liberal   \n",
       "336      Mumilaaq Qaqqaq              /wiki/Mumilaaq_Qaqqaq           NDP   \n",
       "337        Larry Bagnell                /wiki/Larry_Bagnell       Liberal   \n",
       "\n",
       "                             Party_link     Electoral district  \\\n",
       "0    /wiki/Conservative_Party_of_Canada          Banff—Airdrie   \n",
       "1                                  None  Battle River—Crowfoot   \n",
       "2                                  None              Bow River   \n",
       "3                                  None         Calgary Centre   \n",
       "4                                  None  Calgary Confederation   \n",
       "..                                  ...                    ...   \n",
       "333                                None  Souris—Moose Mountain   \n",
       "334                                None       Yorkton—Melville   \n",
       "335       /wiki/Liberal_Party_of_Canada  Northwest Territories   \n",
       "336          /wiki/New_Democratic_Party                Nunavut   \n",
       "337                                None                  Yukon   \n",
       "\n",
       "                              Electoral district_link   age  new_age  \n",
       "0                         /wiki/Banff%E2%80%94Airdrie  45.0     45.0  \n",
       "1                 /wiki/Battle_River%E2%80%94Crowfoot  29.0     29.0  \n",
       "2                /wiki/Bow_River_(electoral_district)  72.0     72.0  \n",
       "3                                /wiki/Calgary_Centre   NaN      NaN  \n",
       "4                         /wiki/Calgary_Confederation  59.0     59.0  \n",
       "..                                                ...   ...      ...  \n",
       "333               /wiki/Souris%E2%80%94Moose_Mountain   NaN      NaN  \n",
       "334                    /wiki/Yorkton%E2%80%94Melville  63.0     63.0  \n",
       "335  /wiki/Northwest_Territories_(electoral_district)  60.0     60.0  \n",
       "336                /wiki/Nunavut_(electoral_district)  26.0     26.0  \n",
       "337                  /wiki/Yukon_(electoral_district)  70.0     70.0  \n",
       "\n",
       "[338 rows x 9 columns]"
      ]
     },
     "execution_count": 74,
     "metadata": {},
     "output_type": "execute_result"
    }
   ],
   "source": [
    "master_df"
   ]
  },
  {
   "cell_type": "code",
   "execution_count": 75,
   "metadata": {},
   "outputs": [
    {
     "data": {
      "text/plain": [
       "(45, 9)"
      ]
     },
     "execution_count": 75,
     "metadata": {},
     "output_type": "execute_result"
    }
   ],
   "source": [
    "master_df[pd.isna(master_df['new_age'])].shape"
   ]
  },
  {
   "cell_type": "code",
   "execution_count": 76,
   "metadata": {},
   "outputs": [],
   "source": [
    "if not os.path.exists('data/ca_reps/ca_reps_with_age_from_2.parquet'):\n",
    "    master_df.to_parquet('data/ca_reps/ca_reps_with_age_from_2.parquet')"
   ]
  },
  {
   "cell_type": "code",
   "execution_count": 77,
   "metadata": {},
   "outputs": [],
   "source": [
    "can_reps_with_age = master_df[~pd.isna(master_df['new_age'])]"
   ]
  },
  {
   "cell_type": "markdown",
   "metadata": {},
   "source": [
    "### plot it!"
   ]
  },
  {
   "cell_type": "code",
   "execution_count": 78,
   "metadata": {},
   "outputs": [
    {
     "data": {
      "text/plain": [
       "<matplotlib.axes._subplots.AxesSubplot at 0x10dc38860>"
      ]
     },
     "execution_count": 78,
     "metadata": {},
     "output_type": "execute_result"
    },
    {
     "data": {
      "image/png": "[encoded data removed]",
      "text/plain": [
       "<Figure size 1200x800 with 1 Axes>"
      ]
     },
     "metadata": {},
     "output_type": "display_data"
    }
   ],
   "source": [
    "can_reps_with_age.new_age.plot.hist()"
   ]
  },
  {
   "cell_type": "code",
   "execution_count": 79,
   "metadata": {},
   "outputs": [
    {
     "data": {
      "text/plain": [
       "-1.0"
      ]
     },
     "execution_count": 79,
     "metadata": {},
     "output_type": "execute_result"
    }
   ],
   "source": [
    "can_reps_with_age.new_age.min()"
   ]
  },
  {
   "cell_type": "code",
   "execution_count": 80,
   "metadata": {},
   "outputs": [
    {
     "data": {
      "text/plain": [
       "Int64Index([127, 212], dtype='int64')"
      ]
     },
     "execution_count": 80,
     "metadata": {},
     "output_type": "execute_result"
    }
   ],
   "source": [
    "idx = can_reps_with_age[can_reps_with_age.new_age == -1].index\n",
    "idx"
   ]
  },
  {
   "cell_type": "code",
   "execution_count": 81,
   "metadata": {},
   "outputs": [
    {
     "name": "stderr",
     "output_type": "stream",
     "text": [
      "/Users/Daniel_Kats/anaconda3/lib/python3.7/site-packages/pandas/core/indexing.py:966: SettingWithCopyWarning: \n",
      "A value is trying to be set on a copy of a slice from a DataFrame.\n",
      "Try using .loc[row_indexer,col_indexer] = value instead\n",
      "\n",
      "See the caveats in the documentation: https://pandas.pydata.org/pandas-docs/stable/user_guide/indexing.html#returning-a-view-versus-a-copy\n",
      "  self.obj[item] = s\n"
     ]
    }
   ],
   "source": [
    "import numpy as np\n",
    "\n",
    "can_reps_with_age.loc[idx, 'age'] = np.NaN\n",
    "can_reps_with_age.loc[idx, 'new_age'] = np.NaN"
   ]
  },
  {
   "cell_type": "code",
   "execution_count": 82,
   "metadata": {},
   "outputs": [
    {
     "data": {
      "text/plain": [
       "<matplotlib.axes._subplots.AxesSubplot at 0x10dca5dd8>"
      ]
     },
     "execution_count": 82,
     "metadata": {},
     "output_type": "execute_result"
    },
    {
     "data": {
      "image/png": "[encoded data removed]",
      "text/plain": [
       "<Figure size 1200x800 with 1 Axes>"
      ]
     },
     "metadata": {},
     "output_type": "display_data"
    }
   ],
   "source": [
    "can_reps_with_age.new_age.plot.hist()"
   ]
  },
  {
   "cell_type": "code",
   "execution_count": 83,
   "metadata": {},
   "outputs": [
    {
     "data": {
      "text/plain": [
       "22.0"
      ]
     },
     "execution_count": 83,
     "metadata": {},
     "output_type": "execute_result"
    }
   ],
   "source": [
    "can_reps_with_age.new_age.min()"
   ]
  },
  {
   "cell_type": "code",
   "execution_count": 84,
   "metadata": {},
   "outputs": [
    {
     "data": {
      "text/html": [
       "<div>\n",
       "<style scoped>\n",
       "    .dataframe tbody tr th:only-of-type {\n",
       "        vertical-align: middle;\n",
       "    }\n",
       "\n",
       "    .dataframe tbody tr th {\n",
       "        vertical-align: top;\n",
       "    }\n",
       "\n",
       "    .dataframe thead th {\n",
       "        text-align: right;\n",
       "    }\n",
       "</style>\n",
       "<table border=\"1\" class=\"dataframe\">\n",
       "  <thead>\n",
       "    <tr style=\"text-align: right;\">\n",
       "      <th></th>\n",
       "      <th></th>\n",
       "      <th>Name</th>\n",
       "      <th>Name_link</th>\n",
       "      <th>Party</th>\n",
       "      <th>Party_link</th>\n",
       "      <th>Electoral district</th>\n",
       "      <th>Electoral district_link</th>\n",
       "      <th>age</th>\n",
       "      <th>new_age</th>\n",
       "    </tr>\n",
       "  </thead>\n",
       "  <tbody>\n",
       "    <tr>\n",
       "      <th>161</th>\n",
       "      <td></td>\n",
       "      <td>Eric Melillo</td>\n",
       "      <td>/wiki/Eric_Melillo</td>\n",
       "      <td>Conservative</td>\n",
       "      <td>None</td>\n",
       "      <td>Kenora</td>\n",
       "      <td>/wiki/Kenora_(electoral_district)</td>\n",
       "      <td>22.0</td>\n",
       "      <td>22.0</td>\n",
       "    </tr>\n",
       "  </tbody>\n",
       "</table>\n",
       "</div>"
      ],
      "text/plain": [
       "               Name           Name_link         Party Party_link  \\\n",
       "161    Eric Melillo  /wiki/Eric_Melillo  Conservative       None   \n",
       "\n",
       "    Electoral district            Electoral district_link   age  new_age  \n",
       "161             Kenora  /wiki/Kenora_(electoral_district)  22.0     22.0  "
      ]
     },
     "execution_count": 84,
     "metadata": {},
     "output_type": "execute_result"
    }
   ],
   "source": [
    "can_reps_with_age[can_reps_with_age.new_age == 22.0]"
   ]
  },
  {
   "cell_type": "code",
   "execution_count": 85,
   "metadata": {},
   "outputs": [
    {
     "data": {
      "image/png": "[encoded data removed]",
      "text/plain": [
       "<Figure size 1200x800 with 1 Axes>"
      ]
     },
     "metadata": {},
     "output_type": "display_data"
    }
   ],
   "source": [
    "hist_data_ca_reps = graph_utils.graph_age_histogram(can_reps_with_age,\n",
    "                                age_col='new_age',\n",
    "                                y_axis_label='# Members',\n",
    "                                title='Age of MPs of Canadian Parliaments')"
   ]
  },
  {
   "cell_type": "markdown",
   "metadata": {},
   "source": [
    "## Canadian vs US Reps"
   ]
  },
  {
   "cell_type": "code",
   "execution_count": 86,
   "metadata": {},
   "outputs": [],
   "source": [
    "for row in hist_data_us_reps:\n",
    "    row['country'] = 'US'\n",
    "    row['num_reps'] = row.pop('num_senators')\n",
    "    \n",
    "for row in hist_data_ca_reps:\n",
    "    row['country'] = 'Canada'\n",
    "    row['num_reps'] = row.pop('num_senators')"
   ]
  },
  {
   "cell_type": "code",
   "execution_count": 87,
   "metadata": {},
   "outputs": [
    {
     "data": {
      "text/html": [
       "<div>\n",
       "<style scoped>\n",
       "    .dataframe tbody tr th:only-of-type {\n",
       "        vertical-align: middle;\n",
       "    }\n",
       "\n",
       "    .dataframe tbody tr th {\n",
       "        vertical-align: top;\n",
       "    }\n",
       "\n",
       "    .dataframe thead th {\n",
       "        text-align: right;\n",
       "    }\n",
       "</style>\n",
       "<table border=\"1\" class=\"dataframe\">\n",
       "  <thead>\n",
       "    <tr style=\"text-align: right;\">\n",
       "      <th></th>\n",
       "      <th>age_range</th>\n",
       "      <th>country</th>\n",
       "      <th>num_reps</th>\n",
       "    </tr>\n",
       "  </thead>\n",
       "  <tbody>\n",
       "    <tr>\n",
       "      <th>0</th>\n",
       "      <td>under 40</td>\n",
       "      <td>US</td>\n",
       "      <td>25</td>\n",
       "    </tr>\n",
       "    <tr>\n",
       "      <th>1</th>\n",
       "      <td>40 - 49</td>\n",
       "      <td>US</td>\n",
       "      <td>79</td>\n",
       "    </tr>\n",
       "    <tr>\n",
       "      <th>2</th>\n",
       "      <td>50 - 59</td>\n",
       "      <td>US</td>\n",
       "      <td>112</td>\n",
       "    </tr>\n",
       "    <tr>\n",
       "      <th>3</th>\n",
       "      <td>60 - 69</td>\n",
       "      <td>US</td>\n",
       "      <td>127</td>\n",
       "    </tr>\n",
       "    <tr>\n",
       "      <th>4</th>\n",
       "      <td>70+</td>\n",
       "      <td>US</td>\n",
       "      <td>88</td>\n",
       "    </tr>\n",
       "    <tr>\n",
       "      <th>5</th>\n",
       "      <td>under 40</td>\n",
       "      <td>Canada</td>\n",
       "      <td>44</td>\n",
       "    </tr>\n",
       "    <tr>\n",
       "      <th>6</th>\n",
       "      <td>40 - 49</td>\n",
       "      <td>Canada</td>\n",
       "      <td>78</td>\n",
       "    </tr>\n",
       "    <tr>\n",
       "      <th>7</th>\n",
       "      <td>50 - 59</td>\n",
       "      <td>Canada</td>\n",
       "      <td>93</td>\n",
       "    </tr>\n",
       "    <tr>\n",
       "      <th>8</th>\n",
       "      <td>60 - 69</td>\n",
       "      <td>Canada</td>\n",
       "      <td>54</td>\n",
       "    </tr>\n",
       "    <tr>\n",
       "      <th>9</th>\n",
       "      <td>70+</td>\n",
       "      <td>Canada</td>\n",
       "      <td>22</td>\n",
       "    </tr>\n",
       "  </tbody>\n",
       "</table>\n",
       "</div>"
      ],
      "text/plain": [
       "  age_range country  num_reps\n",
       "0  under 40      US        25\n",
       "1   40 - 49      US        79\n",
       "2   50 - 59      US       112\n",
       "3   60 - 69      US       127\n",
       "4       70+      US        88\n",
       "5  under 40  Canada        44\n",
       "6   40 - 49  Canada        78\n",
       "7   50 - 59  Canada        93\n",
       "8   60 - 69  Canada        54\n",
       "9       70+  Canada        22"
      ]
     },
     "execution_count": 87,
     "metadata": {},
     "output_type": "execute_result"
    }
   ],
   "source": [
    "hist_rows = hist_data_us_reps + hist_data_ca_reps\n",
    "hist_data = pd.DataFrame(hist_rows)\n",
    "hist_data"
   ]
  },
  {
   "cell_type": "code",
   "execution_count": 88,
   "metadata": {},
   "outputs": [
    {
     "data": {
      "image/png": "[encoded data removed]",
      "text/plain": [
       "<Figure size 1200x800 with 1 Axes>"
      ]
     },
     "metadata": {},
     "output_type": "display_data"
    }
   ],
   "source": [
    "ax = sns.barplot(\n",
    "    x='age_range',\n",
    "    y='num_reps',\n",
    "    hue='country',\n",
    "    data=hist_data,\n",
    ")"
   ]
  },
  {
   "cell_type": "markdown",
   "metadata": {},
   "source": [
    "## Germany"
   ]
  },
  {
   "cell_type": "code",
   "execution_count": 89,
   "metadata": {},
   "outputs": [
    {
     "data": {
      "text/html": [
       "<div>\n",
       "<style scoped>\n",
       "    .dataframe tbody tr th:only-of-type {\n",
       "        vertical-align: middle;\n",
       "    }\n",
       "\n",
       "    .dataframe tbody tr th {\n",
       "        vertical-align: top;\n",
       "    }\n",
       "\n",
       "    .dataframe thead th {\n",
       "        text-align: right;\n",
       "    }\n",
       "</style>\n",
       "<table border=\"1\" class=\"dataframe\">\n",
       "  <thead>\n",
       "    <tr style=\"text-align: right;\">\n",
       "      <th></th>\n",
       "      <th>Image</th>\n",
       "      <th>Name</th>\n",
       "      <th>Year of birth</th>\n",
       "      <th>Party - 1</th>\n",
       "      <th>Party - 2</th>\n",
       "      <th>State</th>\n",
       "      <th>Constituency (for directly elected members)</th>\n",
       "      <th>Constituency vote percentage (for directly elected members)</th>\n",
       "      <th>Remarks</th>\n",
       "    </tr>\n",
       "  </thead>\n",
       "  <tbody>\n",
       "    <tr>\n",
       "      <th>0</th>\n",
       "      <td></td>\n",
       "      <td>Michael von Abercron</td>\n",
       "      <td>1952[1]</td>\n",
       "      <td></td>\n",
       "      <td>CDU</td>\n",
       "      <td>Schleswig-Holstein</td>\n",
       "      <td>Pinneberg</td>\n",
       "      <td>39.7 %[2]</td>\n",
       "      <td></td>\n",
       "    </tr>\n",
       "    <tr>\n",
       "      <th>1</th>\n",
       "      <td></td>\n",
       "      <td>Doris Achelwilm</td>\n",
       "      <td>1976[3]</td>\n",
       "      <td></td>\n",
       "      <td>The Left</td>\n",
       "      <td>Bremen</td>\n",
       "      <td></td>\n",
       "      <td></td>\n",
       "      <td></td>\n",
       "    </tr>\n",
       "    <tr>\n",
       "      <th>2</th>\n",
       "      <td></td>\n",
       "      <td>Grigorios Aggelidis</td>\n",
       "      <td>1965[4]</td>\n",
       "      <td></td>\n",
       "      <td>FDP</td>\n",
       "      <td>Lower Saxony</td>\n",
       "      <td></td>\n",
       "      <td></td>\n",
       "      <td></td>\n",
       "    </tr>\n",
       "    <tr>\n",
       "      <th>3</th>\n",
       "      <td></td>\n",
       "      <td>Gökay Akbulut</td>\n",
       "      <td>1982[5]</td>\n",
       "      <td></td>\n",
       "      <td>The Left</td>\n",
       "      <td>Baden-Württemberg</td>\n",
       "      <td></td>\n",
       "      <td></td>\n",
       "      <td></td>\n",
       "    </tr>\n",
       "    <tr>\n",
       "      <th>4</th>\n",
       "      <td></td>\n",
       "      <td>Stephan Albani</td>\n",
       "      <td>1968[6]</td>\n",
       "      <td></td>\n",
       "      <td>CDU</td>\n",
       "      <td>Lower Saxony</td>\n",
       "      <td></td>\n",
       "      <td></td>\n",
       "      <td></td>\n",
       "    </tr>\n",
       "    <tr>\n",
       "      <th>...</th>\n",
       "      <td>...</td>\n",
       "      <td>...</td>\n",
       "      <td>...</td>\n",
       "      <td>...</td>\n",
       "      <td>...</td>\n",
       "      <td>...</td>\n",
       "      <td>...</td>\n",
       "      <td>...</td>\n",
       "      <td>...</td>\n",
       "    </tr>\n",
       "    <tr>\n",
       "      <th>704</th>\n",
       "      <td></td>\n",
       "      <td>Stefan Zierke</td>\n",
       "      <td>1970</td>\n",
       "      <td></td>\n",
       "      <td>SPD</td>\n",
       "      <td>Brandenburg</td>\n",
       "      <td></td>\n",
       "      <td></td>\n",
       "      <td></td>\n",
       "    </tr>\n",
       "    <tr>\n",
       "      <th>705</th>\n",
       "      <td></td>\n",
       "      <td>Matthias Zimmer</td>\n",
       "      <td>1961</td>\n",
       "      <td></td>\n",
       "      <td>CDU</td>\n",
       "      <td>Hesse</td>\n",
       "      <td>Frankfurt am Main I</td>\n",
       "      <td>30.5 %[479]</td>\n",
       "      <td></td>\n",
       "    </tr>\n",
       "    <tr>\n",
       "      <th>706</th>\n",
       "      <td></td>\n",
       "      <td>Jens Zimmermann</td>\n",
       "      <td>1981</td>\n",
       "      <td></td>\n",
       "      <td>SPD</td>\n",
       "      <td>Hesse</td>\n",
       "      <td></td>\n",
       "      <td></td>\n",
       "      <td></td>\n",
       "    </tr>\n",
       "    <tr>\n",
       "      <th>707</th>\n",
       "      <td></td>\n",
       "      <td>Pia Zimmermann</td>\n",
       "      <td>1956</td>\n",
       "      <td></td>\n",
       "      <td>The Left</td>\n",
       "      <td>Lower Saxony</td>\n",
       "      <td></td>\n",
       "      <td></td>\n",
       "      <td></td>\n",
       "    </tr>\n",
       "    <tr>\n",
       "      <th>708</th>\n",
       "      <td></td>\n",
       "      <td>Sabine Zimmermann (politician)</td>\n",
       "      <td>1960</td>\n",
       "      <td></td>\n",
       "      <td>The Left</td>\n",
       "      <td>Saxony</td>\n",
       "      <td></td>\n",
       "      <td></td>\n",
       "      <td></td>\n",
       "    </tr>\n",
       "  </tbody>\n",
       "</table>\n",
       "<p>709 rows × 9 columns</p>\n",
       "</div>"
      ],
      "text/plain": [
       "    Image                            Name Year of birth Party - 1 Party - 2  \\\n",
       "0                    Michael von Abercron       1952[1]                 CDU   \n",
       "1                         Doris Achelwilm       1976[3]            The Left   \n",
       "2                     Grigorios Aggelidis       1965[4]                 FDP   \n",
       "3                           Gökay Akbulut       1982[5]            The Left   \n",
       "4                          Stephan Albani       1968[6]                 CDU   \n",
       "..    ...                             ...           ...       ...       ...   \n",
       "704                         Stefan Zierke          1970                 SPD   \n",
       "705                       Matthias Zimmer          1961                 CDU   \n",
       "706                       Jens Zimmermann          1981                 SPD   \n",
       "707                        Pia Zimmermann          1956            The Left   \n",
       "708        Sabine Zimmermann (politician)          1960            The Left   \n",
       "\n",
       "                  State Constituency (for directly elected members)  \\\n",
       "0    Schleswig-Holstein                                   Pinneberg   \n",
       "1                Bremen                                               \n",
       "2          Lower Saxony                                               \n",
       "3     Baden-Württemberg                                               \n",
       "4          Lower Saxony                                               \n",
       "..                  ...                                         ...   \n",
       "704         Brandenburg                                               \n",
       "705               Hesse                         Frankfurt am Main I   \n",
       "706               Hesse                                               \n",
       "707        Lower Saxony                                               \n",
       "708              Saxony                                               \n",
       "\n",
       "    Constituency vote percentage (for directly elected members) Remarks  \n",
       "0                                            39.7 %[2]                   \n",
       "1                                                                        \n",
       "2                                                                        \n",
       "3                                                                        \n",
       "4                                                                        \n",
       "..                                                 ...              ...  \n",
       "704                                                                      \n",
       "705                                        30.5 %[479]                   \n",
       "706                                                                      \n",
       "707                                                                      \n",
       "708                                                                      \n",
       "\n",
       "[709 rows x 9 columns]"
      ]
     },
     "execution_count": 89,
     "metadata": {},
     "output_type": "execute_result"
    }
   ],
   "source": [
    "path = 'data/germany/bundestag_19.parquet'\n",
    "bundestag = pd.read_parquet(path)\n",
    "bundestag"
   ]
  },
  {
   "cell_type": "code",
   "execution_count": 94,
   "metadata": {},
   "outputs": [],
   "source": [
    "def parse_year_of_birth(s: str) -> int:\n",
    "    return int(s[:4])\n",
    "\n",
    "bundestag['year_of_birth_parsed'] = bundestag['Year of birth'].apply(parse_year_of_birth)"
   ]
  },
  {
   "cell_type": "code",
   "execution_count": 95,
   "metadata": {},
   "outputs": [],
   "source": [
    "bundestag['est_age'] = bundestag['year_of_birth_parsed'].apply(date_utils.calculate_age_from_year)"
   ]
  },
  {
   "cell_type": "code",
   "execution_count": 96,
   "metadata": {},
   "outputs": [
    {
     "data": {
      "text/html": [
       "<div>\n",
       "<style scoped>\n",
       "    .dataframe tbody tr th:only-of-type {\n",
       "        vertical-align: middle;\n",
       "    }\n",
       "\n",
       "    .dataframe tbody tr th {\n",
       "        vertical-align: top;\n",
       "    }\n",
       "\n",
       "    .dataframe thead th {\n",
       "        text-align: right;\n",
       "    }\n",
       "</style>\n",
       "<table border=\"1\" class=\"dataframe\">\n",
       "  <thead>\n",
       "    <tr style=\"text-align: right;\">\n",
       "      <th></th>\n",
       "      <th>Image</th>\n",
       "      <th>Name</th>\n",
       "      <th>Year of birth</th>\n",
       "      <th>Party - 1</th>\n",
       "      <th>Party - 2</th>\n",
       "      <th>State</th>\n",
       "      <th>Constituency (for directly elected members)</th>\n",
       "      <th>Constituency vote percentage (for directly elected members)</th>\n",
       "      <th>Remarks</th>\n",
       "      <th>year_of_birth_parsed</th>\n",
       "      <th>est_age</th>\n",
       "    </tr>\n",
       "  </thead>\n",
       "  <tbody>\n",
       "    <tr>\n",
       "      <th>0</th>\n",
       "      <td></td>\n",
       "      <td>Michael von Abercron</td>\n",
       "      <td>1952[1]</td>\n",
       "      <td></td>\n",
       "      <td>CDU</td>\n",
       "      <td>Schleswig-Holstein</td>\n",
       "      <td>Pinneberg</td>\n",
       "      <td>39.7 %[2]</td>\n",
       "      <td></td>\n",
       "      <td>1952</td>\n",
       "      <td>68</td>\n",
       "    </tr>\n",
       "    <tr>\n",
       "      <th>1</th>\n",
       "      <td></td>\n",
       "      <td>Doris Achelwilm</td>\n",
       "      <td>1976[3]</td>\n",
       "      <td></td>\n",
       "      <td>The Left</td>\n",
       "      <td>Bremen</td>\n",
       "      <td></td>\n",
       "      <td></td>\n",
       "      <td></td>\n",
       "      <td>1976</td>\n",
       "      <td>44</td>\n",
       "    </tr>\n",
       "    <tr>\n",
       "      <th>2</th>\n",
       "      <td></td>\n",
       "      <td>Grigorios Aggelidis</td>\n",
       "      <td>1965[4]</td>\n",
       "      <td></td>\n",
       "      <td>FDP</td>\n",
       "      <td>Lower Saxony</td>\n",
       "      <td></td>\n",
       "      <td></td>\n",
       "      <td></td>\n",
       "      <td>1965</td>\n",
       "      <td>55</td>\n",
       "    </tr>\n",
       "    <tr>\n",
       "      <th>3</th>\n",
       "      <td></td>\n",
       "      <td>Gökay Akbulut</td>\n",
       "      <td>1982[5]</td>\n",
       "      <td></td>\n",
       "      <td>The Left</td>\n",
       "      <td>Baden-Württemberg</td>\n",
       "      <td></td>\n",
       "      <td></td>\n",
       "      <td></td>\n",
       "      <td>1982</td>\n",
       "      <td>38</td>\n",
       "    </tr>\n",
       "    <tr>\n",
       "      <th>4</th>\n",
       "      <td></td>\n",
       "      <td>Stephan Albani</td>\n",
       "      <td>1968[6]</td>\n",
       "      <td></td>\n",
       "      <td>CDU</td>\n",
       "      <td>Lower Saxony</td>\n",
       "      <td></td>\n",
       "      <td></td>\n",
       "      <td></td>\n",
       "      <td>1968</td>\n",
       "      <td>52</td>\n",
       "    </tr>\n",
       "    <tr>\n",
       "      <th>...</th>\n",
       "      <td>...</td>\n",
       "      <td>...</td>\n",
       "      <td>...</td>\n",
       "      <td>...</td>\n",
       "      <td>...</td>\n",
       "      <td>...</td>\n",
       "      <td>...</td>\n",
       "      <td>...</td>\n",
       "      <td>...</td>\n",
       "      <td>...</td>\n",
       "      <td>...</td>\n",
       "    </tr>\n",
       "    <tr>\n",
       "      <th>704</th>\n",
       "      <td></td>\n",
       "      <td>Stefan Zierke</td>\n",
       "      <td>1970</td>\n",
       "      <td></td>\n",
       "      <td>SPD</td>\n",
       "      <td>Brandenburg</td>\n",
       "      <td></td>\n",
       "      <td></td>\n",
       "      <td></td>\n",
       "      <td>1970</td>\n",
       "      <td>50</td>\n",
       "    </tr>\n",
       "    <tr>\n",
       "      <th>705</th>\n",
       "      <td></td>\n",
       "      <td>Matthias Zimmer</td>\n",
       "      <td>1961</td>\n",
       "      <td></td>\n",
       "      <td>CDU</td>\n",
       "      <td>Hesse</td>\n",
       "      <td>Frankfurt am Main I</td>\n",
       "      <td>30.5 %[479]</td>\n",
       "      <td></td>\n",
       "      <td>1961</td>\n",
       "      <td>59</td>\n",
       "    </tr>\n",
       "    <tr>\n",
       "      <th>706</th>\n",
       "      <td></td>\n",
       "      <td>Jens Zimmermann</td>\n",
       "      <td>1981</td>\n",
       "      <td></td>\n",
       "      <td>SPD</td>\n",
       "      <td>Hesse</td>\n",
       "      <td></td>\n",
       "      <td></td>\n",
       "      <td></td>\n",
       "      <td>1981</td>\n",
       "      <td>39</td>\n",
       "    </tr>\n",
       "    <tr>\n",
       "      <th>707</th>\n",
       "      <td></td>\n",
       "      <td>Pia Zimmermann</td>\n",
       "      <td>1956</td>\n",
       "      <td></td>\n",
       "      <td>The Left</td>\n",
       "      <td>Lower Saxony</td>\n",
       "      <td></td>\n",
       "      <td></td>\n",
       "      <td></td>\n",
       "      <td>1956</td>\n",
       "      <td>64</td>\n",
       "    </tr>\n",
       "    <tr>\n",
       "      <th>708</th>\n",
       "      <td></td>\n",
       "      <td>Sabine Zimmermann (politician)</td>\n",
       "      <td>1960</td>\n",
       "      <td></td>\n",
       "      <td>The Left</td>\n",
       "      <td>Saxony</td>\n",
       "      <td></td>\n",
       "      <td></td>\n",
       "      <td></td>\n",
       "      <td>1960</td>\n",
       "      <td>60</td>\n",
       "    </tr>\n",
       "  </tbody>\n",
       "</table>\n",
       "<p>709 rows × 11 columns</p>\n",
       "</div>"
      ],
      "text/plain": [
       "    Image                            Name Year of birth Party - 1 Party - 2  \\\n",
       "0                    Michael von Abercron       1952[1]                 CDU   \n",
       "1                         Doris Achelwilm       1976[3]            The Left   \n",
       "2                     Grigorios Aggelidis       1965[4]                 FDP   \n",
       "3                           Gökay Akbulut       1982[5]            The Left   \n",
       "4                          Stephan Albani       1968[6]                 CDU   \n",
       "..    ...                             ...           ...       ...       ...   \n",
       "704                         Stefan Zierke          1970                 SPD   \n",
       "705                       Matthias Zimmer          1961                 CDU   \n",
       "706                       Jens Zimmermann          1981                 SPD   \n",
       "707                        Pia Zimmermann          1956            The Left   \n",
       "708        Sabine Zimmermann (politician)          1960            The Left   \n",
       "\n",
       "                  State Constituency (for directly elected members)  \\\n",
       "0    Schleswig-Holstein                                   Pinneberg   \n",
       "1                Bremen                                               \n",
       "2          Lower Saxony                                               \n",
       "3     Baden-Württemberg                                               \n",
       "4          Lower Saxony                                               \n",
       "..                  ...                                         ...   \n",
       "704         Brandenburg                                               \n",
       "705               Hesse                         Frankfurt am Main I   \n",
       "706               Hesse                                               \n",
       "707        Lower Saxony                                               \n",
       "708              Saxony                                               \n",
       "\n",
       "    Constituency vote percentage (for directly elected members) Remarks  \\\n",
       "0                                            39.7 %[2]                    \n",
       "1                                                                         \n",
       "2                                                                         \n",
       "3                                                                         \n",
       "4                                                                         \n",
       "..                                                 ...              ...   \n",
       "704                                                                       \n",
       "705                                        30.5 %[479]                    \n",
       "706                                                                       \n",
       "707                                                                       \n",
       "708                                                                       \n",
       "\n",
       "     year_of_birth_parsed  est_age  \n",
       "0                    1952       68  \n",
       "1                    1976       44  \n",
       "2                    1965       55  \n",
       "3                    1982       38  \n",
       "4                    1968       52  \n",
       "..                    ...      ...  \n",
       "704                  1970       50  \n",
       "705                  1961       59  \n",
       "706                  1981       39  \n",
       "707                  1956       64  \n",
       "708                  1960       60  \n",
       "\n",
       "[709 rows x 11 columns]"
      ]
     },
     "execution_count": 96,
     "metadata": {},
     "output_type": "execute_result"
    }
   ],
   "source": [
    "bundestag"
   ]
  },
  {
   "cell_type": "code",
   "execution_count": 97,
   "metadata": {},
   "outputs": [
    {
     "data": {
      "text/plain": [
       "<matplotlib.axes._subplots.AxesSubplot at 0x1a28eda208>"
      ]
     },
     "execution_count": 97,
     "metadata": {},
     "output_type": "execute_result"
    },
    {
     "data": {
      "image/png": "[encoded data removed]",
      "text/plain": [
       "<Figure size 1200x800 with 1 Axes>"
      ]
     },
     "metadata": {},
     "output_type": "display_data"
    }
   ],
   "source": [
    "bundestag.est_age.plot.hist()"
   ]
  },
  {
   "cell_type": "code",
   "execution_count": 98,
   "metadata": {},
   "outputs": [
    {
     "data": {
      "image/png": "[encoded data removed]",
      "text/plain": [
       "<Figure size 1200x800 with 1 Axes>"
      ]
     },
     "metadata": {},
     "output_type": "display_data"
    },
    {
     "data": {
      "text/plain": [
       "[{'age_range': 'under 40', 'num_senators': 83},\n",
       " {'age_range': '40 - 49', 'num_senators': 192},\n",
       " {'age_range': '50 - 59', 'num_senators': 246},\n",
       " {'age_range': '60 - 69', 'num_senators': 164},\n",
       " {'age_range': '70+', 'num_senators': 24}]"
      ]
     },
     "execution_count": 98,
     "metadata": {},
     "output_type": "execute_result"
    }
   ],
   "source": [
    "graph_utils.graph_age_histogram(bundestag,\n",
    "                                title='Age Distribution in Germany Bundestag',\n",
    "                                age_col='est_age',\n",
    "                                y_axis_label='# Members'\n",
    "                                )"
   ]
  },
  {
   "cell_type": "markdown",
   "metadata": {},
   "source": [
    "## UK"
   ]
  },
  {
   "cell_type": "code",
   "execution_count": 103,
   "metadata": {},
   "outputs": [
    {
     "data": {
      "text/html": [
       "<div>\n",
       "<style scoped>\n",
       "    .dataframe tbody tr th:only-of-type {\n",
       "        vertical-align: middle;\n",
       "    }\n",
       "\n",
       "    .dataframe tbody tr th {\n",
       "        vertical-align: top;\n",
       "    }\n",
       "\n",
       "    .dataframe thead th {\n",
       "        text-align: right;\n",
       "    }\n",
       "</style>\n",
       "<table border=\"1\" class=\"dataframe\">\n",
       "  <thead>\n",
       "    <tr style=\"text-align: right;\">\n",
       "      <th></th>\n",
       "      <th>Constituency</th>\n",
       "      <th>Constituency_link</th>\n",
       "      <th>Party of incumbentbefore election - 1</th>\n",
       "      <th>Party of incumbentbefore election - 2</th>\n",
       "      <th>Party of incumbentbefore election - 2_link</th>\n",
       "      <th>Member returned</th>\n",
       "      <th>Member returned_link_1</th>\n",
       "      <th>Member returned_link_2</th>\n",
       "      <th>Party of incumbentafter election - 1</th>\n",
       "      <th>Party of incumbentafter election - 2</th>\n",
       "      <th>Party of incumbentafter election - 2_link</th>\n",
       "      <th>Notes</th>\n",
       "      <th>Party of incumbentbefore election - 2_link_1</th>\n",
       "      <th>Party of incumbentbefore election - 2_link_2</th>\n",
       "      <th>Notes_link</th>\n",
       "      <th>Member returned_link</th>\n",
       "      <th>Party of incumbentbefore election - 2_link_3</th>\n",
       "      <th>Party of incumbentafter election - 2_link_1</th>\n",
       "      <th>Party of incumbentafter election - 2_link_2</th>\n",
       "    </tr>\n",
       "  </thead>\n",
       "  <tbody>\n",
       "    <tr>\n",
       "      <th>0</th>\n",
       "      <td>Aberavon</td>\n",
       "      <td>/wiki/Aberavon_(UK_Parliament_constituency)</td>\n",
       "      <td></td>\n",
       "      <td>Labour</td>\n",
       "      <td>/wiki/Labour_Party_(UK)</td>\n",
       "      <td>Stephen Kinnock</td>\n",
       "      <td>/wiki/File:Official_portrait_of_Stephen_Kinnoc...</td>\n",
       "      <td>/wiki/Stephen_Kinnock</td>\n",
       "      <td></td>\n",
       "      <td>Labour</td>\n",
       "      <td>/wiki/Labour_Party_(UK)</td>\n",
       "      <td>Seat held</td>\n",
       "      <td>None</td>\n",
       "      <td>None</td>\n",
       "      <td>None</td>\n",
       "      <td>None</td>\n",
       "      <td>None</td>\n",
       "      <td>None</td>\n",
       "      <td>None</td>\n",
       "    </tr>\n",
       "    <tr>\n",
       "      <th>1</th>\n",
       "      <td>Aberconwy</td>\n",
       "      <td>/wiki/Aberconwy_(UK_Parliament_constituency)</td>\n",
       "      <td></td>\n",
       "      <td>Independent[f]</td>\n",
       "      <td>None</td>\n",
       "      <td>Robin Millar</td>\n",
       "      <td>/wiki/File:Official_portrait_of_Robin_Millar_M...</td>\n",
       "      <td>/wiki/Robin_Millar_(politician)</td>\n",
       "      <td></td>\n",
       "      <td>Conservative</td>\n",
       "      <td>/wiki/Conservative_Party_(UK)</td>\n",
       "      <td>Previous incumbent, Guto Bebb, did not stand</td>\n",
       "      <td>/wiki/Independent_politician</td>\n",
       "      <td>#cite_note-fnC-14</td>\n",
       "      <td>/wiki/Guto_Bebb</td>\n",
       "      <td>None</td>\n",
       "      <td>None</td>\n",
       "      <td>None</td>\n",
       "      <td>None</td>\n",
       "    </tr>\n",
       "    <tr>\n",
       "      <th>2</th>\n",
       "      <td>Aberdeen North</td>\n",
       "      <td>/wiki/Aberdeen_North_(UK_Parliament_constituency)</td>\n",
       "      <td></td>\n",
       "      <td>Scottish National</td>\n",
       "      <td>/wiki/Scottish_National_Party</td>\n",
       "      <td>Kirsty Blackman</td>\n",
       "      <td>/wiki/File:Official_portrait_of_Kirsty_Blackma...</td>\n",
       "      <td>/wiki/Kirsty_Blackman</td>\n",
       "      <td></td>\n",
       "      <td>Scottish National</td>\n",
       "      <td>/wiki/Scottish_National_Party</td>\n",
       "      <td>Seat held</td>\n",
       "      <td>None</td>\n",
       "      <td>None</td>\n",
       "      <td>None</td>\n",
       "      <td>None</td>\n",
       "      <td>None</td>\n",
       "      <td>None</td>\n",
       "      <td>None</td>\n",
       "    </tr>\n",
       "    <tr>\n",
       "      <th>3</th>\n",
       "      <td>Aberdeen South</td>\n",
       "      <td>/wiki/Aberdeen_South_(UK_Parliament_constituency)</td>\n",
       "      <td></td>\n",
       "      <td>Conservative</td>\n",
       "      <td>/wiki/Conservative_Party_(UK)</td>\n",
       "      <td>Stephen Flynn</td>\n",
       "      <td>None</td>\n",
       "      <td>None</td>\n",
       "      <td></td>\n",
       "      <td>Scottish National</td>\n",
       "      <td>/wiki/Scottish_National_Party</td>\n",
       "      <td>Previous incumbent, Ross Thomson, did not stand</td>\n",
       "      <td>None</td>\n",
       "      <td>None</td>\n",
       "      <td>/wiki/Ross_Thomson</td>\n",
       "      <td>/wiki/Stephen_Flynn_(Scottish_politician)</td>\n",
       "      <td>None</td>\n",
       "      <td>None</td>\n",
       "      <td>None</td>\n",
       "    </tr>\n",
       "    <tr>\n",
       "      <th>4</th>\n",
       "      <td>Airdrie and Shotts</td>\n",
       "      <td>/wiki/Airdrie_and_Shotts_(UK_Parliament_consti...</td>\n",
       "      <td></td>\n",
       "      <td>Scottish National</td>\n",
       "      <td>/wiki/Scottish_National_Party</td>\n",
       "      <td>Neil Gray</td>\n",
       "      <td>/wiki/File:Official_portrait_of_Neil_Gray_MP_c...</td>\n",
       "      <td>/wiki/Neil_Gray</td>\n",
       "      <td></td>\n",
       "      <td>Scottish National</td>\n",
       "      <td>/wiki/Scottish_National_Party</td>\n",
       "      <td>Seat held</td>\n",
       "      <td>None</td>\n",
       "      <td>None</td>\n",
       "      <td>None</td>\n",
       "      <td>None</td>\n",
       "      <td>None</td>\n",
       "      <td>None</td>\n",
       "      <td>None</td>\n",
       "    </tr>\n",
       "    <tr>\n",
       "      <th>...</th>\n",
       "      <td>...</td>\n",
       "      <td>...</td>\n",
       "      <td>...</td>\n",
       "      <td>...</td>\n",
       "      <td>...</td>\n",
       "      <td>...</td>\n",
       "      <td>...</td>\n",
       "      <td>...</td>\n",
       "      <td>...</td>\n",
       "      <td>...</td>\n",
       "      <td>...</td>\n",
       "      <td>...</td>\n",
       "      <td>...</td>\n",
       "      <td>...</td>\n",
       "      <td>...</td>\n",
       "      <td>...</td>\n",
       "      <td>...</td>\n",
       "      <td>...</td>\n",
       "      <td>...</td>\n",
       "    </tr>\n",
       "    <tr>\n",
       "      <th>646</th>\n",
       "      <td>Yeovil</td>\n",
       "      <td>/wiki/Yeovil_(UK_Parliament_constituency)</td>\n",
       "      <td></td>\n",
       "      <td>Conservative</td>\n",
       "      <td>/wiki/Conservative_Party_(UK)</td>\n",
       "      <td>Marcus Fysh</td>\n",
       "      <td>/wiki/File:Official_portrait_of_Mr_Marcus_Fysh...</td>\n",
       "      <td>/wiki/Marcus_Fysh</td>\n",
       "      <td></td>\n",
       "      <td>Conservative</td>\n",
       "      <td>/wiki/Conservative_Party_(UK)</td>\n",
       "      <td>Seat held</td>\n",
       "      <td>None</td>\n",
       "      <td>None</td>\n",
       "      <td>None</td>\n",
       "      <td>None</td>\n",
       "      <td>None</td>\n",
       "      <td>None</td>\n",
       "      <td>None</td>\n",
       "    </tr>\n",
       "    <tr>\n",
       "      <th>647</th>\n",
       "      <td>Ynys Môn</td>\n",
       "      <td>/wiki/Ynys_M%C3%B4n_(UK_Parliament_constituency)</td>\n",
       "      <td></td>\n",
       "      <td>Labour</td>\n",
       "      <td>/wiki/Labour_Party_(UK)</td>\n",
       "      <td>Virginia Crosbie</td>\n",
       "      <td>/wiki/File:Virginia_Crosbie.jpg</td>\n",
       "      <td>/wiki/Virginia_Crosbie</td>\n",
       "      <td></td>\n",
       "      <td>Conservative</td>\n",
       "      <td>/wiki/Conservative_Party_(UK)</td>\n",
       "      <td>Previous incumbent, Albert Owen, did not stand</td>\n",
       "      <td>None</td>\n",
       "      <td>None</td>\n",
       "      <td>/wiki/Albert_Owen</td>\n",
       "      <td>None</td>\n",
       "      <td>None</td>\n",
       "      <td>None</td>\n",
       "      <td>None</td>\n",
       "    </tr>\n",
       "    <tr>\n",
       "      <th>648</th>\n",
       "      <td>York Central</td>\n",
       "      <td>/wiki/York_Central_(UK_Parliament_constituency)</td>\n",
       "      <td></td>\n",
       "      <td>Labour Co-operative</td>\n",
       "      <td>/wiki/Labour_Co-operative</td>\n",
       "      <td>Rachael Maskell</td>\n",
       "      <td>/wiki/File:Official_portrait_of_Rachael_Maskel...</td>\n",
       "      <td>/wiki/Rachael_Maskell</td>\n",
       "      <td></td>\n",
       "      <td>Labour Co-operative</td>\n",
       "      <td>/wiki/Labour_Co-operative</td>\n",
       "      <td>Seat held</td>\n",
       "      <td>None</td>\n",
       "      <td>None</td>\n",
       "      <td>None</td>\n",
       "      <td>None</td>\n",
       "      <td>None</td>\n",
       "      <td>None</td>\n",
       "      <td>None</td>\n",
       "    </tr>\n",
       "    <tr>\n",
       "      <th>649</th>\n",
       "      <td>York Outer</td>\n",
       "      <td>/wiki/York_Outer_(UK_Parliament_constituency)</td>\n",
       "      <td></td>\n",
       "      <td>Conservative</td>\n",
       "      <td>/wiki/Conservative_Party_(UK)</td>\n",
       "      <td>Julian Sturdy</td>\n",
       "      <td>/wiki/File:Official_portrait_of_Julian_Sturdy_...</td>\n",
       "      <td>/wiki/Julian_Sturdy</td>\n",
       "      <td></td>\n",
       "      <td>Conservative</td>\n",
       "      <td>/wiki/Conservative_Party_(UK)</td>\n",
       "      <td>Seat held</td>\n",
       "      <td>None</td>\n",
       "      <td>None</td>\n",
       "      <td>None</td>\n",
       "      <td>None</td>\n",
       "      <td>None</td>\n",
       "      <td>None</td>\n",
       "      <td>None</td>\n",
       "    </tr>\n",
       "    <tr>\n",
       "      <th>650</th>\n",
       "      <td>Source:[10]</td>\n",
       "      <td>#cite_note-21</td>\n",
       "      <td></td>\n",
       "      <td>None</td>\n",
       "      <td>None</td>\n",
       "      <td>None</td>\n",
       "      <td>None</td>\n",
       "      <td>None</td>\n",
       "      <td>None</td>\n",
       "      <td>None</td>\n",
       "      <td>None</td>\n",
       "      <td>None</td>\n",
       "      <td>None</td>\n",
       "      <td>None</td>\n",
       "      <td>None</td>\n",
       "      <td>None</td>\n",
       "      <td>None</td>\n",
       "      <td>None</td>\n",
       "      <td>None</td>\n",
       "    </tr>\n",
       "  </tbody>\n",
       "</table>\n",
       "<p>651 rows × 19 columns</p>\n",
       "</div>"
      ],
      "text/plain": [
       "           Constituency                                  Constituency_link  \\\n",
       "0              Aberavon        /wiki/Aberavon_(UK_Parliament_constituency)   \n",
       "1             Aberconwy       /wiki/Aberconwy_(UK_Parliament_constituency)   \n",
       "2        Aberdeen North  /wiki/Aberdeen_North_(UK_Parliament_constituency)   \n",
       "3        Aberdeen South  /wiki/Aberdeen_South_(UK_Parliament_constituency)   \n",
       "4    Airdrie and Shotts  /wiki/Airdrie_and_Shotts_(UK_Parliament_consti...   \n",
       "..                  ...                                                ...   \n",
       "646              Yeovil          /wiki/Yeovil_(UK_Parliament_constituency)   \n",
       "647            Ynys Môn   /wiki/Ynys_M%C3%B4n_(UK_Parliament_constituency)   \n",
       "648        York Central    /wiki/York_Central_(UK_Parliament_constituency)   \n",
       "649          York Outer      /wiki/York_Outer_(UK_Parliament_constituency)   \n",
       "650         Source:[10]                                      #cite_note-21   \n",
       "\n",
       "    Party of incumbentbefore election - 1  \\\n",
       "0                                           \n",
       "1                                           \n",
       "2                                           \n",
       "3                                           \n",
       "4                                           \n",
       "..                                    ...   \n",
       "646                                         \n",
       "647                                         \n",
       "648                                         \n",
       "649                                         \n",
       "650                                         \n",
       "\n",
       "    Party of incumbentbefore election - 2  \\\n",
       "0                                  Labour   \n",
       "1                          Independent[f]   \n",
       "2                       Scottish National   \n",
       "3                            Conservative   \n",
       "4                       Scottish National   \n",
       "..                                    ...   \n",
       "646                          Conservative   \n",
       "647                                Labour   \n",
       "648                   Labour Co-operative   \n",
       "649                          Conservative   \n",
       "650                                  None   \n",
       "\n",
       "    Party of incumbentbefore election - 2_link   Member returned  \\\n",
       "0                      /wiki/Labour_Party_(UK)   Stephen Kinnock   \n",
       "1                                         None      Robin Millar   \n",
       "2                /wiki/Scottish_National_Party   Kirsty Blackman   \n",
       "3                /wiki/Conservative_Party_(UK)     Stephen Flynn   \n",
       "4                /wiki/Scottish_National_Party         Neil Gray   \n",
       "..                                         ...               ...   \n",
       "646              /wiki/Conservative_Party_(UK)       Marcus Fysh   \n",
       "647                    /wiki/Labour_Party_(UK)  Virginia Crosbie   \n",
       "648                  /wiki/Labour_Co-operative   Rachael Maskell   \n",
       "649              /wiki/Conservative_Party_(UK)     Julian Sturdy   \n",
       "650                                       None              None   \n",
       "\n",
       "                                Member returned_link_1  \\\n",
       "0    /wiki/File:Official_portrait_of_Stephen_Kinnoc...   \n",
       "1    /wiki/File:Official_portrait_of_Robin_Millar_M...   \n",
       "2    /wiki/File:Official_portrait_of_Kirsty_Blackma...   \n",
       "3                                                 None   \n",
       "4    /wiki/File:Official_portrait_of_Neil_Gray_MP_c...   \n",
       "..                                                 ...   \n",
       "646  /wiki/File:Official_portrait_of_Mr_Marcus_Fysh...   \n",
       "647                    /wiki/File:Virginia_Crosbie.jpg   \n",
       "648  /wiki/File:Official_portrait_of_Rachael_Maskel...   \n",
       "649  /wiki/File:Official_portrait_of_Julian_Sturdy_...   \n",
       "650                                               None   \n",
       "\n",
       "              Member returned_link_2 Party of incumbentafter election - 1  \\\n",
       "0              /wiki/Stephen_Kinnock                                        \n",
       "1    /wiki/Robin_Millar_(politician)                                        \n",
       "2              /wiki/Kirsty_Blackman                                        \n",
       "3                               None                                        \n",
       "4                    /wiki/Neil_Gray                                        \n",
       "..                               ...                                  ...   \n",
       "646                /wiki/Marcus_Fysh                                        \n",
       "647           /wiki/Virginia_Crosbie                                        \n",
       "648            /wiki/Rachael_Maskell                                        \n",
       "649              /wiki/Julian_Sturdy                                        \n",
       "650                             None                                 None   \n",
       "\n",
       "    Party of incumbentafter election - 2  \\\n",
       "0                                 Labour   \n",
       "1                           Conservative   \n",
       "2                      Scottish National   \n",
       "3                      Scottish National   \n",
       "4                      Scottish National   \n",
       "..                                   ...   \n",
       "646                         Conservative   \n",
       "647                         Conservative   \n",
       "648                  Labour Co-operative   \n",
       "649                         Conservative   \n",
       "650                                 None   \n",
       "\n",
       "    Party of incumbentafter election - 2_link  \\\n",
       "0                     /wiki/Labour_Party_(UK)   \n",
       "1               /wiki/Conservative_Party_(UK)   \n",
       "2               /wiki/Scottish_National_Party   \n",
       "3               /wiki/Scottish_National_Party   \n",
       "4               /wiki/Scottish_National_Party   \n",
       "..                                        ...   \n",
       "646             /wiki/Conservative_Party_(UK)   \n",
       "647             /wiki/Conservative_Party_(UK)   \n",
       "648                 /wiki/Labour_Co-operative   \n",
       "649             /wiki/Conservative_Party_(UK)   \n",
       "650                                      None   \n",
       "\n",
       "                                               Notes  \\\n",
       "0                                          Seat held   \n",
       "1       Previous incumbent, Guto Bebb, did not stand   \n",
       "2                                          Seat held   \n",
       "3    Previous incumbent, Ross Thomson, did not stand   \n",
       "4                                          Seat held   \n",
       "..                                               ...   \n",
       "646                                        Seat held   \n",
       "647   Previous incumbent, Albert Owen, did not stand   \n",
       "648                                        Seat held   \n",
       "649                                        Seat held   \n",
       "650                                             None   \n",
       "\n",
       "    Party of incumbentbefore election - 2_link_1  \\\n",
       "0                                           None   \n",
       "1                   /wiki/Independent_politician   \n",
       "2                                           None   \n",
       "3                                           None   \n",
       "4                                           None   \n",
       "..                                           ...   \n",
       "646                                         None   \n",
       "647                                         None   \n",
       "648                                         None   \n",
       "649                                         None   \n",
       "650                                         None   \n",
       "\n",
       "    Party of incumbentbefore election - 2_link_2          Notes_link  \\\n",
       "0                                           None                None   \n",
       "1                              #cite_note-fnC-14     /wiki/Guto_Bebb   \n",
       "2                                           None                None   \n",
       "3                                           None  /wiki/Ross_Thomson   \n",
       "4                                           None                None   \n",
       "..                                           ...                 ...   \n",
       "646                                         None                None   \n",
       "647                                         None   /wiki/Albert_Owen   \n",
       "648                                         None                None   \n",
       "649                                         None                None   \n",
       "650                                         None                None   \n",
       "\n",
       "                          Member returned_link  \\\n",
       "0                                         None   \n",
       "1                                         None   \n",
       "2                                         None   \n",
       "3    /wiki/Stephen_Flynn_(Scottish_politician)   \n",
       "4                                         None   \n",
       "..                                         ...   \n",
       "646                                       None   \n",
       "647                                       None   \n",
       "648                                       None   \n",
       "649                                       None   \n",
       "650                                       None   \n",
       "\n",
       "    Party of incumbentbefore election - 2_link_3  \\\n",
       "0                                           None   \n",
       "1                                           None   \n",
       "2                                           None   \n",
       "3                                           None   \n",
       "4                                           None   \n",
       "..                                           ...   \n",
       "646                                         None   \n",
       "647                                         None   \n",
       "648                                         None   \n",
       "649                                         None   \n",
       "650                                         None   \n",
       "\n",
       "    Party of incumbentafter election - 2_link_1  \\\n",
       "0                                          None   \n",
       "1                                          None   \n",
       "2                                          None   \n",
       "3                                          None   \n",
       "4                                          None   \n",
       "..                                          ...   \n",
       "646                                        None   \n",
       "647                                        None   \n",
       "648                                        None   \n",
       "649                                        None   \n",
       "650                                        None   \n",
       "\n",
       "    Party of incumbentafter election - 2_link_2  \n",
       "0                                          None  \n",
       "1                                          None  \n",
       "2                                          None  \n",
       "3                                          None  \n",
       "4                                          None  \n",
       "..                                          ...  \n",
       "646                                        None  \n",
       "647                                        None  \n",
       "648                                        None  \n",
       "649                                        None  \n",
       "650                                        None  \n",
       "\n",
       "[651 rows x 19 columns]"
      ]
     },
     "execution_count": 103,
     "metadata": {},
     "output_type": "execute_result"
    }
   ],
   "source": [
    "path = 'data/uk/parliament_2019.parquet'\n",
    "uk = pd.read_parquet(path)\n",
    "uk"
   ]
  },
  {
   "cell_type": "code",
   "execution_count": 105,
   "metadata": {},
   "outputs": [
    {
     "data": {
      "text/plain": [
       "array(['Labour', 'Independent[f]', 'Scottish National', 'Conservative',\n",
       "       'Plaid Cymru', 'Independent (The Independents)[g]', 'Vacant[h]',\n",
       "       'Liberal Democrats', 'Labour Co-operative', 'DUP', 'Sinn Féin',\n",
       "       'Birkenhead Social Justice[h]', 'Liberal Democrats[f]',\n",
       "       'Liberal Democrats[i]', 'Green', 'Change UK[f]', 'Vacant[j]',\n",
       "       'Independent[h]', 'Speaker[h]', 'Change UK[h]', 'Change UK[g]',\n",
       "       'Suspended[h]', 'Independent[g]', 'Liberal Democrats[g]',\n",
       "       'Independent', 'Liberal Democrats[h]', None], dtype=object)"
      ]
     },
     "execution_count": 105,
     "metadata": {},
     "output_type": "execute_result"
    }
   ],
   "source": [
    "uk['Party of incumbentbefore election - 2'].unique()"
   ]
  },
  {
   "cell_type": "code",
   "execution_count": 106,
   "metadata": {},
   "outputs": [],
   "source": [
    "# fill in the links\n",
    "\n",
    "def get_mp_link(row) -> str:\n",
    "    if row['Member returned_link_2']:\n",
    "        return row['Member returned_link_2']\n",
    "    else:\n",
    "        return row['Member returned_link']\n",
    "\n",
    "\n",
    "uk['mp_link'] = uk.apply(get_mp_link, axis=1)"
   ]
  },
  {
   "cell_type": "code",
   "execution_count": 107,
   "metadata": {},
   "outputs": [
    {
     "data": {
      "text/html": [
       "<div>\n",
       "<style scoped>\n",
       "    .dataframe tbody tr th:only-of-type {\n",
       "        vertical-align: middle;\n",
       "    }\n",
       "\n",
       "    .dataframe tbody tr th {\n",
       "        vertical-align: top;\n",
       "    }\n",
       "\n",
       "    .dataframe thead th {\n",
       "        text-align: right;\n",
       "    }\n",
       "</style>\n",
       "<table border=\"1\" class=\"dataframe\">\n",
       "  <thead>\n",
       "    <tr style=\"text-align: right;\">\n",
       "      <th></th>\n",
       "      <th>Constituency</th>\n",
       "      <th>Constituency_link</th>\n",
       "      <th>Party of incumbentbefore election - 1</th>\n",
       "      <th>Party of incumbentbefore election - 2</th>\n",
       "      <th>Party of incumbentbefore election - 2_link</th>\n",
       "      <th>Member returned</th>\n",
       "      <th>Member returned_link_1</th>\n",
       "      <th>Member returned_link_2</th>\n",
       "      <th>Party of incumbentafter election - 1</th>\n",
       "      <th>Party of incumbentafter election - 2</th>\n",
       "      <th>Party of incumbentafter election - 2_link</th>\n",
       "      <th>Notes</th>\n",
       "      <th>Party of incumbentbefore election - 2_link_1</th>\n",
       "      <th>Party of incumbentbefore election - 2_link_2</th>\n",
       "      <th>Notes_link</th>\n",
       "      <th>Member returned_link</th>\n",
       "      <th>Party of incumbentbefore election - 2_link_3</th>\n",
       "      <th>Party of incumbentafter election - 2_link_1</th>\n",
       "      <th>Party of incumbentafter election - 2_link_2</th>\n",
       "      <th>mp_link</th>\n",
       "    </tr>\n",
       "  </thead>\n",
       "  <tbody>\n",
       "    <tr>\n",
       "      <th>650</th>\n",
       "      <td>Source:[10]</td>\n",
       "      <td>#cite_note-21</td>\n",
       "      <td></td>\n",
       "      <td>None</td>\n",
       "      <td>None</td>\n",
       "      <td>None</td>\n",
       "      <td>None</td>\n",
       "      <td>None</td>\n",
       "      <td>None</td>\n",
       "      <td>None</td>\n",
       "      <td>None</td>\n",
       "      <td>None</td>\n",
       "      <td>None</td>\n",
       "      <td>None</td>\n",
       "      <td>None</td>\n",
       "      <td>None</td>\n",
       "      <td>None</td>\n",
       "      <td>None</td>\n",
       "      <td>None</td>\n",
       "      <td>None</td>\n",
       "    </tr>\n",
       "  </tbody>\n",
       "</table>\n",
       "</div>"
      ],
      "text/plain": [
       "    Constituency Constituency_link Party of incumbentbefore election - 1  \\\n",
       "650  Source:[10]     #cite_note-21                                         \n",
       "\n",
       "    Party of incumbentbefore election - 2  \\\n",
       "650                                  None   \n",
       "\n",
       "    Party of incumbentbefore election - 2_link Member returned  \\\n",
       "650                                       None            None   \n",
       "\n",
       "    Member returned_link_1 Member returned_link_2  \\\n",
       "650                   None                   None   \n",
       "\n",
       "    Party of incumbentafter election - 1 Party of incumbentafter election - 2  \\\n",
       "650                                 None                                 None   \n",
       "\n",
       "    Party of incumbentafter election - 2_link Notes  \\\n",
       "650                                      None  None   \n",
       "\n",
       "    Party of incumbentbefore election - 2_link_1  \\\n",
       "650                                         None   \n",
       "\n",
       "    Party of incumbentbefore election - 2_link_2 Notes_link  \\\n",
       "650                                         None       None   \n",
       "\n",
       "    Member returned_link Party of incumbentbefore election - 2_link_3  \\\n",
       "650                 None                                         None   \n",
       "\n",
       "    Party of incumbentafter election - 2_link_1  \\\n",
       "650                                        None   \n",
       "\n",
       "    Party of incumbentafter election - 2_link_2 mp_link  \n",
       "650                                        None    None  "
      ]
     },
     "execution_count": 107,
     "metadata": {},
     "output_type": "execute_result"
    }
   ],
   "source": [
    "uk[pd.isna(uk['mp_link'])]"
   ]
  },
  {
   "cell_type": "code",
   "execution_count": null,
   "metadata": {},
   "outputs": [],
   "source": []
  }
 ],
 "metadata": {
  "kernelspec": {
   "display_name": "Python 3.7.3 64-bit ('anaconda3': virtualenv)",
   "language": "python",
   "name": "python37364bitanaconda3virtualenv88986cb75c634e51ac130204ea9758ff"
  },
  "language_info": {
   "codemirror_mode": {
    "name": "ipython",
    "version": 3
   },
   "file_extension": ".py",
   "mimetype": "text/x-python",
   "name": "python",
   "nbconvert_exporter": "python",
   "pygments_lexer": "ipython3",
   "version": "3.7.3"
  }
 },
 "nbformat": 4,
 "nbformat_minor": 4
}
